{
  "nbformat": 4,
  "nbformat_minor": 0,
  "metadata": {
    "colab": {
      "name": "iku_colab.ipynb",
      "version": "0.3.2",
      "provenance": [],
      "collapsed_sections": [],
      "toc_visible": true,
      "include_colab_link": true
    },
    "kernelspec": {
      "name": "python3",
      "display_name": "Python 3"
    }
  },
  "cells": [
    {
      "cell_type": "markdown",
      "metadata": {
        "id": "view-in-github",
        "colab_type": "text"
      },
      "source": [
        "<a href=\"https://colab.research.google.com/github/vsrivatsan2096/iku/blob/master/iku_colab.ipynb\" target=\"_parent\"><img src=\"https://colab.research.google.com/assets/colab-badge.svg\" alt=\"Open In Colab\"/></a>"
      ]
    },
    {
      "metadata": {
        "id": "YA0lvWa30nJ-",
        "colab_type": "text"
      },
      "cell_type": "markdown",
      "source": [
        "# Pre-Trained embeddings"
      ]
    },
    {
      "metadata": {
        "id": "H_58Z2a5c61E",
        "colab_type": "code",
        "outputId": "efd46a5f-5f14-4351-f4b3-b9b4b7b6878c",
        "colab": {
          "base_uri": "https://localhost:8080/",
          "height": 204
        }
      },
      "cell_type": "code",
      "source": [
        "!wget \"https://s3.amazonaws.com/dl4j-distribution/GoogleNews-vectors-negative300.bin.gz\""
      ],
      "execution_count": 0,
      "outputs": [
        {
          "output_type": "stream",
          "text": [
            "--2019-03-13 16:50:47--  https://s3.amazonaws.com/dl4j-distribution/GoogleNews-vectors-negative300.bin.gz\n",
            "Resolving s3.amazonaws.com (s3.amazonaws.com)... 52.216.168.85\n",
            "Connecting to s3.amazonaws.com (s3.amazonaws.com)|52.216.168.85|:443... connected.\n",
            "HTTP request sent, awaiting response... 200 OK\n",
            "Length: 1647046227 (1.5G) [application/x-gzip]\n",
            "Saving to: ‘GoogleNews-vectors-negative300.bin.gz’\n",
            "\n",
            "GoogleNews-vectors- 100%[===================>]   1.53G  80.5MB/s    in 26s     \n",
            "\n",
            "2019-03-13 16:51:13 (60.5 MB/s) - ‘GoogleNews-vectors-negative300.bin.gz’ saved [1647046227/1647046227]\n",
            "\n"
          ],
          "name": "stdout"
        }
      ]
    },
    {
      "metadata": {
        "id": "lhUEkJz6xe0K",
        "colab_type": "code",
        "colab": {}
      },
      "cell_type": "code",
      "source": [
        "!wget \"http://nlp.stanford.edu/data/glove.840B.300d.zip\""
      ],
      "execution_count": 0,
      "outputs": []
    },
    {
      "metadata": {
        "id": "xz2QaMmnEtno",
        "colab_type": "code",
        "colab": {}
      },
      "cell_type": "code",
      "source": [
        "import os\n",
        "import zipfile"
      ],
      "execution_count": 0,
      "outputs": []
    },
    {
      "metadata": {
        "id": "ZbBklgBWcS3K",
        "colab_type": "code",
        "colab": {}
      },
      "cell_type": "code",
      "source": [
        "wiki_zip = zipfile.ZipFile('glove.840B.300d.zip')\n",
        "wiki_zip.extractall()\n",
        "os.remove(\"glove.840B.300d.zip\")"
      ],
      "execution_count": 0,
      "outputs": []
    },
    {
      "metadata": {
        "id": "Qf95jC9rGYMO",
        "colab_type": "code",
        "colab": {}
      },
      "cell_type": "code",
      "source": [
        "google_embeddings = 'GoogleNews-vectors-negative300.bin.gz'"
      ],
      "execution_count": 0,
      "outputs": []
    },
    {
      "metadata": {
        "id": "6LDgULXj9rl8",
        "colab_type": "code",
        "colab": {}
      },
      "cell_type": "code",
      "source": [
        "wiki_embeddings = 'glove.840B.300d.txt'"
      ],
      "execution_count": 0,
      "outputs": []
    },
    {
      "metadata": {
        "id": "LROOPCDizOR7",
        "colab_type": "text"
      },
      "cell_type": "markdown",
      "source": [
        "# Google Drive"
      ]
    },
    {
      "metadata": {
        "id": "a7k2AvW5uYhE",
        "colab_type": "code",
        "outputId": "a93d3bea-3421-45f8-f270-7f15511675c6",
        "colab": {
          "base_uri": "https://localhost:8080/",
          "height": 51
        }
      },
      "cell_type": "code",
      "source": [
        "# Install the PyDrive wrapper & import libraries.\n",
        "# This only needs to be done once per notebook.\n",
        "!pip install -U -q PyDrive\n",
        "from pydrive.auth import GoogleAuth\n",
        "from pydrive.drive import GoogleDrive\n",
        "from google.colab import auth\n",
        "from oauth2client.client import GoogleCredentials"
      ],
      "execution_count": 0,
      "outputs": [
        {
          "output_type": "stream",
          "text": [
            "\u001b[?25l\r\u001b[K    1% |▎                               | 10kB 19.9MB/s eta 0:00:01\r\u001b[K    2% |▋                               | 20kB 1.8MB/s eta 0:00:01\r\u001b[K    3% |█                               | 30kB 2.7MB/s eta 0:00:01\r\u001b[K    4% |█▎                              | 40kB 1.8MB/s eta 0:00:01\r\u001b[K    5% |█▋                              | 51kB 2.2MB/s eta 0:00:01\r\u001b[K    6% |██                              | 61kB 2.6MB/s eta 0:00:01\r\u001b[K    7% |██▎                             | 71kB 3.0MB/s eta 0:00:01\r\u001b[K    8% |██▋                             | 81kB 3.4MB/s eta 0:00:01\r\u001b[K    9% |███                             | 92kB 3.8MB/s eta 0:00:01\r\u001b[K    10% |███▎                            | 102kB 2.9MB/s eta 0:00:01\r\u001b[K    11% |███▋                            | 112kB 2.9MB/s eta 0:00:01\r\u001b[K    12% |████                            | 122kB 4.1MB/s eta 0:00:01\r\u001b[K    13% |████▎                           | 133kB 4.1MB/s eta 0:00:01\r\u001b[K    14% |████▋                           | 143kB 7.7MB/s eta 0:00:01\r\u001b[K    15% |█████                           | 153kB 7.8MB/s eta 0:00:01\r\u001b[K    16% |█████▎                          | 163kB 7.8MB/s eta 0:00:01\r\u001b[K    17% |█████▋                          | 174kB 7.8MB/s eta 0:00:01\r\u001b[K    18% |██████                          | 184kB 7.8MB/s eta 0:00:01\r\u001b[K    19% |██████▎                         | 194kB 7.9MB/s eta 0:00:01\r\u001b[K    20% |██████▋                         | 204kB 8.2MB/s eta 0:00:01\r\u001b[K    21% |███████                         | 215kB 8.2MB/s eta 0:00:01\r\u001b[K    22% |███████▎                        | 225kB 8.2MB/s eta 0:00:01\r\u001b[K    23% |███████▋                        | 235kB 8.4MB/s eta 0:00:01\r\u001b[K    24% |████████                        | 245kB 8.4MB/s eta 0:00:01\r\u001b[K    25% |████████▎                       | 256kB 8.4MB/s eta 0:00:01\r\u001b[K    26% |████████▋                       | 266kB 8.2MB/s eta 0:00:01\r\u001b[K    27% |█████████                       | 276kB 8.2MB/s eta 0:00:01\r\u001b[K    29% |█████████▎                      | 286kB 8.2MB/s eta 0:00:01\r\u001b[K    30% |█████████▋                      | 296kB 8.2MB/s eta 0:00:01\r\u001b[K    31% |██████████                      | 307kB 52.9MB/s eta 0:00:01\r\u001b[K    32% |██████████▎                     | 317kB 57.1MB/s eta 0:00:01\r\u001b[K    33% |██████████▋                     | 327kB 57.2MB/s eta 0:00:01\r\u001b[K    34% |███████████                     | 337kB 58.5MB/s eta 0:00:01\r\u001b[K    35% |███████████▎                    | 348kB 51.3MB/s eta 0:00:01\r\u001b[K    36% |███████████▋                    | 358kB 51.0MB/s eta 0:00:01\r\u001b[K    37% |████████████                    | 368kB 61.4MB/s eta 0:00:01\r\u001b[K    38% |████████████▎                   | 378kB 9.9MB/s eta 0:00:01\r\u001b[K    39% |████████████▋                   | 389kB 9.9MB/s eta 0:00:01\r\u001b[K    40% |█████████████                   | 399kB 9.9MB/s eta 0:00:01\r\u001b[K    41% |█████████████▎                  | 409kB 9.8MB/s eta 0:00:01\r\u001b[K    42% |█████████████▋                  | 419kB 9.8MB/s eta 0:00:01\r\u001b[K    43% |██████████████                  | 430kB 9.8MB/s eta 0:00:01\r\u001b[K    44% |██████████████▎                 | 440kB 9.8MB/s eta 0:00:01\r\u001b[K    45% |██████████████▋                 | 450kB 9.9MB/s eta 0:00:01\r\u001b[K    46% |███████████████                 | 460kB 9.8MB/s eta 0:00:01\r\u001b[K    47% |███████████████▎                | 471kB 9.8MB/s eta 0:00:01\r\u001b[K    48% |███████████████▋                | 481kB 59.2MB/s eta 0:00:01\r\u001b[K    49% |████████████████                | 491kB 60.3MB/s eta 0:00:01\r\u001b[K    50% |████████████████▎               | 501kB 61.3MB/s eta 0:00:01\r\u001b[K    51% |████████████████▋               | 512kB 56.1MB/s eta 0:00:01\r\u001b[K    52% |█████████████████               | 522kB 57.2MB/s eta 0:00:01\r\u001b[K    53% |█████████████████▎              | 532kB 9.0MB/s eta 0:00:01\r\u001b[K    54% |█████████████████▋              | 542kB 8.8MB/s eta 0:00:01\r\u001b[K    55% |██████████████████              | 552kB 8.9MB/s eta 0:00:01\r\u001b[K    57% |██████████████████▎             | 563kB 9.0MB/s eta 0:00:01\r\u001b[K    58% |██████████████████▋             | 573kB 8.9MB/s eta 0:00:01\r\u001b[K    59% |███████████████████             | 583kB 8.9MB/s eta 0:00:01\r\u001b[K    60% |███████████████████▎            | 593kB 8.9MB/s eta 0:00:01\r\u001b[K    61% |███████████████████▋            | 604kB 8.9MB/s eta 0:00:01\r\u001b[K    62% |████████████████████            | 614kB 9.0MB/s eta 0:00:01\r\u001b[K    63% |████████████████████▎           | 624kB 9.0MB/s eta 0:00:01\r\u001b[K    64% |████████████████████▋           | 634kB 62.5MB/s eta 0:00:01\r\u001b[K    65% |█████████████████████           | 645kB 68.7MB/s eta 0:00:01\r\u001b[K    66% |█████████████████████▎          | 655kB 69.8MB/s eta 0:00:01\r\u001b[K    67% |█████████████████████▋          | 665kB 48.5MB/s eta 0:00:01\r\u001b[K    68% |██████████████████████          | 675kB 48.9MB/s eta 0:00:01\r\u001b[K    69% |██████████████████████▎         | 686kB 49.3MB/s eta 0:00:01\r\u001b[K    70% |██████████████████████▋         | 696kB 49.6MB/s eta 0:00:01\r\u001b[K    71% |███████████████████████         | 706kB 49.5MB/s eta 0:00:01\r\u001b[K    72% |███████████████████████▎        | 716kB 49.6MB/s eta 0:00:01\r\u001b[K    73% |███████████████████████▋        | 727kB 49.9MB/s eta 0:00:01\r\u001b[K    74% |████████████████████████        | 737kB 49.4MB/s eta 0:00:01\r\u001b[K    75% |████████████████████████▎       | 747kB 49.9MB/s eta 0:00:01\r\u001b[K    76% |████████████████████████▋       | 757kB 49.9MB/s eta 0:00:01\r\u001b[K    77% |████████████████████████▉       | 768kB 77.0MB/s eta 0:00:01\r\u001b[K    78% |█████████████████████████▏      | 778kB 77.4MB/s eta 0:00:01\r\u001b[K    79% |█████████████████████████▌      | 788kB 76.5MB/s eta 0:00:01\r\u001b[K    80% |█████████████████████████▉      | 798kB 77.8MB/s eta 0:00:01\r\u001b[K    81% |██████████████████████████▏     | 808kB 78.3MB/s eta 0:00:01\r\u001b[K    82% |██████████████████████████▌     | 819kB 78.0MB/s eta 0:00:01\r\u001b[K    83% |██████████████████████████▉     | 829kB 78.1MB/s eta 0:00:01\r\u001b[K    85% |███████████████████████████▏    | 839kB 78.6MB/s eta 0:00:01\r\u001b[K    86% |███████████████████████████▌    | 849kB 76.8MB/s eta 0:00:01\r\u001b[K    87% |███████████████████████████▉    | 860kB 64.7MB/s eta 0:00:01\r\u001b[K    88% |████████████████████████████▏   | 870kB 62.8MB/s eta 0:00:01\r\u001b[K    89% |████████████████████████████▌   | 880kB 64.6MB/s eta 0:00:01\r\u001b[K    90% |████████████████████████████▉   | 890kB 65.3MB/s eta 0:00:01\r\u001b[K    91% |█████████████████████████████▏  | 901kB 65.4MB/s eta 0:00:01\r\u001b[K    92% |█████████████████████████████▌  | 911kB 64.7MB/s eta 0:00:01\r\u001b[K    93% |█████████████████████████████▉  | 921kB 64.8MB/s eta 0:00:01\r\u001b[K    94% |██████████████████████████████▏ | 931kB 64.8MB/s eta 0:00:01\r\u001b[K    95% |██████████████████████████████▌ | 942kB 65.3MB/s eta 0:00:01\r\u001b[K    96% |██████████████████████████████▉ | 952kB 65.8MB/s eta 0:00:01\r\u001b[K    97% |███████████████████████████████▏| 962kB 80.4MB/s eta 0:00:01\r\u001b[K    98% |███████████████████████████████▌| 972kB 16.0MB/s eta 0:00:01\r\u001b[K    99% |███████████████████████████████▉| 983kB 15.8MB/s eta 0:00:01\r\u001b[K    100% |████████████████████████████████| 993kB 9.9MB/s \n",
            "\u001b[?25h  Building wheel for PyDrive (setup.py) ... \u001b[?25ldone\n",
            "\u001b[?25h"
          ],
          "name": "stdout"
        }
      ]
    },
    {
      "metadata": {
        "id": "0ZfLYejTwP32",
        "colab_type": "code",
        "colab": {}
      },
      "cell_type": "code",
      "source": [
        "# Authenticate and create the PyDrive client.\n",
        "# This only needs to be done once per notebook.\n",
        "auth.authenticate_user()\n",
        "gauth = GoogleAuth()\n",
        "gauth.credentials = GoogleCredentials.get_application_default()\n",
        "drive = GoogleDrive(gauth)"
      ],
      "execution_count": 0,
      "outputs": []
    },
    {
      "metadata": {
        "id": "nbKqoOnTvHUI",
        "colab_type": "code",
        "colab": {}
      },
      "cell_type": "code",
      "source": [
        "# Download a file based on its file ID.\n",
        "#\n",
        "# A file ID looks like: laggVyWshwcyP6kEI-y_W3P8D26sz\n",
        "file_id = '1bqdQccb6176JhXU7CZbWnv3vTAi7BH_-'\n",
        "downloaded = drive.CreateFile({'id': file_id})\n",
        "downloaded.GetContentFile('questions.csv')"
      ],
      "execution_count": 0,
      "outputs": []
    },
    {
      "metadata": {
        "id": "V7AynTQNN0C4",
        "colab_type": "text"
      },
      "cell_type": "markdown",
      "source": [
        "# Mount Drive"
      ]
    },
    {
      "metadata": {
        "id": "-Jb5W6DRNyA0",
        "colab_type": "code",
        "colab": {
          "base_uri": "https://localhost:8080/",
          "height": 54
        },
        "outputId": "aeaaaf69-168e-4d88-af8c-763b0079be57"
      },
      "cell_type": "code",
      "source": [
        "from google.colab import drive\n",
        "drive.mount('/content/drive')"
      ],
      "execution_count": 5,
      "outputs": [
        {
          "output_type": "stream",
          "text": [
            "Drive already mounted at /content/drive; to attempt to forcibly remount, call drive.mount(\"/content/drive\", force_remount=True).\n"
          ],
          "name": "stdout"
        }
      ]
    },
    {
      "metadata": {
        "id": "sS9d8_RGP9bh",
        "colab_type": "text"
      },
      "cell_type": "markdown",
      "source": [
        "# Cloning Github"
      ]
    },
    {
      "metadata": {
        "id": "wCu3Avw7PVey",
        "colab_type": "code",
        "colab": {
          "base_uri": "https://localhost:8080/",
          "height": 136
        },
        "outputId": "39a51606-6cdc-459e-8793-70dafc362f12"
      },
      "cell_type": "code",
      "source": [
        "!git clone https://github.com/vsrivatsan2096/iku.git"
      ],
      "execution_count": 7,
      "outputs": [
        {
          "output_type": "stream",
          "text": [
            "Cloning into 'iku'...\n",
            "remote: Enumerating objects: 189, done.\u001b[K\n",
            "remote: Counting objects:   0% (1/189)   \u001b[K\rremote: Counting objects:   1% (2/189)   \u001b[K\rremote: Counting objects:   2% (4/189)   \u001b[K\rremote: Counting objects:   3% (6/189)   \u001b[K\rremote: Counting objects:   4% (8/189)   \u001b[K\rremote: Counting objects:   5% (10/189)   \u001b[K\rremote: Counting objects:   6% (12/189)   \u001b[K\rremote: Counting objects:   7% (14/189)   \u001b[K\rremote: Counting objects:   8% (16/189)   \u001b[K\rremote: Counting objects:   9% (18/189)   \u001b[K\rremote: Counting objects:  10% (19/189)   \u001b[K\rremote: Counting objects:  11% (21/189)   \u001b[K\rremote: Counting objects:  12% (23/189)   \u001b[K\rremote: Counting objects:  13% (25/189)   \u001b[K\rremote: Counting objects:  14% (27/189)   \u001b[K\rremote: Counting objects:  15% (29/189)   \u001b[K\rremote: Counting objects:  16% (31/189)   \u001b[K\rremote: Counting objects:  17% (33/189)   \u001b[K\rremote: Counting objects:  18% (35/189)   \u001b[K\rremote: Counting objects:  19% (36/189)   \u001b[K\rremote: Counting objects:  20% (38/189)   \u001b[K\rremote: Counting objects:  21% (40/189)   \u001b[K\rremote: Counting objects:  22% (42/189)   \u001b[K\rremote: Counting objects:  23% (44/189)   \u001b[K\rremote: Counting objects:  24% (46/189)   \u001b[K\rremote: Counting objects:  25% (48/189)   \u001b[K\rremote: Counting objects:  26% (50/189)   \u001b[K\rremote: Counting objects:  27% (52/189)   \u001b[K\rremote: Counting objects:  28% (53/189)   \u001b[K\rremote: Counting objects:  29% (55/189)   \u001b[K\rremote: Counting objects:  30% (57/189)   \u001b[K\rremote: Counting objects:  31% (59/189)   \u001b[K\rremote: Counting objects:  32% (61/189)   \u001b[K\rremote: Counting objects:  33% (63/189)   \u001b[K\rremote: Counting objects:  34% (65/189)   \u001b[K\rremote: Counting objects:  35% (67/189)   \u001b[K\rremote: Counting objects:  36% (69/189)   \u001b[K\rremote: Counting objects:  37% (70/189)   \rremote: Counting objects:  38% (72/189)   \u001b[K\rremote: Counting objects:  39% (74/189)   \u001b[K\rremote: Counting objects:  40% (76/189)   \u001b[K\rremote: Counting objects:  41% (78/189)   \u001b[K\rremote: Counting objects:  42% (80/189)   \u001b[K\rremote: Counting objects:  43% (82/189)   \u001b[K\rremote: Counting objects:  44% (84/189)   \u001b[K\rremote: Counting objects:  45% (86/189)   \u001b[K\rremote: Counting objects:  46% (87/189)   \u001b[K\rremote: Counting objects:  47% (89/189)   \u001b[K\rremote: Counting objects:  48% (91/189)   \u001b[K\rremote: Counting objects:  49% (93/189)   \u001b[K\rremote: Counting objects:  50% (95/189)   \u001b[K\rremote: Counting objects:  51% (97/189)   \u001b[K\rremote: Counting objects:  52% (99/189)   \u001b[K\rremote: Counting objects:  53% (101/189)   \u001b[K\rremote: Counting objects:  54% (103/189)   \u001b[K\rremote: Counting objects:  55% (104/189)   \u001b[K\rremote: Counting objects:  56% (106/189)   \u001b[K\rremote: Counting objects:  57% (108/189)   \u001b[K\rremote: Counting objects:  58% (110/189)   \u001b[K\rremote: Counting objects:  59% (112/189)   \u001b[K\rremote: Counting objects:  60% (114/189)   \u001b[K\rremote: Counting objects:  61% (116/189)   \u001b[K\rremote: Counting objects:  62% (118/189)   \u001b[K\rremote: Counting objects:  63% (120/189)   \u001b[K\rremote: Counting objects:  64% (121/189)   \u001b[K\rremote: Counting objects:  65% (123/189)   \u001b[K\rremote: Counting objects:  66% (125/189)   \u001b[K\rremote: Counting objects:  67% (127/189)   \u001b[K\rremote: Counting objects:  68% (129/189)   \u001b[K\rremote: Counting objects:  69% (131/189)   \u001b[K\rremote: Counting objects:  70% (133/189)   \u001b[K\rremote: Counting objects:  71% (135/189)   \u001b[K\rremote: Counting objects:  72% (137/189)   \u001b[K\rremote: Counting objects:  73% (138/189)   \u001b[K\rremote: Counting objects:  74% (140/189)   \u001b[K\rremote: Counting objects:  75% (142/189)   \u001b[K\rremote: Counting objects:  76% (144/189)   \u001b[K\rremote: Counting objects:  77% (146/189)   \u001b[K\rremote: Counting objects:  78% (148/189)   \u001b[K\rremote: Counting objects:  79% (150/189)   \u001b[K\rremote: Counting objects:  80% (152/189)   \u001b[K\rremote: Counting objects:  81% (154/189)   \u001b[K\rremote: Counting objects:  82% (155/189)   \u001b[K\rremote: Counting objects:  83% (157/189)   \u001b[K\rremote: Counting objects:  84% (159/189)   \u001b[K\rremote: Counting objects:  85% (161/189)   \u001b[K\rremote: Counting objects:  86% (163/189)   \u001b[K\rremote: Counting objects:  87% (165/189)   \u001b[K\rremote: Counting objects:  88% (167/189)   \u001b[K\rremote: Counting objects:  89% (169/189)   \u001b[K\rremote: Counting objects:  90% (171/189)   \u001b[K\rremote: Counting objects:  91% (172/189)   \u001b[K\rremote: Counting objects:  92% (174/189)   \u001b[K\rremote: Counting objects:  93% (176/189)   \u001b[K\rremote: Counting objects:  94% (178/189)   \u001b[K\rremote: Counting objects:  95% (180/189)   \u001b[K\rremote: Counting objects:  96% (182/189)   \u001b[K\rremote: Counting objects:  97% (184/189)   \u001b[K\rremote: Counting objects:  98% (186/189)   \u001b[K\rremote: Counting objects:  99% (188/189)   \u001b[K\rremote: Counting objects: 100% (189/189)   \u001b[K\rremote: Counting objects: 100% (189/189), done.\u001b[K\n",
            "remote: Compressing objects:   0% (1/146)   \u001b[K\rremote: Compressing objects:   1% (2/146)   \u001b[K\rremote: Compressing objects:   2% (3/146)   \u001b[K\rremote: Compressing objects:   3% (5/146)   \u001b[K\rremote: Compressing objects:   4% (6/146)   \u001b[K\rremote: Compressing objects:   5% (8/146)   \u001b[K\rremote: Compressing objects:   6% (9/146)   \u001b[K\rremote: Compressing objects:   7% (11/146)   \u001b[K\rremote: Compressing objects:   8% (12/146)   \u001b[K\rremote: Compressing objects:   9% (14/146)   \u001b[K\rremote: Compressing objects:  10% (15/146)   \u001b[K\rremote: Compressing objects:  11% (17/146)   \u001b[K\rremote: Compressing objects:  12% (18/146)   \u001b[K\rremote: Compressing objects:  13% (19/146)   \u001b[K\rremote: Compressing objects:  14% (21/146)   \u001b[K\rremote: Compressing objects:  15% (22/146)   \u001b[K\rremote: Compressing objects:  16% (24/146)   \u001b[K\rremote: Compressing objects:  17% (25/146)   \u001b[K\rremote: Compressing objects:  18% (27/146)   \u001b[K\rremote: Compressing objects:  19% (28/146)   \u001b[K\rremote: Compressing objects:  20% (30/146)   \u001b[K\rremote: Compressing objects:  21% (31/146)   \u001b[K\rremote: Compressing objects:  22% (33/146)   \u001b[K\rremote: Compressing objects:  23% (34/146)   \u001b[K\rremote: Compressing objects:  24% (36/146)   \u001b[K\rremote: Compressing objects:  25% (37/146)   \u001b[K\rremote: Compressing objects:  26% (38/146)   \u001b[K\rremote: Compressing objects:  27% (40/146)   \u001b[K\rremote: Compressing objects:  28% (41/146)   \u001b[K\rremote: Compressing objects:  29% (43/146)   \u001b[K\rremote: Compressing objects:  30% (44/146)   \u001b[K\rremote: Compressing objects:  31% (46/146)   \u001b[K\rremote: Compressing objects:  32% (47/146)   \u001b[K\rremote: Compressing objects:  33% (49/146)   \u001b[K\rremote: Compressing objects:  34% (50/146)   \u001b[K\rremote: Compressing objects:  35% (52/146)   \u001b[K\rremote: Compressing objects:  36% (53/146)   \u001b[K\rremote: Compressing objects:  37% (55/146)   \u001b[K\rremote: Compressing objects:  38% (56/146)   \u001b[K\rremote: Compressing objects:  39% (57/146)   \u001b[K\rremote: Compressing objects:  40% (59/146)   \u001b[K\rremote: Compressing objects:  41% (60/146)   \u001b[K\rremote: Compressing objects:  42% (62/146)   \u001b[K\rremote: Compressing objects:  43% (63/146)   \u001b[K\rremote: Compressing objects:  44% (65/146)   \u001b[K\rremote: Compressing objects:  45% (66/146)   \u001b[K\rremote: Compressing objects:  46% (68/146)   \u001b[K\rremote: Compressing objects:  47% (69/146)   \u001b[K\rremote: Compressing objects:  48% (71/146)   \u001b[K\rremote: Compressing objects:  49% (72/146)   \u001b[K\rremote: Compressing objects:  50% (73/146)   \u001b[K\rremote: Compressing objects:  51% (75/146)   \u001b[K\rremote: Compressing objects:  52% (76/146)   \u001b[K\rremote: Compressing objects:  53% (78/146)   \u001b[K\rremote: Compressing objects:  54% (79/146)   \u001b[K\rremote: Compressing objects:  55% (81/146)   \u001b[K\rremote: Compressing objects:  56% (82/146)   \u001b[K\rremote: Compressing objects:  57% (84/146)   \u001b[K\rremote: Compressing objects:  58% (85/146)   \u001b[K\rremote: Compressing objects:  59% (87/146)   \u001b[K\rremote: Compressing objects:  60% (88/146)   \u001b[K\rremote: Compressing objects:  61% (90/146)   \u001b[K\rremote: Compressing objects:  62% (91/146)   \u001b[K\rremote: Compressing objects:  63% (92/146)   \u001b[K\rremote: Compressing objects:  64% (94/146)   \u001b[K\rremote: Compressing objects:  65% (95/146)   \u001b[K\rremote: Compressing objects:  66% (97/146)   \u001b[K\rremote: Compressing objects:  67% (98/146)   \u001b[K\rremote: Compressing objects:  68% (100/146)   \u001b[K\rremote: Compressing objects:  69% (101/146)   \u001b[K\rremote: Compressing objects:  70% (103/146)   \u001b[K\rremote: Compressing objects:  71% (104/146)   \u001b[K\rremote: Compressing objects:  72% (106/146)   \u001b[K\rremote: Compressing objects:  73% (107/146)   \u001b[K\rremote: Compressing objects:  74% (109/146)   \u001b[K\rremote: Compressing objects:  75% (110/146)   \u001b[K\rremote: Compressing objects:  76% (111/146)   \u001b[K\rremote: Compressing objects:  77% (113/146)   \u001b[K\rremote: Compressing objects:  78% (114/146)   \u001b[K\rremote: Compressing objects:  79% (116/146)   \u001b[K\rremote: Compressing objects:  80% (117/146)   \u001b[K\rremote: Compressing objects:  81% (119/146)   \u001b[K\rremote: Compressing objects:  82% (120/146)   \u001b[K\rremote: Compressing objects:  83% (122/146)   \u001b[K\rremote: Compressing objects:  84% (123/146)   \u001b[K\rremote: Compressing objects:  85% (125/146)   \u001b[K\rremote: Compressing objects:  86% (126/146)   \u001b[K\rremote: Compressing objects:  87% (128/146)   \u001b[K\rremote: Compressing objects:  88% (129/146)   \u001b[K\rremote: Compressing objects:  89% (130/146)   \u001b[K\rremote: Compressing objects:  90% (132/146)   \u001b[K\rremote: Compressing objects:  91% (133/146)   \u001b[K\rremote: Compressing objects:  92% (135/146)   \u001b[K\rremote: Compressing objects:  93% (136/146)   \u001b[K\rremote: Compressing objects:  94% (138/146)   \u001b[K\rremote: Compressing objects:  95% (139/146)   \u001b[K\rremote: Compressing objects:  96% (141/146)   \u001b[K\rremote: Compressing objects:  97% (142/146)   \u001b[K\rremote: Compressing objects:  98% (144/146)   \u001b[K\rremote: Compressing objects:  99% (145/146)   \u001b[K\rremote: Compressing objects: 100% (146/146)   \u001b[K\rremote: Compressing objects: 100% (146/146), done.\u001b[K\n",
            "remote: Total 189 (delta 43), reused 170 (delta 27), pack-reused 0\u001b[K\n",
            "Receiving objects: 100% (189/189), 10.13 MiB | 19.00 MiB/s, done.\n",
            "Resolving deltas: 100% (43/43), done.\n"
          ],
          "name": "stdout"
        }
      ]
    },
    {
      "metadata": {
        "id": "2cX15jqK0kQE",
        "colab_type": "text"
      },
      "cell_type": "markdown",
      "source": [
        "# Dataset"
      ]
    },
    {
      "metadata": {
        "id": "AToL1N8och8h",
        "colab_type": "code",
        "colab": {}
      },
      "cell_type": "code",
      "source": [
        "import numpy as np\n",
        "import pandas as pd\n",
        "import multiprocessing"
      ],
      "execution_count": 0,
      "outputs": []
    },
    {
      "metadata": {
        "id": "1ml9TK9GdBB0",
        "colab_type": "code",
        "colab": {}
      },
      "cell_type": "code",
      "source": [
        "questions = pd.read_csv(\"questions.csv\")\n",
        "questions.dropna(inplace=True)"
      ],
      "execution_count": 0,
      "outputs": []
    },
    {
      "metadata": {
        "id": "BeH-ujJPdFfc",
        "colab_type": "code",
        "colab": {}
      },
      "cell_type": "code",
      "source": [
        "questions1 = questions.iloc[:, 3].values\n",
        "questions2 = questions.iloc[:, 4].values\n",
        "is_duplicate_questions = questions.iloc[:, 5].values"
      ],
      "execution_count": 0,
      "outputs": []
    },
    {
      "metadata": {
        "id": "li__DEcWdJxf",
        "colab_type": "code",
        "colab": {}
      },
      "cell_type": "code",
      "source": [
        "length = is_duplicate_questions.shape[0]"
      ],
      "execution_count": 0,
      "outputs": []
    },
    {
      "metadata": {
        "id": "aQ9LgcCx0cOW",
        "colab_type": "text"
      },
      "cell_type": "markdown",
      "source": [
        "# Scores"
      ]
    },
    {
      "metadata": {
        "id": "CjAZV710lP7R",
        "colab_type": "code",
        "colab": {}
      },
      "cell_type": "code",
      "source": [
        "from sklearn.metrics.pairwise import cosine_similarity\n",
        "from sklearn.metrics.pairwise import manhattan_distances\n",
        "from sklearn.metrics.pairwise import euclidean_distances\n",
        "from sklearn.metrics import jaccard_similarity_score\n",
        "from sklearn.neighbors import DistanceMetric"
      ],
      "execution_count": 0,
      "outputs": []
    },
    {
      "metadata": {
        "id": "fgOHL_9DlPzO",
        "colab_type": "code",
        "colab": {}
      },
      "cell_type": "code",
      "source": [
        "class Scores(object):\n",
        "    def __init__(self, sentences1, sentences2, length):\n",
        "        self.sentences1 = sentences1\n",
        "        self.sentences2 = sentences2\n",
        "        self.length = length\n",
        "        self.scores = np.zeros((length, 4))\n",
        "    \n",
        "    def cosine_similarity(self, sentence1, sentence2):\n",
        "        return cosine_similarity(sentence1.reshape(1, -1), sentence2.reshape(1, -1))\n",
        "    \n",
        "    def manhattan_distances(self, sentence1, sentence2):\n",
        "        return manhattan_distances(sentence1.reshape(1, -1), sentence2.reshape(1, -1))\n",
        "    \n",
        "    def euclidean_distances(self, sentence1, sentence2):\n",
        "        return euclidean_distances(sentence1.reshape(1, -1), sentence2.reshape(1, -1))\n",
        "    \n",
        "    def jaccard_similarity(self, sentence1, sentence2):\n",
        "        jac_score = 0\n",
        "        try:\n",
        "            jac_score = jaccard_similarity_score(sentence1.reshape(1, -1), sentence2.reshape(1, -1))\n",
        "        finally:\n",
        "            return jac_score\n",
        "\n",
        "    def minkowski_distances(self, sentence1, sentence2):\n",
        "        minkowski_distance = DistanceMetric.get_metric('minkowski')\n",
        "        return minkowski_distance.pairwise(sentence1.reshape(1, -1), sentence2.reshape(1, -1))\n",
        "\n",
        "    \n",
        "    def get_scores(self):\n",
        "        scores = [['cosine similarity', 'manhattan distances', 'euclidean distances', 'jaccard similarity', ]]\n",
        "        for each in range(self.length):\n",
        "            each_score = []\n",
        "            each_score.append(self.cosine_similarity(self.sentences1[each], self.sentences2[each])[0][0])\n",
        "            each_score.append(self.manhattan_distances(self.sentences1[each], self.sentences2[each])[0][0])\n",
        "            each_score.append(self.euclidean_distances(self.sentences1[each], self.sentences2[each])[0][0])\n",
        "            #each_score.append(self.jaccard_similarity(self.sentences1[each], self.sentences2[each]))\n",
        "            each_score.append(self.minkowski_distances(self.sentences1[each], self.sentences2[each])[0][0])\n",
        "            self.scores[each] = np.asarray(each_score)\n",
        "        return self.scores"
      ],
      "execution_count": 0,
      "outputs": []
    },
    {
      "metadata": {
        "id": "samoGkG70Xd3",
        "colab_type": "text"
      },
      "cell_type": "markdown",
      "source": [
        "# NLP Preprocessing"
      ]
    },
    {
      "metadata": {
        "id": "rW-JsLX-dMZM",
        "colab_type": "code",
        "colab": {}
      },
      "cell_type": "code",
      "source": [
        "import re\n",
        "import nltk\n",
        "from nltk.corpus import stopwords\n",
        "from nltk.stem import WordNetLemmatizer"
      ],
      "execution_count": 0,
      "outputs": []
    },
    {
      "metadata": {
        "id": "mzcJVsiudRYz",
        "colab_type": "code",
        "outputId": "21e5ebc8-d1ca-453b-ecbd-5909b0a217db",
        "colab": {
          "base_uri": "https://localhost:8080/",
          "height": 136
        }
      },
      "cell_type": "code",
      "source": [
        "nltk.download('punkt')\n",
        "nltk.download('stopwords')\n",
        "nltk.download('wordnet')"
      ],
      "execution_count": 0,
      "outputs": [
        {
          "output_type": "stream",
          "text": [
            "[nltk_data] Downloading package punkt to /root/nltk_data...\n",
            "[nltk_data]   Unzipping tokenizers/punkt.zip.\n",
            "[nltk_data] Downloading package stopwords to /root/nltk_data...\n",
            "[nltk_data]   Unzipping corpora/stopwords.zip.\n",
            "[nltk_data] Downloading package wordnet to /root/nltk_data...\n",
            "[nltk_data]   Unzipping corpora/wordnet.zip.\n"
          ],
          "name": "stdout"
        },
        {
          "output_type": "execute_result",
          "data": {
            "text/plain": [
              "True"
            ]
          },
          "metadata": {
            "tags": []
          },
          "execution_count": 13
        }
      ]
    },
    {
      "metadata": {
        "id": "rjbcPYSedRXH",
        "colab_type": "code",
        "colab": {}
      },
      "cell_type": "code",
      "source": [
        "lemma = WordNetLemmatizer()\n",
        "stopword = stopwords.words(\"english\")"
      ],
      "execution_count": 0,
      "outputs": []
    },
    {
      "metadata": {
        "id": "-K2yeobvdRTr",
        "colab_type": "code",
        "colab": {}
      },
      "cell_type": "code",
      "source": [
        "sentences1 = []\n",
        "for i in questions1:\n",
        "    tempx = re.sub(r\"[^A-Za-z]\", \" \", str(i))\n",
        "    tempx = tempx.lower().split()\n",
        "    tempx = [word for word in tempx if word not in stopword]\n",
        "    tempx = [lemma.lemmatize(word, pos=\"a\") for word in tempx]\n",
        "    tempx = [lemma.lemmatize(word, pos=\"r\") for word in tempx]\n",
        "    tempx = [lemma.lemmatize(word, pos=\"n\") for word in tempx]\n",
        "    tempx = [lemma.lemmatize(word, pos=\"v\") for word in tempx]\n",
        "    sentences1.append(\" \".join(tempx))\n",
        "sentences1 = np.asarray(sentences1)"
      ],
      "execution_count": 0,
      "outputs": []
    },
    {
      "metadata": {
        "id": "DS1dzLEGdRQ3",
        "colab_type": "code",
        "colab": {}
      },
      "cell_type": "code",
      "source": [
        "sentences2 = []\n",
        "for i in questions2:\n",
        "    tempx = re.sub(r\"[^A-Za-z]\", \" \", str(i))\n",
        "    tempx = tempx.lower().split()\n",
        "    tempx = [word for word in tempx if word not in stopword]\n",
        "    tempx = [lemma.lemmatize(word, pos=\"a\") for word in tempx]\n",
        "    tempx = [lemma.lemmatize(word, pos=\"r\") for word in tempx]\n",
        "    tempx = [lemma.lemmatize(word, pos=\"n\") for word in tempx]\n",
        "    tempx = [lemma.lemmatize(word, pos=\"v\") for word in tempx]\n",
        "    sentences2.append(\" \".join(tempx))\n",
        "sentences2 = np.asarray(sentences2)"
      ],
      "execution_count": 0,
      "outputs": []
    },
    {
      "metadata": {
        "id": "lFZzS-UY0VMw",
        "colab_type": "text"
      },
      "cell_type": "markdown",
      "source": [
        "# LSA"
      ]
    },
    {
      "metadata": {
        "id": "BAZOFM4gHQ4x",
        "colab_type": "code",
        "colab": {}
      },
      "cell_type": "code",
      "source": [
        "from sklearn.pipeline import Pipeline\n",
        "from sklearn.decomposition import TruncatedSVD\n",
        "from sklearn.feature_extraction.text import CountVectorizer, TfidfTransformer"
      ],
      "execution_count": 0,
      "outputs": []
    },
    {
      "metadata": {
        "id": "MrW7a5yFwUao",
        "colab_type": "code",
        "colab": {}
      },
      "cell_type": "code",
      "source": [
        "class LatentSemanticAnalysis(object):\n",
        "    def __init__(self, sentences1, sentences2):\n",
        "        self.sentences1 = sentences1\n",
        "        self.sentences2 = sentences2\n",
        "        self.sentences = np.append(sentences1, sentences2, axis=0)\n",
        "\n",
        "    def get_count_vectorizer(self):\n",
        "        count_vectorizer = CountVectorizer(input='content', encoding='utf-8', decode_error='strict', \n",
        "                    strip_accents=None, lowercase=True, preprocessor=None, tokenizer=None, \n",
        "                    stop_words=None, ngram_range=(1, 1), analyzer='word', max_df=1.0, min_df=1, \n",
        "                    max_features=None, vocabulary=None, binary=False)\n",
        "        return count_vectorizer\n",
        "    \n",
        "    def get_tf_idf_transformer(self):\n",
        "        tf_idf_transformer = TfidfTransformer(norm='l2', use_idf=True, smooth_idf=True, sublinear_tf=False)\n",
        "        return tf_idf_transformer\n",
        "\n",
        "    def get_svd(self):\n",
        "        svd = TruncatedSVD(n_components=2, algorithm='randomized', n_iter=5, random_state=None, tol=0.0)\n",
        "        return svd\n",
        "    \n",
        "    def get_lsa(self):\n",
        "        count_vectorizer = self.get_count_vectorizer()\n",
        "        tf_idf_transformer = self.get_tf_idf_transformer()\n",
        "        svd = self.get_svd()\n",
        "        lsa = Pipeline([('count vectorizer', count_vectorizer), \n",
        "                        ('tfidf', tf_idf_transformer), \n",
        "                        ('svd', svd)])\n",
        "        return lsa\n",
        "    \n",
        "    def fit_transform(self):\n",
        "        lsa = self.get_lsa()\n",
        "        lsa.fit(self.sentences)\n",
        "        lsa_sentences_1 = lsa.transform(self.sentences1)\n",
        "        lsa_sentences_2 = lsa.transform(self.sentences2)\n",
        "        return lsa_sentences_1, lsa_sentences_2"
      ],
      "execution_count": 0,
      "outputs": []
    },
    {
      "metadata": {
        "id": "p04dBPaewVXY",
        "colab_type": "code",
        "colab": {}
      },
      "cell_type": "code",
      "source": [
        "lsa_method = LatentSemanticAnalysis(sentences1, sentences2)"
      ],
      "execution_count": 0,
      "outputs": []
    },
    {
      "metadata": {
        "id": "8qAXHESlGz9s",
        "colab_type": "code",
        "colab": {}
      },
      "cell_type": "code",
      "source": [
        "lsa_1, lsa_2 = lsa_method.fit_transform()"
      ],
      "execution_count": 0,
      "outputs": []
    },
    {
      "metadata": {
        "id": "3wDyIXabe6ny",
        "colab_type": "code",
        "colab": {}
      },
      "cell_type": "code",
      "source": [
        "scores = Scores(lsa_1, lsa_2, lsa_1.shape[0])"
      ],
      "execution_count": 0,
      "outputs": []
    },
    {
      "metadata": {
        "id": "G_3RUIYJfRJj",
        "colab_type": "code",
        "colab": {}
      },
      "cell_type": "code",
      "source": [
        "lsa_x = scores.get_scores()"
      ],
      "execution_count": 0,
      "outputs": []
    },
    {
      "metadata": {
        "id": "FFTfU2i8oNlA",
        "colab_type": "code",
        "outputId": "5f58d2e7-9632-4e95-a19c-01b31f56022c",
        "colab": {
          "base_uri": "https://localhost:8080/",
          "height": 34
        }
      },
      "cell_type": "code",
      "source": [
        "lsa_x.shape"
      ],
      "execution_count": 0,
      "outputs": [
        {
          "output_type": "execute_result",
          "data": {
            "text/plain": [
              "(404348, 4)"
            ]
          },
          "metadata": {
            "tags": []
          },
          "execution_count": 23
        }
      ]
    },
    {
      "metadata": {
        "id": "kn698yXeohDk",
        "colab_type": "code",
        "colab": {}
      },
      "cell_type": "code",
      "source": [
        "del lsa_1\n",
        "del lsa_2\n",
        "del lsa_method\n",
        "del scores\n",
        "del sentences1\n",
        "del sentences2"
      ],
      "execution_count": 0,
      "outputs": []
    },
    {
      "metadata": {
        "id": "wtQ5L6aEyDuF",
        "colab_type": "text"
      },
      "cell_type": "markdown",
      "source": [
        "# Sent2Vec"
      ]
    },
    {
      "metadata": {
        "id": "Sa-RlY30oll7",
        "colab_type": "code",
        "colab": {}
      },
      "cell_type": "code",
      "source": [
        "from gensim.models.keyedvectors import KeyedVectors"
      ],
      "execution_count": 0,
      "outputs": []
    },
    {
      "metadata": {
        "id": "XqQKjI_2wwVT",
        "colab_type": "code",
        "colab": {}
      },
      "cell_type": "code",
      "source": [
        "google_model = KeyedVectors.load_word2vec_format(google_embeddings, binary=True)"
      ],
      "execution_count": 0,
      "outputs": []
    },
    {
      "metadata": {
        "id": "ITJU5G0s84ag",
        "colab_type": "code",
        "colab": {}
      },
      "cell_type": "code",
      "source": [
        "def sentence_vectorizer(model, sentence):\n",
        "    vectors =[]\n",
        "    num = 0\n",
        "    for i in sentence.split():\n",
        "        try:\n",
        "            if num == 0:\n",
        "                vectors = model[i]\n",
        "            else:\n",
        "                vectors = np.add(vectors, model[i])\n",
        "            num += 1\n",
        "        except:\n",
        "            pass\n",
        "    return np.array(vectors) / num"
      ],
      "execution_count": 0,
      "outputs": []
    },
    {
      "metadata": {
        "id": "UWxYTxFx84M3",
        "colab_type": "code",
        "colab": {}
      },
      "cell_type": "code",
      "source": [
        "sent_vec1 = []\n",
        "for each in sentences1:\n",
        "    temp = sentence_vectorizer(google_model, each)\n",
        "    if temp.shape[0] != 0:\n",
        "        sent_vec1.append(temp)\n",
        "    else:\n",
        "        sent_vec1.append(np.zeros((300,)))\n",
        "sent_vec1 = np.asarray(sent_vec1)"
      ],
      "execution_count": 0,
      "outputs": []
    },
    {
      "metadata": {
        "id": "wQ8CE-Hy8-Db",
        "colab_type": "code",
        "colab": {}
      },
      "cell_type": "code",
      "source": [
        "sent_vec2 = []\n",
        "for each in sentences2:\n",
        "    temp = sentence_vectorizer(google_model, each)\n",
        "    if temp.shape[0] != 0:\n",
        "        sent_vec2.append(temp)\n",
        "    else:\n",
        "        sent_vec2.append(np.zeros((300,)))\n",
        "sent_vec2 = np.asarray(sent_vec2)"
      ],
      "execution_count": 0,
      "outputs": []
    },
    {
      "metadata": {
        "id": "Ovp0nckf1VKs",
        "colab_type": "code",
        "colab": {}
      },
      "cell_type": "code",
      "source": [
        "scores = Scores(sent_vec1, sent_vec2, length)"
      ],
      "execution_count": 0,
      "outputs": []
    },
    {
      "metadata": {
        "id": "LoGY4_7t9ns3",
        "colab_type": "code",
        "colab": {}
      },
      "cell_type": "code",
      "source": [
        "sent2vec_x = scores.get_scores()"
      ],
      "execution_count": 0,
      "outputs": []
    },
    {
      "metadata": {
        "id": "jSA8jily-JCH",
        "colab_type": "code",
        "colab": {}
      },
      "cell_type": "code",
      "source": [
        "del sent_vec2\n",
        "del scores\n",
        "del google_model"
      ],
      "execution_count": 0,
      "outputs": []
    },
    {
      "metadata": {
        "id": "sNpCdZ4UB8wI",
        "colab_type": "text"
      },
      "cell_type": "markdown",
      "source": [
        "# "
      ]
    },
    {
      "metadata": {
        "id": "wyxb9rXO-ke6",
        "colab_type": "code",
        "colab": {}
      },
      "cell_type": "code",
      "source": [
        ""
      ],
      "execution_count": 0,
      "outputs": []
    }
  ]
}