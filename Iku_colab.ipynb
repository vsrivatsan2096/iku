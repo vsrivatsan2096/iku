{
  "nbformat": 4,
  "nbformat_minor": 0,
  "metadata": {
    "colab": {
      "name": "Iku_colab.ipynb",
      "version": "0.3.2",
      "provenance": [],
      "collapsed_sections": [],
      "toc_visible": true,
      "include_colab_link": true
    },
    "kernelspec": {
      "name": "python3",
      "display_name": "Python 3"
    },
    "accelerator": "GPU"
  },
  "cells": [
    {
      "cell_type": "markdown",
      "metadata": {
        "id": "view-in-github",
        "colab_type": "text"
      },
      "source": [
        "<a href=\"https://colab.research.google.com/github/vsrivatsan2096/iku/blob/master/Iku_colab.ipynb\" target=\"_parent\"><img src=\"https://colab.research.google.com/assets/colab-badge.svg\" alt=\"Open In Colab\"/></a>"
      ]
    },
    {
      "metadata": {
        "id": "v03y6d1u3ESI",
        "colab_type": "text"
      },
      "cell_type": "markdown",
      "source": [
        "# Installing Libraries"
      ]
    },
    {
      "metadata": {
        "id": "EXIZLLru3DmH",
        "colab_type": "code",
        "outputId": "21b3e5dc-a18f-498f-a96a-b9910b21cd31",
        "colab": {
          "base_uri": "https://localhost:8080/",
          "height": 207
        }
      },
      "cell_type": "code",
      "source": [
        "!pip install -U -q numpy\n",
        "!pip install -U -q keras\n",
        "!pip install -U -q scikit-learn\n",
        "!pip install -U -q matplotlib\n",
        "!pip install -U -q nltk\n",
        "!pip install -U -q PyDrive \n",
        "!pip install -U -q pandas\n",
        "!pip install https://download.pytorch.org/whl/cu100/torch-1.0.1.post2-cp36-cp36m-linux_x86_64.whl\n",
        "!pip install -U -q torchvision\n",
        "!pip install --quiet tensorflow-hub\n",
        "!pip install --quiet seaborn\n",
        "!pip install --quiet \"tensorflow>=1.7\""
      ],
      "execution_count": 0,
      "outputs": [
        {
          "output_type": "stream",
          "text": [
            "\u001b[K    100% |████████████████████████████████| 17.3MB 2.2MB/s \n",
            "\u001b[31mfeaturetools 0.4.1 has requirement pandas>=0.23.0, but you'll have pandas 0.22.0 which is incompatible.\u001b[0m\n",
            "\u001b[31mdatascience 0.10.6 has requirement folium==0.2.1, but you'll have folium 0.8.3 which is incompatible.\u001b[0m\n",
            "\u001b[31malbumentations 0.1.12 has requirement imgaug<0.2.7,>=0.2.5, but you'll have imgaug 0.2.8 which is incompatible.\u001b[0m\n",
            "\u001b[K    100% |████████████████████████████████| 1.4MB 15.0MB/s \n",
            "\u001b[?25h  Building wheel for nltk (setup.py) ... \u001b[?25ldone\n",
            "\u001b[K    100% |████████████████████████████████| 993kB 19.2MB/s \n",
            "\u001b[?25h  Building wheel for PyDrive (setup.py) ... \u001b[?25ldone\n",
            "\u001b[K    100% |████████████████████████████████| 10.1MB 4.2MB/s \n",
            "\u001b[?25hRequirement already satisfied: torch==1.0.1.post2 from https://download.pytorch.org/whl/cu100/torch-1.0.1.post2-cp36-cp36m-linux_x86_64.whl in /usr/local/lib/python3.6/dist-packages (1.0.1.post2)\n"
          ],
          "name": "stdout"
        }
      ]
    },
    {
      "metadata": {
        "colab_type": "text",
        "id": "U3hUGck-ksJp"
      },
      "cell_type": "markdown",
      "source": [
        "# Google Drive"
      ]
    },
    {
      "metadata": {
        "id": "h4cispv0xwXq",
        "colab_type": "code",
        "colab": {}
      },
      "cell_type": "code",
      "source": [
        "from pydrive.auth import GoogleAuth\n",
        "from pydrive.drive import GoogleDrive\n",
        "from google.colab import auth\n",
        "from oauth2client.client import GoogleCredentials\n",
        "import json"
      ],
      "execution_count": 0,
      "outputs": []
    },
    {
      "metadata": {
        "id": "_mD6aJ7Ex4ZA",
        "colab_type": "code",
        "colab": {}
      },
      "cell_type": "code",
      "source": [
        "auth.authenticate_user()\n",
        "gauth = GoogleAuth()\n",
        "gauth.credentials = GoogleCredentials.get_application_default()\n",
        "drive = GoogleDrive(gauth)"
      ],
      "execution_count": 0,
      "outputs": []
    },
    {
      "metadata": {
        "id": "tK-O5TcLd2rQ",
        "colab_type": "code",
        "outputId": "0531f63c-2633-4aa3-88ab-2abbc5210a39",
        "colab": {
          "base_uri": "https://localhost:8080/",
          "height": 34
        }
      },
      "cell_type": "code",
      "source": [
        "ls"
      ],
      "execution_count": 0,
      "outputs": [
        {
          "output_type": "stream",
          "text": [
            "adc.json  \u001b[0m\u001b[01;34msample_data\u001b[0m/\n"
          ],
          "name": "stdout"
        }
      ]
    },
    {
      "metadata": {
        "id": "2_0PElT316uN",
        "colab_type": "code",
        "colab": {}
      },
      "cell_type": "code",
      "source": [
        "file_ids = [\"1JslQ15FgNAcEdCsKGAGkOjOBBTq_jaUw\", \"1q7pTs8JeD7o5v2P38C0FrbXJGErPFfWZ\", \"1U6RBjW2SsO4WrAZ0F6NMSe5sh-mIKELT\", \"1e7LVpXX1eVPClSvhc9yl3nQknzWOdtEq\", \"1Re7ywNVhw4XWAfI7wJtZNNg2lp5288sZ\", \"1QhhwBbqsov2jcm9cy7pT8S00LlwwMvWo\"]\n",
        "file_names = ['google-embeddings-w2v.gz', 'common-crawl-embeddings-w2v.txt', 'crawl-300d-2M-subword.vec', 'doc2vec.bin', 'doc2vec.bin.syn0.npy', 'doc2vec.bin.syn1neg.npy']"
      ],
      "execution_count": 0,
      "outputs": []
    },
    {
      "metadata": {
        "id": "BfixdvYi3Sf7",
        "colab_type": "text"
      },
      "cell_type": "markdown",
      "source": [
        "# Mount Drive"
      ]
    },
    {
      "metadata": {
        "id": "62kaJjFn3RAS",
        "colab_type": "code",
        "outputId": "38f9be5b-7af8-46f6-9c1d-a53abc02fb17",
        "colab": {
          "base_uri": "https://localhost:8080/",
          "height": 122
        }
      },
      "cell_type": "code",
      "source": [
        "from google.colab import drive\n",
        "drive.mount('/content/drive')"
      ],
      "execution_count": 0,
      "outputs": [
        {
          "output_type": "stream",
          "text": [
            "Go to this URL in a browser: https://accounts.google.com/o/oauth2/auth?client_id=947318989803-6bn6qk8qdgf4n4g3pfee6491hc0brc4i.apps.googleusercontent.com&redirect_uri=urn%3Aietf%3Awg%3Aoauth%3A2.0%3Aoob&scope=email%20https%3A%2F%2Fwww.googleapis.com%2Fauth%2Fdocs.test%20https%3A%2F%2Fwww.googleapis.com%2Fauth%2Fdrive%20https%3A%2F%2Fwww.googleapis.com%2Fauth%2Fdrive.photos.readonly%20https%3A%2F%2Fwww.googleapis.com%2Fauth%2Fpeopleapi.readonly&response_type=code\n",
            "\n",
            "Enter your authorization code:\n",
            "··········\n",
            "Mounted at /content/drive\n"
          ],
          "name": "stdout"
        }
      ]
    },
    {
      "metadata": {
        "id": "ihpZN05s3Zvp",
        "colab_type": "text"
      },
      "cell_type": "markdown",
      "source": [
        "# Cloning Github"
      ]
    },
    {
      "metadata": {
        "id": "51aCgGvI3aRC",
        "colab_type": "code",
        "outputId": "7ba17499-12a0-46fb-96e0-ab2827220bf7",
        "colab": {
          "base_uri": "https://localhost:8080/",
          "height": 136
        }
      },
      "cell_type": "code",
      "source": [
        "!git clone https://github.com/vsrivatsan2096/iku.git"
      ],
      "execution_count": 0,
      "outputs": [
        {
          "output_type": "stream",
          "text": [
            "Cloning into 'iku'...\n",
            "remote: Enumerating objects: 235, done.\u001b[K\n",
            "remote: Counting objects: 100% (235/235), done.\u001b[K\n",
            "remote: Compressing objects: 100% (188/188), done.\u001b[K\n",
            "remote: Total 235 (delta 70), reused 173 (delta 29), pack-reused 0\u001b[K\n",
            "Receiving objects: 100% (235/235), 10.38 MiB | 13.80 MiB/s, done.\n",
            "Resolving deltas: 100% (70/70), done.\n"
          ],
          "name": "stdout"
        }
      ]
    },
    {
      "metadata": {
        "id": "UUUWhTPN2pEx",
        "colab_type": "text"
      },
      "cell_type": "markdown",
      "source": [
        "# Pre-Trained embeddings"
      ]
    },
    {
      "metadata": {
        "id": "xTSaTD10cA8T",
        "colab_type": "code",
        "colab": {}
      },
      "cell_type": "code",
      "source": [
        "drive = GoogleDrive(gauth)"
      ],
      "execution_count": 0,
      "outputs": []
    },
    {
      "metadata": {
        "id": "W_bFeAAX2AmP",
        "colab_type": "code",
        "colab": {}
      },
      "cell_type": "code",
      "source": [
        "# Google\n",
        "download = drive.CreateFile({'id':file_ids[0]})\n",
        "download.GetContentFile(file_names[0])"
      ],
      "execution_count": 0,
      "outputs": []
    },
    {
      "metadata": {
        "id": "iKSkSTVlQwuh",
        "colab_type": "code",
        "colab": {}
      },
      "cell_type": "code",
      "source": [
        "google_embeddings = 'google-embeddings-w2v.gz'"
      ],
      "execution_count": 0,
      "outputs": []
    },
    {
      "metadata": {
        "id": "l5572PWOWV4A",
        "colab_type": "code",
        "colab": {}
      },
      "cell_type": "code",
      "source": [
        "# Common Crawl\n",
        "download = drive.CreateFile({'id':file_ids[1]})\n",
        "download.GetContentFile(file_names[1])"
      ],
      "execution_count": 0,
      "outputs": []
    },
    {
      "metadata": {
        "id": "uS0JKzfWQyVI",
        "colab_type": "code",
        "colab": {}
      },
      "cell_type": "code",
      "source": [
        "common_crawl_embeddings = 'common-crawl-embeddings-w2v.txt'"
      ],
      "execution_count": 0,
      "outputs": []
    },
    {
      "metadata": {
        "id": "gLWw8RoGB9WP",
        "colab_type": "code",
        "outputId": "70039543-0108-4924-a79c-8c0ddfe5d87d",
        "colab": {
          "base_uri": "https://localhost:8080/",
          "height": 224
        }
      },
      "cell_type": "code",
      "source": [
        "!wget https://dl.fbaipublicfiles.com/infersent/infersent2.pkl"
      ],
      "execution_count": 0,
      "outputs": [
        {
          "output_type": "stream",
          "text": [
            "--2019-04-03 04:25:45--  https://dl.fbaipublicfiles.com/infersent/infersent2.pkl\n",
            "Resolving dl.fbaipublicfiles.com (dl.fbaipublicfiles.com)... 104.20.22.166, 104.20.6.166, 2606:4700:10::6814:16a6, ...\n",
            "Connecting to dl.fbaipublicfiles.com (dl.fbaipublicfiles.com)|104.20.22.166|:443... connected.\n",
            "HTTP request sent, awaiting response... 200 OK\n",
            "Length: 154010676 (147M) [application/octet-stream]\n",
            "Saving to: ‘infersent2.pkl’\n",
            "\n",
            "infersent2.pkl      100%[===================>] 146.88M  29.8MB/s    in 5.4s    \n",
            "\n",
            "2019-04-03 04:25:51 (27.4 MB/s) - ‘infersent2.pkl’ saved [154010676/154010676]\n",
            "\n"
          ],
          "name": "stdout"
        }
      ]
    },
    {
      "metadata": {
        "id": "bA6HIqiwR70P",
        "colab_type": "code",
        "colab": {}
      },
      "cell_type": "code",
      "source": [
        "infersent_embeddings = 'infersent2.pkl'"
      ],
      "execution_count": 0,
      "outputs": []
    },
    {
      "metadata": {
        "id": "SHHp9JSkurNo",
        "colab_type": "code",
        "colab": {}
      },
      "cell_type": "code",
      "source": [
        "# Common Crawl Fast Text\n",
        "download = drive.CreateFile({'id':file_ids[2]})\n",
        "download.GetContentFile(file_names[2])"
      ],
      "execution_count": 0,
      "outputs": []
    },
    {
      "metadata": {
        "id": "5lefexLrzSSH",
        "colab_type": "code",
        "colab": {}
      },
      "cell_type": "code",
      "source": [
        "infersent_crawl_embeddings = \"crawl-300d-2M-subword.vec\""
      ],
      "execution_count": 0,
      "outputs": []
    },
    {
      "metadata": {
        "id": "pw9Fwvi04WoI",
        "colab_type": "code",
        "colab": {}
      },
      "cell_type": "code",
      "source": [
        "for i in range(3, 6):\n",
        "  download = drive.CreateFile({'id':file_ids[i]})\n",
        "  download.GetContentFile(file_names[i])"
      ],
      "execution_count": 0,
      "outputs": []
    },
    {
      "metadata": {
        "id": "GrCKkaIm4V7t",
        "colab_type": "code",
        "colab": {}
      },
      "cell_type": "code",
      "source": [
        "dbow_wiki_embeddings = \"doc2vec.bin\""
      ],
      "execution_count": 0,
      "outputs": []
    },
    {
      "metadata": {
        "colab_type": "text",
        "id": "HNPMenzA0Yyj"
      },
      "cell_type": "markdown",
      "source": [
        "# Dataset"
      ]
    },
    {
      "metadata": {
        "id": "n9M8WO8l29is",
        "colab_type": "code",
        "colab": {}
      },
      "cell_type": "code",
      "source": [
        "data_file_ids = [\"1bqdQccb6176JhXU7CZbWnv3vTAi7BH_-\"]\n",
        "data_file_names = ['questions.csv']"
      ],
      "execution_count": 0,
      "outputs": []
    },
    {
      "metadata": {
        "id": "OKUfynKS29a6",
        "colab_type": "code",
        "colab": {}
      },
      "cell_type": "code",
      "source": [
        "for each_id, each_name in zip(data_file_ids, data_file_names):\n",
        "    download = drive.CreateFile({'id':each_id})\n",
        "    download.GetContentFile(each_name)"
      ],
      "execution_count": 0,
      "outputs": []
    },
    {
      "metadata": {
        "id": "WIRMSQ2aYFOW",
        "colab_type": "code",
        "colab": {}
      },
      "cell_type": "code",
      "source": [
        "del download\n",
        "del gauth\n",
        "del drive"
      ],
      "execution_count": 0,
      "outputs": []
    },
    {
      "metadata": {
        "colab_type": "code",
        "id": "J3Z7qyzq0g6Q",
        "colab": {}
      },
      "cell_type": "code",
      "source": [
        "import numpy as np\n",
        "import pandas as pd\n",
        "import multiprocessing"
      ],
      "execution_count": 0,
      "outputs": []
    },
    {
      "metadata": {
        "id": "bM1togrSTgrm",
        "colab_type": "code",
        "colab": {}
      },
      "cell_type": "code",
      "source": [
        "questions = pd.read_csv(\"questions.csv\")\n",
        "questions.dropna(inplace=True)"
      ],
      "execution_count": 0,
      "outputs": []
    },
    {
      "metadata": {
        "id": "N3hpXv-GTgup",
        "colab_type": "code",
        "colab": {}
      },
      "cell_type": "code",
      "source": [
        "questions1 = questions.iloc[:, 3].values\n",
        "questions2 = questions.iloc[:, 4].values\n",
        "is_duplicate_questions = questions.iloc[:, 5].values"
      ],
      "execution_count": 0,
      "outputs": []
    },
    {
      "metadata": {
        "id": "nVTLX122TgyM",
        "colab_type": "code",
        "outputId": "ca4914dc-06d4-4cfe-f544-082a00b1d62c",
        "colab": {
          "base_uri": "https://localhost:8080/",
          "height": 204
        }
      },
      "cell_type": "code",
      "source": [
        "questions.head()"
      ],
      "execution_count": 0,
      "outputs": [
        {
          "output_type": "execute_result",
          "data": {
            "text/html": [
              "<div>\n",
              "<style scoped>\n",
              "    .dataframe tbody tr th:only-of-type {\n",
              "        vertical-align: middle;\n",
              "    }\n",
              "\n",
              "    .dataframe tbody tr th {\n",
              "        vertical-align: top;\n",
              "    }\n",
              "\n",
              "    .dataframe thead th {\n",
              "        text-align: right;\n",
              "    }\n",
              "</style>\n",
              "<table border=\"1\" class=\"dataframe\">\n",
              "  <thead>\n",
              "    <tr style=\"text-align: right;\">\n",
              "      <th></th>\n",
              "      <th>id</th>\n",
              "      <th>qid1</th>\n",
              "      <th>qid2</th>\n",
              "      <th>question1</th>\n",
              "      <th>question2</th>\n",
              "      <th>is_duplicate</th>\n",
              "    </tr>\n",
              "  </thead>\n",
              "  <tbody>\n",
              "    <tr>\n",
              "      <th>0</th>\n",
              "      <td>0</td>\n",
              "      <td>1</td>\n",
              "      <td>2</td>\n",
              "      <td>What is the step by step guide to invest in sh...</td>\n",
              "      <td>What is the step by step guide to invest in sh...</td>\n",
              "      <td>0</td>\n",
              "    </tr>\n",
              "    <tr>\n",
              "      <th>1</th>\n",
              "      <td>1</td>\n",
              "      <td>3</td>\n",
              "      <td>4</td>\n",
              "      <td>What is the story of Kohinoor (Koh-i-Noor) Dia...</td>\n",
              "      <td>What would happen if the Indian government sto...</td>\n",
              "      <td>0</td>\n",
              "    </tr>\n",
              "    <tr>\n",
              "      <th>2</th>\n",
              "      <td>2</td>\n",
              "      <td>5</td>\n",
              "      <td>6</td>\n",
              "      <td>How can I increase the speed of my internet co...</td>\n",
              "      <td>How can Internet speed be increased by hacking...</td>\n",
              "      <td>0</td>\n",
              "    </tr>\n",
              "    <tr>\n",
              "      <th>3</th>\n",
              "      <td>3</td>\n",
              "      <td>7</td>\n",
              "      <td>8</td>\n",
              "      <td>Why am I mentally very lonely? How can I solve...</td>\n",
              "      <td>Find the remainder when [math]23^{24}[/math] i...</td>\n",
              "      <td>0</td>\n",
              "    </tr>\n",
              "    <tr>\n",
              "      <th>4</th>\n",
              "      <td>4</td>\n",
              "      <td>9</td>\n",
              "      <td>10</td>\n",
              "      <td>Which one dissolve in water quikly sugar, salt...</td>\n",
              "      <td>Which fish would survive in salt water?</td>\n",
              "      <td>0</td>\n",
              "    </tr>\n",
              "  </tbody>\n",
              "</table>\n",
              "</div>"
            ],
            "text/plain": [
              "   id  qid1  qid2                                          question1  \\\n",
              "0   0     1     2  What is the step by step guide to invest in sh...   \n",
              "1   1     3     4  What is the story of Kohinoor (Koh-i-Noor) Dia...   \n",
              "2   2     5     6  How can I increase the speed of my internet co...   \n",
              "3   3     7     8  Why am I mentally very lonely? How can I solve...   \n",
              "4   4     9    10  Which one dissolve in water quikly sugar, salt...   \n",
              "\n",
              "                                           question2  is_duplicate  \n",
              "0  What is the step by step guide to invest in sh...             0  \n",
              "1  What would happen if the Indian government sto...             0  \n",
              "2  How can Internet speed be increased by hacking...             0  \n",
              "3  Find the remainder when [math]23^{24}[/math] i...             0  \n",
              "4            Which fish would survive in salt water?             0  "
            ]
          },
          "metadata": {
            "tags": []
          },
          "execution_count": 30
        }
      ]
    },
    {
      "metadata": {
        "colab_type": "code",
        "id": "sjk1awi9vns5",
        "colab": {}
      },
      "cell_type": "code",
      "source": [
        "cores = multiprocessing.cpu_count()"
      ],
      "execution_count": 0,
      "outputs": []
    },
    {
      "metadata": {
        "colab_type": "code",
        "id": "mNVsrA9WHe5b",
        "colab": {}
      },
      "cell_type": "code",
      "source": [
        "length = is_duplicate_questions.shape[0]"
      ],
      "execution_count": 0,
      "outputs": []
    },
    {
      "metadata": {
        "id": "1euoTy-7qr2w",
        "colab_type": "code",
        "colab": {}
      },
      "cell_type": "code",
      "source": [
        "X_scores = {}"
      ],
      "execution_count": 0,
      "outputs": []
    },
    {
      "metadata": {
        "id": "xCi7z0cr8tIH",
        "colab_type": "text"
      },
      "cell_type": "markdown",
      "source": [
        "# Scores"
      ]
    },
    {
      "metadata": {
        "id": "AfDwdfMJ1sVZ",
        "colab_type": "code",
        "colab": {}
      },
      "cell_type": "code",
      "source": [
        "# https://github.com/makcedward/nlp/blob/master/sample/nlp-word_mover_distance.ipynb"
      ],
      "execution_count": 0,
      "outputs": []
    },
    {
      "metadata": {
        "id": "oF9or-MN8xDA",
        "colab_type": "code",
        "colab": {}
      },
      "cell_type": "code",
      "source": [
        "from sklearn.metrics.pairwise import cosine_similarity\n",
        "from sklearn.metrics.pairwise import manhattan_distances\n",
        "from sklearn.metrics.pairwise import euclidean_distances\n",
        "from sklearn.metrics import jaccard_similarity_score\n",
        "from sklearn.neighbors import DistanceMetric"
      ],
      "execution_count": 0,
      "outputs": []
    },
    {
      "metadata": {
        "id": "E7OiGlv2-Ikq",
        "colab_type": "code",
        "colab": {}
      },
      "cell_type": "code",
      "source": [
        "def cosine_similarity_scores(sentence1, sentence2):\n",
        "    return cosine_similarity(sentence1.reshape(1, -1), sentence2.reshape(1, -1))"
      ],
      "execution_count": 0,
      "outputs": []
    },
    {
      "metadata": {
        "id": "OI-2pT5A-IcO",
        "colab_type": "code",
        "colab": {}
      },
      "cell_type": "code",
      "source": [
        "def manhattan_distances_scores(sentence1, sentence2):\n",
        "    return manhattan_distances(sentence1.reshape(1, -1), sentence2.reshape(1, -1))"
      ],
      "execution_count": 0,
      "outputs": []
    },
    {
      "metadata": {
        "id": "U5Qz5hkM-IVX",
        "colab_type": "code",
        "colab": {}
      },
      "cell_type": "code",
      "source": [
        "def euclidean_distances_scores(sentence1, sentence2):\n",
        "    return euclidean_distances(sentence1.reshape(1, -1), sentence2.reshape(1, -1))"
      ],
      "execution_count": 0,
      "outputs": []
    },
    {
      "metadata": {
        "id": "4iQZeg5V-IPh",
        "colab_type": "code",
        "colab": {}
      },
      "cell_type": "code",
      "source": [
        "def jaccard_similarity_scores(sentence1, sentence2):\n",
        "    jac_score = 0\n",
        "    try:\n",
        "        jac_score = jaccard_similarity_score(sentence1.reshape(1, -1), sentence2.reshape(1, -1))\n",
        "    finally:\n",
        "        return jac_score"
      ],
      "execution_count": 0,
      "outputs": []
    },
    {
      "metadata": {
        "id": "_58YfrGX-N-8",
        "colab_type": "code",
        "colab": {}
      },
      "cell_type": "code",
      "source": [
        "def minkowski_distances_scores(sentence1, sentence2):\n",
        "    minkowski_distance = DistanceMetric.get_metric('minkowski')\n",
        "    return minkowski_distance.pairwise(sentence1.reshape(1, -1), sentence2.reshape(1, -1))"
      ],
      "execution_count": 0,
      "outputs": []
    },
    {
      "metadata": {
        "id": "slLOTw3x-Sb8",
        "colab_type": "code",
        "colab": {}
      },
      "cell_type": "code",
      "source": [
        "def get_scores(sentences1, sentences2, length):\n",
        "    scores = []\n",
        "    for each in range(length):\n",
        "        each_score = []\n",
        "        each_score.append(cosine_similarity_scores(sentences1[each], sentences2[each])[0][0])\n",
        "        each_score.append(manhattan_distances_scores(sentences1[each], sentences2[each])[0][0])\n",
        "        each_score.append(euclidean_distances_scores(sentences1[each], sentences2[each])[0][0])\n",
        "        #each_score.append(self.jaccard_similarity(self.sentences1[each], self.sentences2[each]))\n",
        "        each_score.append(minkowski_distances_scores(sentences1[each], sentences2[each])[0][0])\n",
        "        scores.append(np.asarray(each_score))\n",
        "    return scores"
      ],
      "execution_count": 0,
      "outputs": []
    },
    {
      "metadata": {
        "colab_type": "text",
        "id": "k7q4ZLpcKj0v"
      },
      "cell_type": "markdown",
      "source": [
        "# Natural Language Processing"
      ]
    },
    {
      "metadata": {
        "colab_type": "code",
        "id": "3TEybJIOKkgT",
        "colab": {}
      },
      "cell_type": "code",
      "source": [
        "import re\n",
        "import nltk\n",
        "from nltk.corpus import stopwords\n",
        "from nltk.stem import WordNetLemmatizer"
      ],
      "execution_count": 0,
      "outputs": []
    },
    {
      "metadata": {
        "colab_type": "code",
        "id": "uRnXzsycKsMg",
        "outputId": "65d87c33-2526-4ca0-8475-3d212925e86e",
        "scrolled": true,
        "colab": {
          "base_uri": "https://localhost:8080/",
          "height": 136
        }
      },
      "cell_type": "code",
      "source": [
        "nltk.download('punkt')\n",
        "nltk.download('stopwords')\n",
        "nltk.download('wordnet')"
      ],
      "execution_count": 0,
      "outputs": [
        {
          "output_type": "stream",
          "text": [
            "[nltk_data] Downloading package punkt to /root/nltk_data...\n",
            "[nltk_data]   Unzipping tokenizers/punkt.zip.\n",
            "[nltk_data] Downloading package stopwords to /root/nltk_data...\n",
            "[nltk_data]   Unzipping corpora/stopwords.zip.\n",
            "[nltk_data] Downloading package wordnet to /root/nltk_data...\n",
            "[nltk_data]   Unzipping corpora/wordnet.zip.\n"
          ],
          "name": "stderr"
        },
        {
          "output_type": "execute_result",
          "data": {
            "text/plain": [
              "True"
            ]
          },
          "metadata": {
            "tags": []
          },
          "execution_count": 43
        }
      ]
    },
    {
      "metadata": {
        "colab_type": "code",
        "id": "KTPkxZdiK0BD",
        "colab": {}
      },
      "cell_type": "code",
      "source": [
        "lemma = WordNetLemmatizer()\n",
        "stopword = stopwords.words(\"english\")"
      ],
      "execution_count": 0,
      "outputs": []
    },
    {
      "metadata": {
        "colab_type": "code",
        "id": "rd75AVttK7hD",
        "colab": {}
      },
      "cell_type": "code",
      "source": [
        "sentences_1 = []\n",
        "for i in questions1:\n",
        "    tempx = re.sub(r\"[^A-Za-z]\", \" \", str(i))\n",
        "    tempx = tempx.lower().split()\n",
        "    tempx = [word for word in tempx if word not in stopword]\n",
        "    tempx = [lemma.lemmatize(word, pos=\"a\") for word in tempx]\n",
        "    tempx = [lemma.lemmatize(word, pos=\"r\") for word in tempx]\n",
        "    tempx = [lemma.lemmatize(word, pos=\"n\") for word in tempx]\n",
        "    tempx = [lemma.lemmatize(word, pos=\"v\") for word in tempx]\n",
        "    sentences_1.append(\" \".join(tempx))\n",
        "sentences_1 = np.asarray(sentences_1)"
      ],
      "execution_count": 0,
      "outputs": []
    },
    {
      "metadata": {
        "colab_type": "code",
        "id": "HdAWSHcJHe5q",
        "colab": {}
      },
      "cell_type": "code",
      "source": [
        "sentences_2 = []\n",
        "for i in questions2:\n",
        "    tempx = re.sub(r\"[^A-Za-z]\", \" \", str(i))\n",
        "    tempx = tempx.lower().split()\n",
        "    tempx = [word for word in tempx if word not in stopword]\n",
        "    tempx = [lemma.lemmatize(word, pos=\"a\") for word in tempx]\n",
        "    tempx = [lemma.lemmatize(word, pos=\"r\") for word in tempx]\n",
        "    tempx = [lemma.lemmatize(word, pos=\"n\") for word in tempx]\n",
        "    tempx = [lemma.lemmatize(word, pos=\"v\") for word in tempx]\n",
        "    sentences_2.append(\" \".join(tempx))\n",
        "sentences_2 = np.asarray(sentences_2)"
      ],
      "execution_count": 0,
      "outputs": []
    },
    {
      "metadata": {
        "colab_type": "text",
        "id": "w-xcGFtPGdfJ"
      },
      "cell_type": "markdown",
      "source": [
        "# LSA Method"
      ]
    },
    {
      "metadata": {
        "id": "bT1FLns41CbI",
        "colab_type": "text"
      },
      "cell_type": "markdown",
      "source": [
        "http://mccormickml.com/2016/03/25/lsa-for-text-classification-tutorial/"
      ]
    },
    {
      "metadata": {
        "colab_type": "code",
        "id": "jYXzCvrQGgm3",
        "colab": {}
      },
      "cell_type": "code",
      "source": [
        "from sklearn.pipeline import Pipeline\n",
        "from sklearn.decomposition import TruncatedSVD\n",
        "from sklearn.feature_extraction.text import TfidfVectorizer"
      ],
      "execution_count": 0,
      "outputs": []
    },
    {
      "metadata": {
        "colab_type": "code",
        "id": "LHMV-1Bhai1e",
        "colab": {}
      },
      "cell_type": "code",
      "source": [
        "vectorizer = TfidfVectorizer(use_idf=True, smooth_idf=True)"
      ],
      "execution_count": 0,
      "outputs": []
    },
    {
      "metadata": {
        "colab_type": "code",
        "id": "2DObvs6mal97",
        "colab": {}
      },
      "cell_type": "code",
      "source": [
        "svd_model = TruncatedSVD(n_components=300,\n",
        "                         algorithm='randomized',\n",
        "                         n_iter=10, random_state=42)"
      ],
      "execution_count": 0,
      "outputs": []
    },
    {
      "metadata": {
        "colab_type": "code",
        "id": "__L-nT-lapFP",
        "colab": {}
      },
      "cell_type": "code",
      "source": [
        "lsa_model1 = Pipeline([('tfidf', vectorizer), \n",
        "                            ('svd', svd_model)])"
      ],
      "execution_count": 0,
      "outputs": []
    },
    {
      "metadata": {
        "colab_type": "code",
        "id": "cCFrhTD-He55",
        "colab": {}
      },
      "cell_type": "code",
      "source": [
        "lsa_model2 = Pipeline([('tfidf', vectorizer), \n",
        "                            ('svd', svd_model)])"
      ],
      "execution_count": 0,
      "outputs": []
    },
    {
      "metadata": {
        "colab_type": "code",
        "id": "d0Qm7cU-asMM",
        "colab": {}
      },
      "cell_type": "code",
      "source": [
        "lsa_1 = lsa_model1.fit(sentences_1)\n",
        "lsa_2 = lsa_model2.fit(sentences_2)"
      ],
      "execution_count": 0,
      "outputs": []
    },
    {
      "metadata": {
        "colab_type": "code",
        "id": "ShsDeBj0He59",
        "colab": {}
      },
      "cell_type": "code",
      "source": [
        "X_scores['lsa'] = get_scores(lsa_1, lsa_2, length)"
      ],
      "execution_count": 0,
      "outputs": []
    },
    {
      "metadata": {
        "id": "72GHtiOmjHik",
        "colab_type": "code",
        "outputId": "29d2cd7a-f673-48f7-b7a9-1b5bc0695792",
        "colab": {
          "base_uri": "https://localhost:8080/",
          "height": 34
        }
      },
      "cell_type": "code",
      "source": [
        "import joblib\n",
        "joblib.dump(lsa_1, \"lsa1\")\n",
        "joblib.dump(lsa_2, \"lsa2\")"
      ],
      "execution_count": 0,
      "outputs": [
        {
          "output_type": "execute_result",
          "data": {
            "text/plain": [
              "['lsa2']"
            ]
          },
          "metadata": {
            "tags": []
          },
          "execution_count": 181
        }
      ]
    },
    {
      "metadata": {
        "id": "S6iSsDaItQZy",
        "colab_type": "code",
        "colab": {}
      },
      "cell_type": "code",
      "source": [
        "del vectorizer\n",
        "del svd_model\n",
        "del lsa_model1\n",
        "del lsa_model2\n",
        "del lsa_1\n",
        "del lsa_2"
      ],
      "execution_count": 0,
      "outputs": []
    },
    {
      "metadata": {
        "colab_type": "text",
        "id": "uENvSaywLgrP"
      },
      "cell_type": "markdown",
      "source": [
        "# Word2Vec model(Using Mean to get the sentence vectors)"
      ]
    },
    {
      "metadata": {
        "id": "a2F2zLN101j1",
        "colab_type": "text"
      },
      "cell_type": "markdown",
      "source": [
        "http://mccormickml.com/2016/04/12/googles-pretrained-word2vec-model-in-python/"
      ]
    },
    {
      "metadata": {
        "colab_type": "code",
        "id": "n_vSYQP8LN36",
        "colab": {}
      },
      "cell_type": "code",
      "source": [
        "from gensim.models import Word2Vec\n",
        "from gensim.models.keyedvectors import KeyedVectors"
      ],
      "execution_count": 0,
      "outputs": []
    },
    {
      "metadata": {
        "colab_type": "code",
        "id": "61vPjXTNB8Ur",
        "colab": {}
      },
      "cell_type": "code",
      "source": [
        "google_model = KeyedVectors.load_word2vec_format(google_embeddings, binary=True)\n",
        "#wiki_model = KeyedVectors.load_word2vec_format(\"models/pretrained/glove/wiki/wiki.300d.txt\", binary=False)\n",
        "#common_crawl_model = KeyedVectors.load_word2vec_format(\"models/pretrained/glove/common_crawl/common_crawl.300d.txt\", binary=False)"
      ],
      "execution_count": 0,
      "outputs": []
    },
    {
      "metadata": {
        "colab_type": "code",
        "id": "tOUcqYwzLzTf",
        "colab": {}
      },
      "cell_type": "code",
      "source": [
        "def sentence_vectorizer(model, sentence):\n",
        "    vectors =[]\n",
        "    num = 0\n",
        "    for i in sentence.split():\n",
        "        try:\n",
        "            if num == 0:\n",
        "                vectors = model[i]\n",
        "            else:\n",
        "                vectors = np.add(vectors, model[i])\n",
        "            num += 1\n",
        "        except:\n",
        "            pass\n",
        "    return np.array(vectors) / num"
      ],
      "execution_count": 0,
      "outputs": []
    },
    {
      "metadata": {
        "colab_type": "code",
        "id": "xsR-G4WYsu70",
        "colab": {}
      },
      "cell_type": "code",
      "source": [
        "sent_vec1 = []\n",
        "for each in sentences_1:\n",
        "    temp = sentence_vectorizer(google_model, each)\n",
        "    if temp.shape[0] != 0:\n",
        "        sent_vec1.append(temp)\n",
        "    else:\n",
        "        sent_vec1.append(np.zeros((300,)))\n",
        "sent_vec1 = np.asarray(sent_vec1)"
      ],
      "execution_count": 0,
      "outputs": []
    },
    {
      "metadata": {
        "colab_type": "code",
        "id": "4EsdRpmHGhpM",
        "colab": {}
      },
      "cell_type": "code",
      "source": [
        "sent_vec2 = []\n",
        "for each in sentences_2:\n",
        "    temp = sentence_vectorizer(google_model, each)\n",
        "    if temp.shape[0] != 0:\n",
        "        sent_vec2.append(temp)\n",
        "    else:\n",
        "        sent_vec2.append(np.zeros((300,)))\n",
        "sent_vec2 = np.asarray(sent_vec2)"
      ],
      "execution_count": 0,
      "outputs": []
    },
    {
      "metadata": {
        "id": "WZ9SgbkMo4LM",
        "colab_type": "code",
        "colab": {}
      },
      "cell_type": "code",
      "source": [
        "del google_model"
      ],
      "execution_count": 0,
      "outputs": []
    },
    {
      "metadata": {
        "id": "Kw-hOFYytmBa",
        "colab_type": "code",
        "colab": {}
      },
      "cell_type": "code",
      "source": [
        "X_scores['sent vector'] = get_scores(sent_vec1, sent_vec2, length)"
      ],
      "execution_count": 0,
      "outputs": []
    },
    {
      "metadata": {
        "id": "Udv8gt2Ut8pd",
        "colab_type": "code",
        "colab": {}
      },
      "cell_type": "code",
      "source": [
        "del sent_vec1\n",
        "del sent_vec2"
      ],
      "execution_count": 0,
      "outputs": []
    },
    {
      "metadata": {
        "id": "NPFU-WBzThkS",
        "colab_type": "text"
      },
      "cell_type": "markdown",
      "source": [
        "# InferSent model"
      ]
    },
    {
      "metadata": {
        "id": "GjDUVOyGThkU",
        "colab_type": "text"
      },
      "cell_type": "markdown",
      "source": [
        "https://github.com/facebookresearch/InferSent"
      ]
    },
    {
      "metadata": {
        "id": "6dv_PWSvThkV",
        "colab_type": "code",
        "colab": {}
      },
      "cell_type": "code",
      "source": [
        "import torch\n",
        "import numpy as np\n",
        "from random import randint"
      ],
      "execution_count": 0,
      "outputs": []
    },
    {
      "metadata": {
        "id": "josZK7nlThkw",
        "colab_type": "text"
      },
      "cell_type": "markdown",
      "source": [
        "**Load Model**"
      ]
    },
    {
      "metadata": {
        "id": "n6zpFS63Thk-",
        "colab_type": "code",
        "colab": {}
      },
      "cell_type": "code",
      "source": [
        "from iku.methods.infersent.models import InferSent\n",
        "model_version = 2\n",
        "params_model = {'bsize': 128, 'word_emb_dim': 300, 'enc_lstm_dim': 2048,\n",
        "                'pool_type': 'max', 'dpout_model': 0.0, 'version': model_version}\n",
        "model = InferSent(params_model)\n",
        "model.load_state_dict(torch.load(infersent_embeddings))"
      ],
      "execution_count": 0,
      "outputs": []
    },
    {
      "metadata": {
        "id": "O3Ab2lSGThlU",
        "colab_type": "code",
        "colab": {}
      },
      "cell_type": "code",
      "source": [
        "use_cuda = True\n",
        "model = model.cuda() if use_cuda else model # Keep it on CPU or put it on GPU"
      ],
      "execution_count": 0,
      "outputs": []
    },
    {
      "metadata": {
        "id": "sGK1B7e0ThlZ",
        "colab_type": "code",
        "colab": {}
      },
      "cell_type": "code",
      "source": [
        "W2V_PATH = infersent_crawl_embeddings\n",
        "model.set_w2v_path(W2V_PATH)"
      ],
      "execution_count": 0,
      "outputs": []
    },
    {
      "metadata": {
        "id": "7Wpz7wfJThld",
        "colab_type": "code",
        "outputId": "7c4e3b0a-35f4-481d-bd56-7382ce400dde",
        "colab": {
          "base_uri": "https://localhost:8080/",
          "height": 33
        }
      },
      "cell_type": "code",
      "source": [
        "model.build_vocab_k_words(K=100000)"
      ],
      "execution_count": 0,
      "outputs": [
        {
          "output_type": "stream",
          "text": [
            "Vocab size : 100000\n"
          ],
          "name": "stdout"
        }
      ]
    },
    {
      "metadata": {
        "id": "1llZQxTQThme",
        "colab_type": "text"
      },
      "cell_type": "markdown",
      "source": [
        "**Encode Sentences**"
      ]
    },
    {
      "metadata": {
        "id": "06NrXp-Bx2TP",
        "colab_type": "code",
        "colab": {}
      },
      "cell_type": "code",
      "source": [
        "batch = 50000 # All the data crashes the RAM and GPU"
      ],
      "execution_count": 0,
      "outputs": []
    },
    {
      "metadata": {
        "id": "1uUSy7wA4Yru",
        "colab_type": "code",
        "colab": {}
      },
      "cell_type": "code",
      "source": [
        "X_scores['sentence vector'] = []"
      ],
      "execution_count": 0,
      "outputs": []
    },
    {
      "metadata": {
        "id": "tW3EZmx8Thm3",
        "colab_type": "code",
        "outputId": "783dbf12-29e7-4fc0-f63e-7be0934d3d86",
        "colab": {
          "base_uri": "https://localhost:8080/",
          "height": 602
        }
      },
      "cell_type": "code",
      "source": [
        "for i in range(0, length, batch):\n",
        "    infersent_1 = model.encode(sentences_1[i:i+batch], bsize=128, tokenize=True, verbose=True)\n",
        "    infersent_2 = model.encode(sentences_2[i:i+batch], bsize=128, tokenize=True, verbose=True)\n",
        "    X_scores['sentence vector'].extend(get_scores(infersent_1, infersent_2, infersent_1.shape[0]))"
      ],
      "execution_count": 0,
      "outputs": [
        {
          "output_type": "stream",
          "text": [
            "Nb words kept : 351813/368855 (95.4%)\n",
            "Speed : 2037.6 sentences/s (gpu mode, bsize=128)\n",
            "Nb words kept : 356434/372214 (95.8%)\n",
            "Speed : 2159.3 sentences/s (gpu mode, bsize=128)\n",
            "Nb words kept : 351782/368682 (95.4%)\n",
            "Speed : 2079.8 sentences/s (gpu mode, bsize=128)\n",
            "Nb words kept : 356071/371723 (95.8%)\n",
            "Speed : 2132.6 sentences/s (gpu mode, bsize=128)\n",
            "Nb words kept : 351675/368630 (95.4%)\n",
            "Speed : 1979.5 sentences/s (gpu mode, bsize=128)\n",
            "Nb words kept : 356694/372433 (95.8%)\n",
            "Speed : 2225.6 sentences/s (gpu mode, bsize=128)\n",
            "Nb words kept : 352474/369541 (95.4%)\n",
            "Speed : 1857.4 sentences/s (gpu mode, bsize=128)\n",
            "Nb words kept : 357360/373032 (95.8%)\n",
            "Speed : 2180.4 sentences/s (gpu mode, bsize=128)\n",
            "Nb words kept : 352527/369219 (95.5%)\n",
            "Speed : 2084.0 sentences/s (gpu mode, bsize=128)\n",
            "Nb words kept : 355519/371279 (95.8%)\n",
            "Speed : 2106.0 sentences/s (gpu mode, bsize=128)\n",
            "Nb words kept : 352511/369636 (95.4%)\n",
            "Speed : 1861.3 sentences/s (gpu mode, bsize=128)\n",
            "Nb words kept : 357175/372840 (95.8%)\n",
            "Speed : 2258.7 sentences/s (gpu mode, bsize=128)\n",
            "Nb words kept : 352007/369391 (95.3%)\n",
            "Speed : 2071.8 sentences/s (gpu mode, bsize=128)\n",
            "Nb words kept : 355872/371765 (95.7%)\n",
            "Speed : 1826.0 sentences/s (gpu mode, bsize=128)\n",
            "Nb words kept : 353806/370992 (95.4%)\n",
            "Speed : 2308.4 sentences/s (gpu mode, bsize=128)\n",
            "Nb words kept : 357921/373821 (95.7%)\n",
            "Speed : 2289.8 sentences/s (gpu mode, bsize=128)\n",
            "Nb words kept : 30805/32253 (95.5%)\n",
            "Speed : 2130.5 sentences/s (gpu mode, bsize=128)\n",
            "Nb words kept : 31302/32684 (95.8%)\n",
            "Speed : 2163.9 sentences/s (gpu mode, bsize=128)\n"
          ],
          "name": "stdout"
        }
      ]
    },
    {
      "metadata": {
        "id": "BOdJ4K5Rt6RT",
        "colab_type": "code",
        "colab": {}
      },
      "cell_type": "code",
      "source": [
        "del model\n",
        "del infersent_1\n",
        "del infersent_2"
      ],
      "execution_count": 0,
      "outputs": []
    },
    {
      "metadata": {
        "id": "lIkMtICSThoZ",
        "colab_type": "text"
      },
      "cell_type": "markdown",
      "source": [
        "# Sentence Encoder V2"
      ]
    },
    {
      "metadata": {
        "id": "aL2-FeJ-Thoa",
        "colab_type": "text"
      },
      "cell_type": "markdown",
      "source": [
        "https://tfhub.dev/google/universal-sentence-encoder/2"
      ]
    },
    {
      "metadata": {
        "id": "eCCuUdvz7ywM",
        "colab_type": "code",
        "outputId": "f8e64d52-d331-437d-ea27-8909bc93445f",
        "colab": {
          "base_uri": "https://localhost:8080/",
          "height": 50
        }
      },
      "cell_type": "code",
      "source": [
        "import tensorflow as tf\n",
        "import tensorflow_hub as hub"
      ],
      "execution_count": 0,
      "outputs": [
        {
          "output_type": "stream",
          "text": [
            "WARNING: Logging before flag parsing goes to stderr.\n",
            "W0401 06:33:39.893957 140023247116160 __init__.py:56] Some hub symbols are not available because TensorFlow version is less than 1.14\n"
          ],
          "name": "stderr"
        }
      ]
    },
    {
      "metadata": {
        "id": "JXUgrAajThpr",
        "colab_type": "code",
        "colab": {}
      },
      "cell_type": "code",
      "source": [
        "module_url = \"https://tfhub.dev/google/universal-sentence-encoder/2\" #@param [\"https://tfhub.dev/google/universal-sentence-encoder/2\", \"https://tfhub.dev/google/universal-sentence-encoder-large/3\"]"
      ],
      "execution_count": 0,
      "outputs": []
    },
    {
      "metadata": {
        "id": "kbKz3ohbAyNl",
        "colab_type": "code",
        "outputId": "64e32537-6301-4d28-ef44-b3eda3e047e2",
        "colab": {
          "base_uri": "https://localhost:8080/",
          "height": 135
        }
      },
      "cell_type": "code",
      "source": [
        "embed = hub.Module(module_url)"
      ],
      "execution_count": 0,
      "outputs": [
        {
          "output_type": "stream",
          "text": [
            "WARNING:tensorflow:From /usr/local/lib/python3.6/dist-packages/tensorflow/python/ops/control_flow_ops.py:3632: colocate_with (from tensorflow.python.framework.ops) is deprecated and will be removed in a future version.\n",
            "Instructions for updating:\n",
            "Colocations handled automatically by placer.\n"
          ],
          "name": "stdout"
        },
        {
          "output_type": "stream",
          "text": [
            "W0401 06:33:58.268126 140023247116160 deprecation.py:323] From /usr/local/lib/python3.6/dist-packages/tensorflow/python/ops/control_flow_ops.py:3632: colocate_with (from tensorflow.python.framework.ops) is deprecated and will be removed in a future version.\n",
            "Instructions for updating:\n",
            "Colocations handled automatically by placer.\n"
          ],
          "name": "stderr"
        }
      ]
    },
    {
      "metadata": {
        "id": "yV3hBbht_vsQ",
        "colab_type": "code",
        "colab": {}
      },
      "cell_type": "code",
      "source": [
        "X_scores['sentence encoder'] = []"
      ],
      "execution_count": 0,
      "outputs": []
    },
    {
      "metadata": {
        "id": "r3qyXxv6fvqo",
        "colab_type": "code",
        "colab": {}
      },
      "cell_type": "code",
      "source": [
        "batch = 50000"
      ],
      "execution_count": 0,
      "outputs": []
    },
    {
      "metadata": {
        "id": "L38yTVryr99G",
        "colab_type": "code",
        "colab": {}
      },
      "cell_type": "code",
      "source": [
        "# Run in cpu since GPU wont help\n",
        "config = tf.ConfigProto(\n",
        "        device_count = {'GPU': 0}\n",
        "    )\n",
        "sess = tf.Session()"
      ],
      "execution_count": 0,
      "outputs": []
    },
    {
      "metadata": {
        "id": "V-jIYTgxThqq",
        "colab_type": "code",
        "outputId": "d390d71a-6174-4137-c7cc-2888d2db1581",
        "colab": {
          "base_uri": "https://localhost:8080/",
          "height": 748
        }
      },
      "cell_type": "code",
      "source": [
        "with tf.Session(config=config) as session:\n",
        "    session.run([tf.global_variables_initializer(), tf.tables_initializer()])\n",
        "    for i in range(0, length, batch):\n",
        "        print(i)\n",
        "        sentences_embeddings_1 = session.run(embed(sentences_1[i:i+batch].tolist()))\n",
        "        sentences_embeddings_2 = session.run(embed(sentences_2[i:i+batch].tolist()))\n",
        "        X_scores['sentence encoder'].extend(get_scores(sentences_embeddings_1, sentences_embeddings_2, sentences_embeddings_1.shape[0]))"
      ],
      "execution_count": 0,
      "outputs": [
        {
          "output_type": "stream",
          "text": [
            "0\n",
            "INFO:tensorflow:Saver not created because there are no variables in the graph to restore\n"
          ],
          "name": "stdout"
        },
        {
          "output_type": "stream",
          "text": [
            "I0401 06:34:43.706293 140023247116160 saver.py:1483] Saver not created because there are no variables in the graph to restore\n"
          ],
          "name": "stderr"
        },
        {
          "output_type": "stream",
          "text": [
            "INFO:tensorflow:Saver not created because there are no variables in the graph to restore\n"
          ],
          "name": "stdout"
        },
        {
          "output_type": "stream",
          "text": [
            "I0401 06:35:11.572540 140023247116160 saver.py:1483] Saver not created because there are no variables in the graph to restore\n"
          ],
          "name": "stderr"
        },
        {
          "output_type": "stream",
          "text": [
            "50000\n",
            "INFO:tensorflow:Saver not created because there are no variables in the graph to restore\n"
          ],
          "name": "stdout"
        },
        {
          "output_type": "stream",
          "text": [
            "I0401 06:36:10.038043 140023247116160 saver.py:1483] Saver not created because there are no variables in the graph to restore\n"
          ],
          "name": "stderr"
        },
        {
          "output_type": "stream",
          "text": [
            "INFO:tensorflow:Saver not created because there are no variables in the graph to restore\n"
          ],
          "name": "stdout"
        },
        {
          "output_type": "stream",
          "text": [
            "I0401 06:36:35.471166 140023247116160 saver.py:1483] Saver not created because there are no variables in the graph to restore\n"
          ],
          "name": "stderr"
        },
        {
          "output_type": "stream",
          "text": [
            "100000\n",
            "INFO:tensorflow:Saver not created because there are no variables in the graph to restore\n"
          ],
          "name": "stdout"
        },
        {
          "output_type": "stream",
          "text": [
            "I0401 06:37:34.453935 140023247116160 saver.py:1483] Saver not created because there are no variables in the graph to restore\n"
          ],
          "name": "stderr"
        },
        {
          "output_type": "stream",
          "text": [
            "INFO:tensorflow:Saver not created because there are no variables in the graph to restore\n"
          ],
          "name": "stdout"
        },
        {
          "output_type": "stream",
          "text": [
            "I0401 06:38:00.396581 140023247116160 saver.py:1483] Saver not created because there are no variables in the graph to restore\n"
          ],
          "name": "stderr"
        },
        {
          "output_type": "stream",
          "text": [
            "150000\n",
            "INFO:tensorflow:Saver not created because there are no variables in the graph to restore\n"
          ],
          "name": "stdout"
        },
        {
          "output_type": "stream",
          "text": [
            "I0401 06:38:59.894641 140023247116160 saver.py:1483] Saver not created because there are no variables in the graph to restore\n"
          ],
          "name": "stderr"
        },
        {
          "output_type": "stream",
          "text": [
            "INFO:tensorflow:Saver not created because there are no variables in the graph to restore\n"
          ],
          "name": "stdout"
        },
        {
          "output_type": "stream",
          "text": [
            "I0401 06:39:26.024930 140023247116160 saver.py:1483] Saver not created because there are no variables in the graph to restore\n"
          ],
          "name": "stderr"
        },
        {
          "output_type": "stream",
          "text": [
            "200000\n",
            "INFO:tensorflow:Saver not created because there are no variables in the graph to restore\n"
          ],
          "name": "stdout"
        },
        {
          "output_type": "stream",
          "text": [
            "I0401 06:40:25.739451 140023247116160 saver.py:1483] Saver not created because there are no variables in the graph to restore\n"
          ],
          "name": "stderr"
        },
        {
          "output_type": "stream",
          "text": [
            "INFO:tensorflow:Saver not created because there are no variables in the graph to restore\n"
          ],
          "name": "stdout"
        },
        {
          "output_type": "stream",
          "text": [
            "I0401 06:40:53.534143 140023247116160 saver.py:1483] Saver not created because there are no variables in the graph to restore\n"
          ],
          "name": "stderr"
        },
        {
          "output_type": "stream",
          "text": [
            "250000\n",
            "INFO:tensorflow:Saver not created because there are no variables in the graph to restore\n"
          ],
          "name": "stdout"
        },
        {
          "output_type": "stream",
          "text": [
            "I0401 06:41:53.333753 140023247116160 saver.py:1483] Saver not created because there are no variables in the graph to restore\n"
          ],
          "name": "stderr"
        },
        {
          "output_type": "stream",
          "text": [
            "INFO:tensorflow:Saver not created because there are no variables in the graph to restore\n"
          ],
          "name": "stdout"
        },
        {
          "output_type": "stream",
          "text": [
            "I0401 06:42:20.812597 140023247116160 saver.py:1483] Saver not created because there are no variables in the graph to restore\n"
          ],
          "name": "stderr"
        },
        {
          "output_type": "stream",
          "text": [
            "300000\n",
            "INFO:tensorflow:Saver not created because there are no variables in the graph to restore\n"
          ],
          "name": "stdout"
        },
        {
          "output_type": "stream",
          "text": [
            "I0401 06:43:17.420102 140023247116160 saver.py:1483] Saver not created because there are no variables in the graph to restore\n"
          ],
          "name": "stderr"
        },
        {
          "output_type": "stream",
          "text": [
            "INFO:tensorflow:Saver not created because there are no variables in the graph to restore\n"
          ],
          "name": "stdout"
        },
        {
          "output_type": "stream",
          "text": [
            "I0401 06:43:48.674592 140023247116160 saver.py:1483] Saver not created because there are no variables in the graph to restore\n"
          ],
          "name": "stderr"
        },
        {
          "output_type": "stream",
          "text": [
            "350000\n",
            "INFO:tensorflow:Saver not created because there are no variables in the graph to restore\n"
          ],
          "name": "stdout"
        },
        {
          "output_type": "stream",
          "text": [
            "I0401 06:44:51.124536 140023247116160 saver.py:1483] Saver not created because there are no variables in the graph to restore\n"
          ],
          "name": "stderr"
        },
        {
          "output_type": "stream",
          "text": [
            "INFO:tensorflow:Saver not created because there are no variables in the graph to restore\n"
          ],
          "name": "stdout"
        },
        {
          "output_type": "stream",
          "text": [
            "I0401 06:45:20.733205 140023247116160 saver.py:1483] Saver not created because there are no variables in the graph to restore\n"
          ],
          "name": "stderr"
        },
        {
          "output_type": "stream",
          "text": [
            "400000\n",
            "INFO:tensorflow:Saver not created because there are no variables in the graph to restore\n"
          ],
          "name": "stdout"
        },
        {
          "output_type": "stream",
          "text": [
            "I0401 06:46:10.632576 140023247116160 saver.py:1483] Saver not created because there are no variables in the graph to restore\n"
          ],
          "name": "stderr"
        },
        {
          "output_type": "stream",
          "text": [
            "INFO:tensorflow:Saver not created because there are no variables in the graph to restore\n"
          ],
          "name": "stdout"
        },
        {
          "output_type": "stream",
          "text": [
            "I0401 06:46:19.845982 140023247116160 saver.py:1483] Saver not created because there are no variables in the graph to restore\n"
          ],
          "name": "stderr"
        }
      ]
    },
    {
      "metadata": {
        "id": "pK6kZBTGujgr",
        "colab_type": "code",
        "colab": {}
      },
      "cell_type": "code",
      "source": [
        "del embed"
      ],
      "execution_count": 0,
      "outputs": []
    },
    {
      "metadata": {
        "id": "zu1XmJfOxTqw",
        "colab_type": "text"
      },
      "cell_type": "markdown",
      "source": [
        "# Doc2Vec model"
      ]
    },
    {
      "metadata": {
        "id": "m2t4HM5uxX1v",
        "colab_type": "code",
        "colab": {}
      },
      "cell_type": "code",
      "source": [
        "from gensim import utils\n",
        "from gensim.models import Doc2Vec\n",
        "from gensim.models.doc2vec import LabeledSentence"
      ],
      "execution_count": 0,
      "outputs": []
    },
    {
      "metadata": {
        "id": "R_UC2el-xXxM",
        "colab_type": "code",
        "outputId": "ba6a0b86-c6fa-46a3-8ce0-a191133a9dfc",
        "colab": {
          "base_uri": "https://localhost:8080/",
          "height": 105
        }
      },
      "cell_type": "code",
      "source": [
        "model = Doc2Vec.load(dbow_wiki_embeddings)"
      ],
      "execution_count": 0,
      "outputs": [
        {
          "output_type": "stream",
          "text": [
            "/usr/local/lib/python3.6/dist-packages/gensim/models/doc2vec.py:566: UserWarning: The parameter `iter` is deprecated, will be removed in 4.0.0, use `epochs` instead.\n",
            "  warnings.warn(\"The parameter `iter` is deprecated, will be removed in 4.0.0, use `epochs` instead.\")\n",
            "/usr/local/lib/python3.6/dist-packages/gensim/models/doc2vec.py:570: UserWarning: The parameter `size` is deprecated, will be removed in 4.0.0, use `vector_size` instead.\n",
            "  warnings.warn(\"The parameter `size` is deprecated, will be removed in 4.0.0, use `vector_size` instead.\")\n"
          ],
          "name": "stderr"
        }
      ]
    },
    {
      "metadata": {
        "id": "J9ZTjGlkxXsi",
        "colab_type": "code",
        "colab": {}
      },
      "cell_type": "code",
      "source": [
        "sentence_vector1 = []\n",
        "for i in range(length):\n",
        "    sentence_vector1.append(model.infer_vector(sentences_1[i].split()))\n",
        "sentence_vector1 = np.asarray(sentence_vector1)"
      ],
      "execution_count": 0,
      "outputs": []
    },
    {
      "metadata": {
        "id": "9inrJfCDxXnJ",
        "colab_type": "code",
        "colab": {}
      },
      "cell_type": "code",
      "source": [
        "sentence_vector2 = []\n",
        "for i in range(length):\n",
        "    sentence_vector2.append(model.infer_vector(sentences_2[i].split()))\n",
        "sentence_vector2 = np.asarray(sentence_vector2)"
      ],
      "execution_count": 0,
      "outputs": []
    },
    {
      "metadata": {
        "id": "JsOzrOZDxXdu",
        "colab_type": "code",
        "colab": {}
      },
      "cell_type": "code",
      "source": [
        "X_scores['document vectors'] = get_scores(sentence_vector1, sentence_vector2, length)"
      ],
      "execution_count": 0,
      "outputs": []
    },
    {
      "metadata": {
        "id": "QkQLOOKm59Dy",
        "colab_type": "code",
        "colab": {}
      },
      "cell_type": "code",
      "source": [
        "del model\n",
        "del sentence_vector1\n",
        "del sentence_vector2"
      ],
      "execution_count": 0,
      "outputs": []
    },
    {
      "metadata": {
        "id": "gO0txvbuUsE6",
        "colab_type": "text"
      },
      "cell_type": "markdown",
      "source": [
        "# Wordnet Similarity"
      ]
    },
    {
      "metadata": {
        "id": "qoVhk8t6VAz9",
        "colab_type": "code",
        "colab": {}
      },
      "cell_type": "code",
      "source": [
        "import nltk\n",
        "from nltk import word_tokenize\n",
        "from nltk.corpus import wordnet as wn"
      ],
      "execution_count": 0,
      "outputs": []
    },
    {
      "metadata": {
        "id": "ZXBe6Rmicb66",
        "colab_type": "code",
        "colab": {}
      },
      "cell_type": "code",
      "source": [
        "from scipy import spatial\n",
        "from nltk.metrics import edit_distance"
      ],
      "execution_count": 0,
      "outputs": []
    },
    {
      "metadata": {
        "id": "z-jz6SMhVdve",
        "colab_type": "code",
        "outputId": "c76199e0-589d-4614-c55f-d9ae8e843591",
        "colab": {
          "base_uri": "https://localhost:8080/",
          "height": 147
        }
      },
      "cell_type": "code",
      "source": [
        "nltk.download('punkt')\n",
        "nltk.download('wordnet')\n",
        "nltk.download('averaged_perceptron_tagger')"
      ],
      "execution_count": 0,
      "outputs": [
        {
          "output_type": "stream",
          "text": [
            "[nltk_data] Downloading package punkt to /root/nltk_data...\n",
            "[nltk_data]   Package punkt is already up-to-date!\n",
            "[nltk_data] Downloading package wordnet to /root/nltk_data...\n",
            "[nltk_data]   Package wordnet is already up-to-date!\n",
            "[nltk_data] Downloading package averaged_perceptron_tagger to\n",
            "[nltk_data]     /root/nltk_data...\n",
            "[nltk_data]   Unzipping taggers/averaged_perceptron_tagger.zip.\n"
          ],
          "name": "stderr"
        },
        {
          "output_type": "execute_result",
          "data": {
            "text/plain": [
              "True"
            ]
          },
          "metadata": {
            "tags": []
          },
          "execution_count": 85
        }
      ]
    },
    {
      "metadata": {
        "id": "h6eLnHFxVjGx",
        "colab_type": "code",
        "colab": {}
      },
      "cell_type": "code",
      "source": [
        "def tokenize(q1, q2):\n",
        "    return word_tokenize(q1), word_tokenize(q2)"
      ],
      "execution_count": 0,
      "outputs": []
    },
    {
      "metadata": {
        "id": "pdCGNcPPVotg",
        "colab_type": "code",
        "colab": {}
      },
      "cell_type": "code",
      "source": [
        "def posTag(q1, q2):\n",
        "    return nltk.pos_tag(q1), nltk.pos_tag(q2)"
      ],
      "execution_count": 0,
      "outputs": []
    },
    {
      "metadata": {
        "id": "PMFCJqpuVq5w",
        "colab_type": "code",
        "colab": {}
      },
      "cell_type": "code",
      "source": [
        "def stemmer(tag_q1, tag_q2):\n",
        "    stem_q1 = []\n",
        "    stem_q2 = []\n",
        "\n",
        "    for token in tag_q1:\n",
        "        stem_q1.append(stem(token))\n",
        "\n",
        "    for token in tag_q2:\n",
        "        stem_q2.append(stem(token))\n",
        "\n",
        "    return stem_q1, stem_q2"
      ],
      "execution_count": 0,
      "outputs": []
    },
    {
      "metadata": {
        "id": "mn_zd48RZBzA",
        "colab_type": "code",
        "colab": {}
      },
      "cell_type": "code",
      "source": [
        "class Lesk(object):\n",
        "\n",
        "    def __init__(self, sentence):\n",
        "        self.sentence = sentence\n",
        "        self.meanings = {}\n",
        "        for word in sentence:\n",
        "            self.meanings[word] = ''\n",
        "\n",
        "    def getSenses(self, word):\n",
        "        # print word\n",
        "        return wn.synsets(word.lower())\n",
        "\n",
        "    def getGloss(self, senses):\n",
        "\n",
        "        gloss = {}\n",
        "\n",
        "        for sense in senses:\n",
        "            gloss[sense.name()] = []\n",
        "\n",
        "        for sense in senses:\n",
        "            gloss[sense.name()] += word_tokenize(sense.definition())\n",
        "\n",
        "        return gloss\n",
        "\n",
        "    def getAll(self, word):\n",
        "        senses = self.getSenses(word)\n",
        "\n",
        "        if senses == []:\n",
        "            return {word.lower(): senses}\n",
        "\n",
        "        return self.getGloss(senses)\n",
        "\n",
        "    def Score(self, set1, set2):\n",
        "        # Base\n",
        "        overlap = 0\n",
        "\n",
        "        # Step\n",
        "        for word in set1:\n",
        "            if word in set2:\n",
        "                overlap += 1\n",
        "\n",
        "        return overlap\n",
        "\n",
        "    def overlapScore(self, word1, word2):\n",
        "\n",
        "        gloss_set1 = self.getAll(word1)\n",
        "        if self.meanings[word2] == '':\n",
        "            gloss_set2 = self.getAll(word2)\n",
        "        else:\n",
        "            # print 'here'\n",
        "            gloss_set2 = self.getGloss([wn.synset(self.meanings[word2])])\n",
        "\n",
        "        # print gloss_set2\n",
        "\n",
        "        score = {}\n",
        "        for i in gloss_set1.keys():\n",
        "            score[i] = 0\n",
        "            for j in gloss_set2.keys():\n",
        "                score[i] += self.Score(gloss_set1[i], gloss_set2[j])\n",
        "\n",
        "        bestSense = None\n",
        "        max_score = 0\n",
        "        for i in gloss_set1.keys():\n",
        "            if score[i] > max_score:\n",
        "                max_score = score[i]\n",
        "                bestSense = i\n",
        "\n",
        "        return bestSense, max_score\n",
        "\n",
        "    def lesk(self, word, sentence):\n",
        "        maxOverlap = 0\n",
        "        context = sentence\n",
        "        word_sense = []\n",
        "        meaning = {}\n",
        "\n",
        "        senses = self.getSenses(word)\n",
        "\n",
        "        for sense in senses:\n",
        "            meaning[sense.name()] = 0\n",
        "\n",
        "        for word_context in context:\n",
        "            if not word == word_context:\n",
        "                score = self.overlapScore(word, word_context)\n",
        "                if score[0] == None:\n",
        "                    continue\n",
        "                meaning[score[0]] += score[1]\n",
        "\n",
        "        if senses == []:\n",
        "            return word, None, None\n",
        "\n",
        "        self.meanings[word] = max(meaning.keys(), key=lambda x: meaning[x])\n",
        "\n",
        "        return word, self.meanings[word], wn.synset(self.meanings[word]).definition()"
      ],
      "execution_count": 0,
      "outputs": []
    },
    {
      "metadata": {
        "id": "walosTF0ZUZF",
        "colab_type": "code",
        "colab": {}
      },
      "cell_type": "code",
      "source": [
        "def path(set1, set2):\n",
        "    return wn.path_similarity(set1, set2)"
      ],
      "execution_count": 0,
      "outputs": []
    },
    {
      "metadata": {
        "id": "A6Yje56LZYHs",
        "colab_type": "code",
        "colab": {}
      },
      "cell_type": "code",
      "source": [
        "def wup(set1, set2):\n",
        "    return wn.wup_similarity(set1, set2)"
      ],
      "execution_count": 0,
      "outputs": []
    },
    {
      "metadata": {
        "id": "UOsVxNdqZutx",
        "colab_type": "code",
        "colab": {}
      },
      "cell_type": "code",
      "source": [
        "\n",
        "def edit(word1, word2):\n",
        "    if float(edit_distance(word1, word2)) == 0.0:\n",
        "        return 0.0\n",
        "    return 1.0 / float(edit_distance(word1, word2))"
      ],
      "execution_count": 0,
      "outputs": []
    },
    {
      "metadata": {
        "id": "huvIgONAZxP8",
        "colab_type": "code",
        "colab": {}
      },
      "cell_type": "code",
      "source": [
        "def computePath(q1, q2):\n",
        "\n",
        "    R = np.zeros((len(q1), len(q2)))\n",
        "\n",
        "    for i in range(len(q1)):\n",
        "        for j in range(len(q2)):\n",
        "            if q1[i][1] == None or q2[j][1] == None:\n",
        "                sim = edit(q1[i][0], q2[j][0])\n",
        "            else:\n",
        "                sim = path(wn.synset(q1[i][1]), wn.synset(q2[j][1]))\n",
        "\n",
        "            if sim == None:\n",
        "                sim = edit(q1[i][0], q2[j][0])\n",
        "\n",
        "            R[i, j] = sim\n",
        "    return R"
      ],
      "execution_count": 0,
      "outputs": []
    },
    {
      "metadata": {
        "id": "5g7JJklpZ2Bu",
        "colab_type": "code",
        "colab": {}
      },
      "cell_type": "code",
      "source": [
        "#WUP Similarity\n",
        "\n",
        "def computeWup(q1, q2):\n",
        "\n",
        "    R = np.zeros((len(q1), len(q2)))\n",
        "\n",
        "    for i in range(len(q1)):\n",
        "        for j in range(len(q2)):\n",
        "            if q1[i][1] == None or q2[j][1] == None:\n",
        "                sim = edit(q1[i][0], q2[j][0])\n",
        "            else:\n",
        "                sim = wup(wn.synset(q1[i][1]), wn.synset(q2[j][1]))\n",
        "\n",
        "            if sim == None:\n",
        "                sim = edit(q1[i][0], q2[j][0])\n",
        "\n",
        "            R[i, j] = sim\n",
        "\n",
        "    # print R\n",
        "\n",
        "    return R"
      ],
      "execution_count": 0,
      "outputs": []
    },
    {
      "metadata": {
        "id": "_e9XmXtMZ295",
        "colab_type": "code",
        "colab": {}
      },
      "cell_type": "code",
      "source": [
        "def overallSim(q1, q2, R):\n",
        "\n",
        "    sum_X = 0.0\n",
        "    sum_Y = 0.0\n",
        "\n",
        "    for i in range(len(q1)):\n",
        "        max_i = 0.0\n",
        "        for j in range(len(q2)):\n",
        "            if R[i, j] > max_i:\n",
        "                max_i = R[i, j]\n",
        "        sum_X += max_i\n",
        "\n",
        "    for i in range(len(q1)):\n",
        "        max_j = 0.0\n",
        "        for j in range(len(q2)):\n",
        "            if R[i, j] > max_j:\n",
        "                max_j = R[i, j]\n",
        "        sum_Y += max_j\n",
        "        \n",
        "    if (float(len(q1)) + float(len(q2))) == 0.0:\n",
        "        return 0.0\n",
        "        \n",
        "    overall = (sum_X + sum_Y) / (2 * (float(len(q1)) + float(len(q2))))\n",
        "\n",
        "    return overall"
      ],
      "execution_count": 0,
      "outputs": []
    },
    {
      "metadata": {
        "id": "hvx9FOy4Z-37",
        "colab_type": "code",
        "colab": {}
      },
      "cell_type": "code",
      "source": [
        "#Sentence comparison\n",
        "def semanticSimilarity(q1, q2):\n",
        "\n",
        "    tokens_q1, tokens_q2 = tokenize(q1, q2)\n",
        "    # stem_q1, stem_q2 = stemmer(tokens_q1, tokens_q2)\n",
        "    tag_q1, tag_q2 = posTag(tokens_q1, tokens_q2)\n",
        "\n",
        "    sentence = []\n",
        "    for i, word in enumerate(tag_q1):\n",
        "        if 'NN' in word[1] or 'JJ' in word[1] or 'VB' in word[1]:\n",
        "            sentence.append(word[0])\n",
        "\n",
        "    sense1 = Lesk(sentence)\n",
        "    sentence1Means = []\n",
        "    for word in sentence:\n",
        "        sentence1Means.append(sense1.lesk(word, sentence))\n",
        "\n",
        "    sentence = []\n",
        "    for i, word in enumerate(tag_q2):\n",
        "        if 'NN' in word[1] or 'JJ' in word[1] or 'VB' in word[1]:\n",
        "            sentence.append(word[0])\n",
        "\n",
        "    sense2 = Lesk(sentence)\n",
        "    sentence2Means = []\n",
        "    for word in sentence:\n",
        "        sentence2Means.append(sense2.lesk(word, sentence))\n",
        "\n",
        "    R1 = computePath(sentence1Means, sentence2Means)\n",
        "    R2 = computeWup(sentence1Means, sentence2Means)\n",
        "\n",
        "    R = (R1 + R2) / 2\n",
        "\n",
        "\n",
        "    # print R\n",
        "\n",
        "    return overallSim(sentence1Means, sentence2Means, R)"
      ],
      "execution_count": 0,
      "outputs": []
    },
    {
      "metadata": {
        "id": "ecyjegpzaQ1r",
        "colab_type": "code",
        "colab": {}
      },
      "cell_type": "code",
      "source": [
        "scores = []"
      ],
      "execution_count": 0,
      "outputs": []
    },
    {
      "metadata": {
        "id": "o0LxbSc8Z_52",
        "colab_type": "code",
        "colab": {}
      },
      "cell_type": "code",
      "source": [
        "for i in range(length):\n",
        "   scores.append(semanticSimilarity(sentences_1[i], sentences_2[i]))"
      ],
      "execution_count": 0,
      "outputs": []
    },
    {
      "metadata": {
        "id": "4y2cPGwEaTDb",
        "colab_type": "code",
        "colab": {}
      },
      "cell_type": "code",
      "source": [
        "X_scores[\"wordnet\"] = scores"
      ],
      "execution_count": 0,
      "outputs": []
    },
    {
      "metadata": {
        "id": "0REIjwVNThsP",
        "colab_type": "text"
      },
      "cell_type": "markdown",
      "source": [
        "# CNN and TimeDistributed"
      ]
    },
    {
      "metadata": {
        "id": "ZTLQ5ZJNThsQ",
        "colab_type": "text"
      },
      "cell_type": "markdown",
      "source": [
        "https://www.kaggle.com/zhihang/an-ensemble-approach-cnn-and-timedistributed"
      ]
    },
    {
      "metadata": {
        "id": "g0IEgJDpJEgG",
        "colab_type": "code",
        "colab": {}
      },
      "cell_type": "code",
      "source": [
        "import pickle"
      ],
      "execution_count": 0,
      "outputs": []
    },
    {
      "metadata": {
        "id": "zE6jg7HHThsk",
        "colab_type": "code",
        "colab": {}
      },
      "cell_type": "code",
      "source": [
        "import numpy as np\n",
        "import pandas as pd"
      ],
      "execution_count": 0,
      "outputs": []
    },
    {
      "metadata": {
        "id": "YdMktgOMThsx",
        "colab_type": "code",
        "colab": {}
      },
      "cell_type": "code",
      "source": [
        "import nltk\n",
        "from nltk.corpus import stopwords\n",
        "from nltk.stem import SnowballStemmer"
      ],
      "execution_count": 0,
      "outputs": []
    },
    {
      "metadata": {
        "id": "yXelV3HjThtE",
        "colab_type": "code",
        "colab": {}
      },
      "cell_type": "code",
      "source": [
        "import re\n",
        "import matplotlib.pyplot as plt\n",
        "import datetime, time, json\n",
        "from string import punctuation"
      ],
      "execution_count": 0,
      "outputs": []
    },
    {
      "metadata": {
        "id": "awzjplbcThtL",
        "colab_type": "code",
        "colab": {}
      },
      "cell_type": "code",
      "source": [
        "from collections import defaultdict\n",
        "from sklearn.metrics import accuracy_score"
      ],
      "execution_count": 0,
      "outputs": []
    },
    {
      "metadata": {
        "id": "6gMqAzlFThtO",
        "colab_type": "code",
        "colab": {}
      },
      "cell_type": "code",
      "source": [
        "from keras.preprocessing.text import Tokenizer\n",
        "from keras.preprocessing.sequence import pad_sequences"
      ],
      "execution_count": 0,
      "outputs": []
    },
    {
      "metadata": {
        "id": "TOdeyLYEThtf",
        "colab_type": "code",
        "colab": {}
      },
      "cell_type": "code",
      "source": [
        "from keras import initializers\n",
        "from keras import backend as K\n",
        "from keras.optimizers import SGD\n",
        "from keras.regularizers import l2\n",
        "from keras.models import Sequential\n",
        "from keras.layers import Embedding, Dense, Dropout, Reshape, BatchNormalization, TimeDistributed, Lambda, Activation, LSTM, Flatten, Convolution1D, GRU, MaxPooling1D\n",
        "from keras.callbacks import Callback, ModelCheckpoint, EarlyStopping"
      ],
      "execution_count": 0,
      "outputs": []
    },
    {
      "metadata": {
        "id": "DsJUOT3mThtx",
        "colab_type": "code",
        "colab": {}
      },
      "cell_type": "code",
      "source": [
        "all_questions = sentences_1.tolist() + sentences_2.tolist()"
      ],
      "execution_count": 0,
      "outputs": []
    },
    {
      "metadata": {
        "id": "-gNE5S8VTht2",
        "colab_type": "code",
        "colab": {}
      },
      "cell_type": "code",
      "source": [
        "tokenizer = Tokenizer()\n",
        "tokenizer.fit_on_texts(all_questions)"
      ],
      "execution_count": 0,
      "outputs": []
    },
    {
      "metadata": {
        "id": "h51sWibKCET3",
        "colab_type": "code",
        "colab": {}
      },
      "cell_type": "code",
      "source": [
        "import pickle"
      ],
      "execution_count": 0,
      "outputs": []
    },
    {
      "metadata": {
        "id": "OSp5R2khIyYp",
        "colab_type": "code",
        "colab": {}
      },
      "cell_type": "code",
      "source": [
        "with open('cnn_time_distributed.pickle', 'wb') as handle:\n",
        "    pickle.dump(tokenizer, handle, protocol=pickle.HIGHEST_PROTOCOL)"
      ],
      "execution_count": 0,
      "outputs": []
    },
    {
      "metadata": {
        "id": "UKbzxzKQTht5",
        "colab_type": "code",
        "colab": {}
      },
      "cell_type": "code",
      "source": [
        "question1_word_sequences = tokenizer.texts_to_sequences(sentences_1.tolist())\n",
        "question2_word_sequences = tokenizer.texts_to_sequences(sentences_2.tolist())"
      ],
      "execution_count": 0,
      "outputs": []
    },
    {
      "metadata": {
        "id": "bjn1esYUThuK",
        "colab_type": "code",
        "colab": {}
      },
      "cell_type": "code",
      "source": [
        "word_index = tokenizer.word_index"
      ],
      "execution_count": 0,
      "outputs": []
    },
    {
      "metadata": {
        "id": "WnTafrvlThuO",
        "colab_type": "code",
        "outputId": "60933438-6520-4715-f4cd-5848d5bcdea0",
        "colab": {
          "base_uri": "https://localhost:8080/",
          "height": 34
        }
      },
      "cell_type": "code",
      "source": [
        "max_question_len = 0\n",
        "for each in range(length):\n",
        "    max_question_len = max(max_question_len, len(question1_word_sequences[each]), len(question2_word_sequences[each]))\n",
        "print(max_question_len)"
      ],
      "execution_count": 0,
      "outputs": [
        {
          "output_type": "stream",
          "text": [
            "97\n"
          ],
          "name": "stdout"
        }
      ]
    },
    {
      "metadata": {
        "id": "i9zDir1ZThuh",
        "colab_type": "code",
        "colab": {}
      },
      "cell_type": "code",
      "source": [
        "train_q1 = pad_sequences(question1_word_sequences,\n",
        "                              maxlen = max_question_len)"
      ],
      "execution_count": 0,
      "outputs": []
    },
    {
      "metadata": {
        "id": "q0mG5A7_ThvP",
        "colab_type": "code",
        "colab": {}
      },
      "cell_type": "code",
      "source": [
        "train_q2 = pad_sequences(question2_word_sequences,\n",
        "                              maxlen = max_question_len)"
      ],
      "execution_count": 0,
      "outputs": []
    },
    {
      "metadata": {
        "id": "bUJJYK2mThvV",
        "colab_type": "code",
        "outputId": "c4523c71-577c-452f-eeb0-916d993cc555",
        "colab": {
          "base_uri": "https://localhost:8080/",
          "height": 34
        }
      },
      "cell_type": "code",
      "source": [
        "embeddings_index = {}\n",
        "with open(common_crawl_embeddings, encoding='utf-8') as f:\n",
        "    for line in f:\n",
        "        values = line.split(' ')\n",
        "        word = values[0]\n",
        "        embedding = np.asarray(values[1:], dtype='float32')\n",
        "        embeddings_index[word] = embedding\n",
        "print('Word embeddings:', len(embeddings_index))"
      ],
      "execution_count": 0,
      "outputs": [
        {
          "output_type": "stream",
          "text": [
            "Word embeddings: 2196016\n"
          ],
          "name": "stdout"
        }
      ]
    },
    {
      "metadata": {
        "id": "Q1fCQe8jThvz",
        "colab_type": "code",
        "colab": {}
      },
      "cell_type": "code",
      "source": [
        "embedding_dim = 300"
      ],
      "execution_count": 0,
      "outputs": []
    },
    {
      "metadata": {
        "id": "qyRcPN4TThv3",
        "colab_type": "code",
        "outputId": "37b7a466-0257-4848-c08b-2dbc6a3c7498",
        "colab": {
          "base_uri": "https://localhost:8080/",
          "height": 34
        }
      },
      "cell_type": "code",
      "source": [
        "nb_words = len(word_index)\n",
        "word_embedding_matrix = np.zeros((nb_words + 1, embedding_dim))\n",
        "for word, i in word_index.items():\n",
        "    embedding_vector = embeddings_index.get(word)\n",
        "    if embedding_vector is not None:\n",
        "        # words not found in embedding index will be all-zeros.\n",
        "        word_embedding_matrix[i] = embedding_vector\n",
        "\n",
        "print('Null word embeddings: %d' % np.sum(np.sum(word_embedding_matrix, axis=1) == 0)) #75,334"
      ],
      "execution_count": 0,
      "outputs": [
        {
          "output_type": "stream",
          "text": [
            "Null word embeddings: 16082\n"
          ],
          "name": "stdout"
        }
      ]
    },
    {
      "metadata": {
        "id": "717pXiF4Thv8",
        "colab_type": "code",
        "colab": {}
      },
      "cell_type": "code",
      "source": [
        "units = 128 # Number of nodes in the Dense layers\n",
        "dropout = 0.25 # Percentage of nodes to drop\n",
        "nb_filter = 32 # Number of filters to use in Convolution1D\n",
        "filter_length = 3 # Length of filter for Convolution1D"
      ],
      "execution_count": 0,
      "outputs": []
    },
    {
      "metadata": {
        "id": "DtvBJ-IbThwC",
        "colab_type": "code",
        "colab": {}
      },
      "cell_type": "code",
      "source": [
        "weights = initializers.TruncatedNormal(mean=0.0, stddev=0.05, seed=2)\n",
        "bias = bias_initializer='zeros'"
      ],
      "execution_count": 0,
      "outputs": []
    },
    {
      "metadata": {
        "id": "kfX5rFLjThwG",
        "colab_type": "code",
        "colab": {}
      },
      "cell_type": "code",
      "source": [
        "from keras.layers import Input"
      ],
      "execution_count": 0,
      "outputs": []
    },
    {
      "metadata": {
        "id": "eWwGJL0sThwW",
        "colab_type": "code",
        "outputId": "46905faa-6301-40df-bdb7-aa2c1f68cad6",
        "colab": {
          "base_uri": "https://localhost:8080/",
          "height": 139
        }
      },
      "cell_type": "code",
      "source": [
        "model_1_input = Input(shape = (max_question_len,), dtype = 'int32', name = 'model_1_input')\n",
        "model_1_embedding = Embedding(nb_words + 1,\n",
        "                     embedding_dim,\n",
        "                     #weights = [word_embedding_matrix], \n",
        "                     input_length = max_question_len,\n",
        "                     #trainable = False\n",
        "                             )(model_1_input)\n",
        "model_1_conv_a = Convolution1D(filters = nb_filter, \n",
        "                         kernel_size = filter_length, \n",
        "                         padding = 'same')(model_1_embedding)\n",
        "model_1_batch_a = BatchNormalization()(model_1_conv_a)\n",
        "model_1_act = Activation('relu')(model_1_batch_a)\n",
        "model_1_drop_a = Dropout(dropout)(model_1_act)\n",
        "model_1_conv_b = Convolution1D(filters = nb_filter, \n",
        "                         kernel_size = filter_length, \n",
        "                         padding = 'same')(model_1_drop_a)\n",
        "model_1_batch_b = BatchNormalization()(model_1_conv_b)\n",
        "model_1_act_b = Activation('relu')(model_1_batch_b)\n",
        "model_1_drop_b = Dropout(dropout)(model_1_act_b)\n",
        "model_1_flat = Flatten()(model_1_drop_b)"
      ],
      "execution_count": 0,
      "outputs": [
        {
          "output_type": "stream",
          "text": [
            "WARNING:tensorflow:From /usr/local/lib/python3.6/dist-packages/tensorflow/python/framework/op_def_library.py:263: colocate_with (from tensorflow.python.framework.ops) is deprecated and will be removed in a future version.\n",
            "Instructions for updating:\n",
            "Colocations handled automatically by placer.\n",
            "WARNING:tensorflow:From /usr/local/lib/python3.6/dist-packages/keras/backend/tensorflow_backend.py:3445: calling dropout (from tensorflow.python.ops.nn_ops) with keep_prob is deprecated and will be removed in a future version.\n",
            "Instructions for updating:\n",
            "Please use `rate` instead of `keep_prob`. Rate should be set to `rate = 1 - keep_prob`.\n"
          ],
          "name": "stdout"
        }
      ]
    },
    {
      "metadata": {
        "id": "RR3kfYpXThwm",
        "colab_type": "code",
        "colab": {}
      },
      "cell_type": "code",
      "source": [
        "model_2_input = Input(shape = (max_question_len,), dtype = 'int32', name = 'model_2_input')\n",
        "model_2_embedding = Embedding(nb_words + 1,\n",
        "                     embedding_dim,\n",
        "                     weights = [word_embedding_matrix], \n",
        "                     input_length = max_question_len,\n",
        "                     trainable = False)(model_2_input)\n",
        "model_2_conv_a = Convolution1D(filters = nb_filter, \n",
        "                         kernel_size = filter_length, \n",
        "                         padding = 'same')(model_2_embedding)\n",
        "model_2_batch_a = BatchNormalization()(model_2_conv_a)\n",
        "model_2_act = Activation('relu')(model_2_batch_a)\n",
        "model_2_drop_a = Dropout(dropout)(model_2_act)\n",
        "model_2_conv_b = Convolution1D(filters = nb_filter, \n",
        "                         kernel_size = filter_length, \n",
        "                         padding = 'same')(model_2_drop_a)\n",
        "model_2_batch_b = BatchNormalization()(model_2_conv_b)\n",
        "model_2_act_b = Activation('relu')(model_2_batch_b)\n",
        "model_2_drop_b = Dropout(dropout)(model_2_act_b)\n",
        "model_2_flat = Flatten()(model_2_drop_b)"
      ],
      "execution_count": 0,
      "outputs": []
    },
    {
      "metadata": {
        "id": "6XGdYsi-Thwt",
        "colab_type": "code",
        "colab": {}
      },
      "cell_type": "code",
      "source": [
        "model_3_input = Input(shape = (max_question_len,), dtype = 'int32', name = 'model_3_input')\n",
        "model_3_embedding = Embedding(nb_words + 1,\n",
        "                     embedding_dim,\n",
        "                     weights = [word_embedding_matrix],\n",
        "                     input_length = max_question_len,\n",
        "                     trainable = False)(model_3_input)\n",
        "model_3_time_distributed = TimeDistributed(Dense(embedding_dim))(model_3_embedding)\n",
        "model_3_batch = BatchNormalization()(model_3_time_distributed)\n",
        "model_3_act = Activation('relu')(model_3_batch)\n",
        "model_3_drop = Dropout(dropout)(model_3_act)\n",
        "model_3_lambda = Lambda(lambda x: K.max(x, axis=1), output_shape=(embedding_dim, ))(model_3_drop)"
      ],
      "execution_count": 0,
      "outputs": []
    },
    {
      "metadata": {
        "id": "gZTqDf33Thwx",
        "colab_type": "code",
        "colab": {}
      },
      "cell_type": "code",
      "source": [
        "model_4_input = Input(shape = (max_question_len,), dtype = 'int32', name = 'model_4_input')\n",
        "model_4_embedding = Embedding(nb_words + 1,\n",
        "                     embedding_dim,\n",
        "                     weights = [word_embedding_matrix],\n",
        "                     input_length = max_question_len,\n",
        "                     trainable = False)(model_4_input)\n",
        "model_4_time_distributed = TimeDistributed(Dense(embedding_dim))(model_4_embedding)\n",
        "model_4_batch = BatchNormalization()(model_4_time_distributed)\n",
        "model_4_act = Activation('relu')(model_4_batch)\n",
        "model_4_drop = Dropout(dropout)(model_4_act)\n",
        "model_4_lambda = Lambda(lambda x: K.max(x, axis=1), output_shape=(embedding_dim, ))(model_4_drop)"
      ],
      "execution_count": 0,
      "outputs": []
    },
    {
      "metadata": {
        "id": "8qzQZ3v0Thw2",
        "colab_type": "code",
        "colab": {}
      },
      "cell_type": "code",
      "source": [
        "from keras.layers import concatenate"
      ],
      "execution_count": 0,
      "outputs": []
    },
    {
      "metadata": {
        "id": "wWTYtVWfThw5",
        "colab_type": "code",
        "colab": {}
      },
      "cell_type": "code",
      "source": [
        "merge_layer = concatenate([model_1_flat, model_2_flat, model_3_lambda, model_4_lambda], name = 'merge_layer')"
      ],
      "execution_count": 0,
      "outputs": []
    },
    {
      "metadata": {
        "id": "nhi18BHpThw_",
        "colab_type": "code",
        "colab": {}
      },
      "cell_type": "code",
      "source": [
        "t = Dense(200, activation = 'relu', name = 'dense1')(merge_layer)\n",
        "t = Dropout(0.3)(t)\n",
        "t = BatchNormalization()(t)"
      ],
      "execution_count": 0,
      "outputs": []
    },
    {
      "metadata": {
        "id": "H5gJrwBkThxD",
        "colab_type": "code",
        "colab": {}
      },
      "cell_type": "code",
      "source": [
        "t = Dense(200, activation = 'relu', name  ='dense2')(t)\n",
        "t = Dropout(0.3)(t)\n",
        "t = BatchNormalization()(t)"
      ],
      "execution_count": 0,
      "outputs": []
    },
    {
      "metadata": {
        "id": "1UqIRnYQThxJ",
        "colab_type": "code",
        "colab": {}
      },
      "cell_type": "code",
      "source": [
        "t = Dense(100, activation= 'relu',name = 'dense3')(t)\n",
        "t = Dropout(0.3)(t)\n",
        "t = BatchNormalization()(t)"
      ],
      "execution_count": 0,
      "outputs": []
    },
    {
      "metadata": {
        "id": "JJMX7RW6ThxN",
        "colab_type": "code",
        "colab": {}
      },
      "cell_type": "code",
      "source": [
        "final_output = Dense(1, activation = 'sigmoid')(t)"
      ],
      "execution_count": 0,
      "outputs": []
    },
    {
      "metadata": {
        "id": "IpEImjZlThxQ",
        "colab_type": "code",
        "colab": {}
      },
      "cell_type": "code",
      "source": [
        "from keras.models import Model"
      ],
      "execution_count": 0,
      "outputs": []
    },
    {
      "metadata": {
        "id": "bdB2f-2YThxU",
        "colab_type": "code",
        "colab": {}
      },
      "cell_type": "code",
      "source": [
        "model = Model(inputs = [model_1_input, model_2_input, model_3_input, model_4_input], outputs = final_output)"
      ],
      "execution_count": 0,
      "outputs": []
    },
    {
      "metadata": {
        "id": "SmThUDHkThxc",
        "colab_type": "code",
        "colab": {}
      },
      "cell_type": "code",
      "source": [
        "model.compile(loss='binary_crossentropy', optimizer='adam', metrics=['accuracy'])"
      ],
      "execution_count": 0,
      "outputs": []
    },
    {
      "metadata": {
        "id": "4mWQjI9gaCGZ",
        "colab_type": "code",
        "outputId": "b15a4549-8095-4d24-d003-f627b9a7a344",
        "colab": {
          "base_uri": "https://localhost:8080/",
          "height": 1785
        }
      },
      "cell_type": "code",
      "source": [
        "model.summary()"
      ],
      "execution_count": 0,
      "outputs": [
        {
          "output_type": "stream",
          "text": [
            "__________________________________________________________________________________________________\n",
            "Layer (type)                    Output Shape         Param #     Connected to                     \n",
            "==================================================================================================\n",
            "model_1_input (InputLayer)      (None, 97)           0                                            \n",
            "__________________________________________________________________________________________________\n",
            "model_2_input (InputLayer)      (None, 97)           0                                            \n",
            "__________________________________________________________________________________________________\n",
            "embedding_1 (Embedding)         (None, 97, 300)      19608000    model_1_input[0][0]              \n",
            "__________________________________________________________________________________________________\n",
            "embedding_2 (Embedding)         (None, 97, 300)      19608000    model_2_input[0][0]              \n",
            "__________________________________________________________________________________________________\n",
            "conv1d_1 (Conv1D)               (None, 97, 32)       28832       embedding_1[0][0]                \n",
            "__________________________________________________________________________________________________\n",
            "conv1d_3 (Conv1D)               (None, 97, 32)       28832       embedding_2[0][0]                \n",
            "__________________________________________________________________________________________________\n",
            "batch_normalization_1 (BatchNor (None, 97, 32)       128         conv1d_1[0][0]                   \n",
            "__________________________________________________________________________________________________\n",
            "batch_normalization_3 (BatchNor (None, 97, 32)       128         conv1d_3[0][0]                   \n",
            "__________________________________________________________________________________________________\n",
            "activation_1 (Activation)       (None, 97, 32)       0           batch_normalization_1[0][0]      \n",
            "__________________________________________________________________________________________________\n",
            "activation_3 (Activation)       (None, 97, 32)       0           batch_normalization_3[0][0]      \n",
            "__________________________________________________________________________________________________\n",
            "model_3_input (InputLayer)      (None, 97)           0                                            \n",
            "__________________________________________________________________________________________________\n",
            "model_4_input (InputLayer)      (None, 97)           0                                            \n",
            "__________________________________________________________________________________________________\n",
            "dropout_1 (Dropout)             (None, 97, 32)       0           activation_1[0][0]               \n",
            "__________________________________________________________________________________________________\n",
            "dropout_3 (Dropout)             (None, 97, 32)       0           activation_3[0][0]               \n",
            "__________________________________________________________________________________________________\n",
            "embedding_3 (Embedding)         (None, 97, 300)      19608000    model_3_input[0][0]              \n",
            "__________________________________________________________________________________________________\n",
            "embedding_4 (Embedding)         (None, 97, 300)      19608000    model_4_input[0][0]              \n",
            "__________________________________________________________________________________________________\n",
            "conv1d_2 (Conv1D)               (None, 97, 32)       3104        dropout_1[0][0]                  \n",
            "__________________________________________________________________________________________________\n",
            "conv1d_4 (Conv1D)               (None, 97, 32)       3104        dropout_3[0][0]                  \n",
            "__________________________________________________________________________________________________\n",
            "time_distributed_1 (TimeDistrib (None, 97, 300)      90300       embedding_3[0][0]                \n",
            "__________________________________________________________________________________________________\n",
            "time_distributed_2 (TimeDistrib (None, 97, 300)      90300       embedding_4[0][0]                \n",
            "__________________________________________________________________________________________________\n",
            "batch_normalization_2 (BatchNor (None, 97, 32)       128         conv1d_2[0][0]                   \n",
            "__________________________________________________________________________________________________\n",
            "batch_normalization_4 (BatchNor (None, 97, 32)       128         conv1d_4[0][0]                   \n",
            "__________________________________________________________________________________________________\n",
            "batch_normalization_5 (BatchNor (None, 97, 300)      1200        time_distributed_1[0][0]         \n",
            "__________________________________________________________________________________________________\n",
            "batch_normalization_6 (BatchNor (None, 97, 300)      1200        time_distributed_2[0][0]         \n",
            "__________________________________________________________________________________________________\n",
            "activation_2 (Activation)       (None, 97, 32)       0           batch_normalization_2[0][0]      \n",
            "__________________________________________________________________________________________________\n",
            "activation_4 (Activation)       (None, 97, 32)       0           batch_normalization_4[0][0]      \n",
            "__________________________________________________________________________________________________\n",
            "activation_5 (Activation)       (None, 97, 300)      0           batch_normalization_5[0][0]      \n",
            "__________________________________________________________________________________________________\n",
            "activation_6 (Activation)       (None, 97, 300)      0           batch_normalization_6[0][0]      \n",
            "__________________________________________________________________________________________________\n",
            "dropout_2 (Dropout)             (None, 97, 32)       0           activation_2[0][0]               \n",
            "__________________________________________________________________________________________________\n",
            "dropout_4 (Dropout)             (None, 97, 32)       0           activation_4[0][0]               \n",
            "__________________________________________________________________________________________________\n",
            "dropout_5 (Dropout)             (None, 97, 300)      0           activation_5[0][0]               \n",
            "__________________________________________________________________________________________________\n",
            "dropout_6 (Dropout)             (None, 97, 300)      0           activation_6[0][0]               \n",
            "__________________________________________________________________________________________________\n",
            "flatten_1 (Flatten)             (None, 3104)         0           dropout_2[0][0]                  \n",
            "__________________________________________________________________________________________________\n",
            "flatten_2 (Flatten)             (None, 3104)         0           dropout_4[0][0]                  \n",
            "__________________________________________________________________________________________________\n",
            "lambda_1 (Lambda)               (None, 300)          0           dropout_5[0][0]                  \n",
            "__________________________________________________________________________________________________\n",
            "lambda_2 (Lambda)               (None, 300)          0           dropout_6[0][0]                  \n",
            "__________________________________________________________________________________________________\n",
            "merge_layer (Concatenate)       (None, 6808)         0           flatten_1[0][0]                  \n",
            "                                                                 flatten_2[0][0]                  \n",
            "                                                                 lambda_1[0][0]                   \n",
            "                                                                 lambda_2[0][0]                   \n",
            "__________________________________________________________________________________________________\n",
            "dense1 (Dense)                  (None, 200)          1361800     merge_layer[0][0]                \n",
            "__________________________________________________________________________________________________\n",
            "dropout_7 (Dropout)             (None, 200)          0           dense1[0][0]                     \n",
            "__________________________________________________________________________________________________\n",
            "batch_normalization_7 (BatchNor (None, 200)          800         dropout_7[0][0]                  \n",
            "__________________________________________________________________________________________________\n",
            "dense2 (Dense)                  (None, 200)          40200       batch_normalization_7[0][0]      \n",
            "__________________________________________________________________________________________________\n",
            "dropout_8 (Dropout)             (None, 200)          0           dense2[0][0]                     \n",
            "__________________________________________________________________________________________________\n",
            "batch_normalization_8 (BatchNor (None, 200)          800         dropout_8[0][0]                  \n",
            "__________________________________________________________________________________________________\n",
            "dense3 (Dense)                  (None, 100)          20100       batch_normalization_8[0][0]      \n",
            "__________________________________________________________________________________________________\n",
            "dropout_9 (Dropout)             (None, 100)          0           dense3[0][0]                     \n",
            "__________________________________________________________________________________________________\n",
            "batch_normalization_9 (BatchNor (None, 100)          400         dropout_9[0][0]                  \n",
            "__________________________________________________________________________________________________\n",
            "dense_3 (Dense)                 (None, 1)            101         batch_normalization_9[0][0]      \n",
            "==================================================================================================\n",
            "Total params: 80,103,585\n",
            "Trainable params: 21,277,129\n",
            "Non-trainable params: 58,826,456\n",
            "__________________________________________________________________________________________________\n"
          ],
          "name": "stdout"
        }
      ]
    },
    {
      "metadata": {
        "id": "8PbDmwHLThxy",
        "colab_type": "code",
        "outputId": "867fd578-8a8a-4d7e-f1ca-7361e7ea9259",
        "colab": {
          "base_uri": "https://localhost:8080/",
          "height": 4386
        }
      },
      "cell_type": "code",
      "source": [
        "t0 = time.time()\n",
        "history = model.fit([train_q1, train_q2, train_q1, train_q2],\n",
        "                    questions.is_duplicate,\n",
        "                    batch_size=256,\n",
        "                    epochs=128, #Use 100, I reduce it for Kaggle,\n",
        "                    verbose=True,\n",
        "                    shuffle=True)\n",
        "t1 = time.time()\n",
        "print(\"Minutes elapsed: %f\" % ((t1 - t0) / 60.))"
      ],
      "execution_count": 0,
      "outputs": [
        {
          "output_type": "stream",
          "text": [
            "Epoch 1/128\n",
            "404348/404348 [==============================] - 133s 328us/step - loss: 0.4278 - acc: 0.7913\n",
            "Epoch 2/128\n",
            "404348/404348 [==============================] - 130s 321us/step - loss: 0.4168 - acc: 0.7978\n",
            "Epoch 3/128\n",
            "404348/404348 [==============================] - 130s 322us/step - loss: 0.4066 - acc: 0.8036\n",
            "Epoch 4/128\n",
            "404348/404348 [==============================] - 130s 321us/step - loss: 0.3979 - acc: 0.8096\n",
            "Epoch 5/128\n",
            "404348/404348 [==============================] - 130s 322us/step - loss: 0.3910 - acc: 0.8136\n",
            "Epoch 6/128\n",
            "404348/404348 [==============================] - 130s 321us/step - loss: 0.3843 - acc: 0.8170\n",
            "Epoch 7/128\n",
            "404348/404348 [==============================] - 130s 322us/step - loss: 0.3773 - acc: 0.8212\n",
            "Epoch 8/128\n",
            "404348/404348 [==============================] - 130s 321us/step - loss: 0.3726 - acc: 0.8245\n",
            "Epoch 9/128\n",
            "404348/404348 [==============================] - 130s 321us/step - loss: 0.3681 - acc: 0.8269\n",
            "Epoch 10/128\n",
            "404348/404348 [==============================] - 130s 322us/step - loss: 0.3623 - acc: 0.8306\n",
            "Epoch 11/128\n",
            "404348/404348 [==============================] - 130s 321us/step - loss: 0.3575 - acc: 0.8330\n",
            "Epoch 12/128\n",
            "404348/404348 [==============================] - 130s 322us/step - loss: 0.3548 - acc: 0.8336\n",
            "Epoch 13/128\n",
            "404348/404348 [==============================] - 130s 320us/step - loss: 0.3506 - acc: 0.8363\n",
            "Epoch 14/128\n",
            "404348/404348 [==============================] - 130s 321us/step - loss: 0.3467 - acc: 0.8389\n",
            "Epoch 15/128\n",
            "404348/404348 [==============================] - 130s 321us/step - loss: 0.3439 - acc: 0.8407\n",
            "Epoch 16/128\n",
            "404348/404348 [==============================] - 130s 321us/step - loss: 0.3408 - acc: 0.8419\n",
            "Epoch 17/128\n",
            "404348/404348 [==============================] - 130s 321us/step - loss: 0.3388 - acc: 0.8429\n",
            "Epoch 18/128\n",
            "404348/404348 [==============================] - 129s 320us/step - loss: 0.3343 - acc: 0.8453\n",
            "Epoch 19/128\n",
            "404348/404348 [==============================] - 129s 320us/step - loss: 0.3332 - acc: 0.8461\n",
            "Epoch 20/128\n",
            "404348/404348 [==============================] - 129s 320us/step - loss: 0.3301 - acc: 0.8478\n",
            "Epoch 21/128\n",
            "404348/404348 [==============================] - 129s 320us/step - loss: 0.3275 - acc: 0.8493\n",
            "Epoch 22/128\n",
            "404348/404348 [==============================] - 130s 321us/step - loss: 0.3251 - acc: 0.8504\n",
            "Epoch 23/128\n",
            "404348/404348 [==============================] - 130s 321us/step - loss: 0.3237 - acc: 0.8507\n",
            "Epoch 24/128\n",
            "404348/404348 [==============================] - 130s 321us/step - loss: 0.3208 - acc: 0.8529\n",
            "Epoch 25/128\n",
            "404348/404348 [==============================] - 129s 320us/step - loss: 0.3189 - acc: 0.8537\n",
            "Epoch 26/128\n",
            "404348/404348 [==============================] - 130s 320us/step - loss: 0.3167 - acc: 0.8552\n",
            "Epoch 27/128\n",
            "404348/404348 [==============================] - 130s 321us/step - loss: 0.3159 - acc: 0.8557\n",
            "Epoch 28/128\n",
            "404348/404348 [==============================] - 129s 320us/step - loss: 0.3132 - acc: 0.8574\n",
            "Epoch 29/128\n",
            "404348/404348 [==============================] - 130s 321us/step - loss: 0.3119 - acc: 0.8581\n",
            "Epoch 30/128\n",
            "404348/404348 [==============================] - 130s 322us/step - loss: 0.3102 - acc: 0.8588\n",
            "Epoch 31/128\n",
            "404348/404348 [==============================] - 131s 324us/step - loss: 0.3081 - acc: 0.8605\n",
            "Epoch 32/128\n",
            "404348/404348 [==============================] - 130s 323us/step - loss: 0.3071 - acc: 0.8602\n",
            "Epoch 33/128\n",
            "404348/404348 [==============================] - 130s 322us/step - loss: 0.3059 - acc: 0.8610\n",
            "Epoch 34/128\n",
            "404348/404348 [==============================] - 131s 323us/step - loss: 0.3039 - acc: 0.8618\n",
            "Epoch 35/128\n",
            "404348/404348 [==============================] - 131s 323us/step - loss: 0.3023 - acc: 0.8627\n",
            "Epoch 36/128\n",
            "404348/404348 [==============================] - 131s 323us/step - loss: 0.3011 - acc: 0.8631\n",
            "Epoch 37/128\n",
            "404348/404348 [==============================] - 131s 323us/step - loss: 0.2992 - acc: 0.8642\n",
            "Epoch 38/128\n",
            "404348/404348 [==============================] - 131s 323us/step - loss: 0.2979 - acc: 0.8651\n",
            "Epoch 39/128\n",
            "404348/404348 [==============================] - 131s 324us/step - loss: 0.2963 - acc: 0.8658\n",
            "Epoch 40/128\n",
            "404348/404348 [==============================] - 131s 324us/step - loss: 0.2961 - acc: 0.8661\n",
            "Epoch 41/128\n",
            "404348/404348 [==============================] - 131s 323us/step - loss: 0.2950 - acc: 0.8662\n",
            "Epoch 42/128\n",
            "404348/404348 [==============================] - 131s 324us/step - loss: 0.2924 - acc: 0.8679\n",
            "Epoch 43/128\n",
            "404348/404348 [==============================] - 131s 323us/step - loss: 0.2926 - acc: 0.8678\n",
            "Epoch 44/128\n",
            "404348/404348 [==============================] - 130s 320us/step - loss: 0.2913 - acc: 0.8687\n",
            "Epoch 45/128\n",
            "404348/404348 [==============================] - 130s 322us/step - loss: 0.2899 - acc: 0.8698\n",
            "Epoch 46/128\n",
            "404348/404348 [==============================] - 130s 322us/step - loss: 0.2881 - acc: 0.8707\n",
            "Epoch 47/128\n",
            "404348/404348 [==============================] - 130s 322us/step - loss: 0.2877 - acc: 0.8702\n",
            "Epoch 48/128\n",
            "404348/404348 [==============================] - 128s 318us/step - loss: 0.2859 - acc: 0.8715\n",
            "Epoch 49/128\n",
            "404348/404348 [==============================] - 128s 316us/step - loss: 0.2865 - acc: 0.8715\n",
            "Epoch 50/128\n",
            "404348/404348 [==============================] - 128s 316us/step - loss: 0.2846 - acc: 0.8726\n",
            "Epoch 51/128\n",
            "404348/404348 [==============================] - 128s 318us/step - loss: 0.2836 - acc: 0.8723\n",
            "Epoch 52/128\n",
            "404348/404348 [==============================] - 129s 320us/step - loss: 0.2828 - acc: 0.8731\n",
            "Epoch 53/128\n",
            "404348/404348 [==============================] - 129s 320us/step - loss: 0.2820 - acc: 0.8740\n",
            "Epoch 54/128\n",
            "404348/404348 [==============================] - 129s 320us/step - loss: 0.2805 - acc: 0.8737\n",
            "Epoch 55/128\n",
            "404348/404348 [==============================] - 129s 320us/step - loss: 0.2808 - acc: 0.8743\n",
            "Epoch 56/128\n",
            "404348/404348 [==============================] - 129s 320us/step - loss: 0.2797 - acc: 0.8751\n",
            "Epoch 57/128\n",
            "404348/404348 [==============================] - 129s 320us/step - loss: 0.2787 - acc: 0.8752\n",
            "Epoch 58/128\n",
            "404348/404348 [==============================] - 130s 320us/step - loss: 0.2779 - acc: 0.8756\n",
            "Epoch 59/128\n",
            "404348/404348 [==============================] - 129s 320us/step - loss: 0.2764 - acc: 0.8761\n",
            "Epoch 60/128\n",
            "404348/404348 [==============================] - 129s 320us/step - loss: 0.2763 - acc: 0.8764\n",
            "Epoch 61/128\n",
            "404348/404348 [==============================] - 129s 320us/step - loss: 0.2754 - acc: 0.8773\n",
            "Epoch 62/128\n",
            "404348/404348 [==============================] - 129s 320us/step - loss: 0.2752 - acc: 0.8774\n",
            "Epoch 63/128\n",
            "404348/404348 [==============================] - 129s 320us/step - loss: 0.2730 - acc: 0.8779\n",
            "Epoch 64/128\n",
            "404348/404348 [==============================] - 129s 320us/step - loss: 0.2737 - acc: 0.8774\n",
            "Epoch 65/128\n",
            "404348/404348 [==============================] - 129s 320us/step - loss: 0.2718 - acc: 0.8788\n",
            "Epoch 66/128\n",
            "404348/404348 [==============================] - 129s 319us/step - loss: 0.2721 - acc: 0.8786\n",
            "Epoch 67/128\n",
            "404348/404348 [==============================] - 130s 321us/step - loss: 0.2701 - acc: 0.8794\n",
            "Epoch 68/128\n",
            "404348/404348 [==============================] - 131s 324us/step - loss: 0.2702 - acc: 0.8798\n",
            "Epoch 69/128\n",
            "404348/404348 [==============================] - 131s 325us/step - loss: 0.2707 - acc: 0.8794\n",
            "Epoch 70/128\n",
            "404348/404348 [==============================] - 130s 322us/step - loss: 0.2694 - acc: 0.8797\n",
            "Epoch 71/128\n",
            "404348/404348 [==============================] - 129s 319us/step - loss: 0.2685 - acc: 0.8803\n",
            "Epoch 72/128\n",
            "404348/404348 [==============================] - 129s 319us/step - loss: 0.2682 - acc: 0.8807\n",
            "Epoch 73/128\n",
            "404348/404348 [==============================] - 130s 322us/step - loss: 0.2664 - acc: 0.8816\n",
            "Epoch 74/128\n",
            "404348/404348 [==============================] - 131s 324us/step - loss: 0.2665 - acc: 0.8818\n",
            "Epoch 75/128\n",
            "404348/404348 [==============================] - 131s 324us/step - loss: 0.2662 - acc: 0.8816\n",
            "Epoch 76/128\n",
            "404348/404348 [==============================] - 131s 325us/step - loss: 0.2653 - acc: 0.8820\n",
            "Epoch 77/128\n",
            "404348/404348 [==============================] - 130s 322us/step - loss: 0.2647 - acc: 0.8823\n",
            "Epoch 78/128\n",
            "404348/404348 [==============================] - 131s 325us/step - loss: 0.2639 - acc: 0.8822\n",
            "Epoch 79/128\n",
            "404348/404348 [==============================] - 131s 323us/step - loss: 0.2640 - acc: 0.8832\n",
            "Epoch 80/128\n",
            "404348/404348 [==============================] - 131s 325us/step - loss: 0.2627 - acc: 0.8834\n",
            "Epoch 81/128\n",
            "404348/404348 [==============================] - 131s 323us/step - loss: 0.2628 - acc: 0.8832\n",
            "Epoch 82/128\n",
            "404348/404348 [==============================] - 131s 323us/step - loss: 0.2626 - acc: 0.8834\n",
            "Epoch 83/128\n",
            "404348/404348 [==============================] - 130s 320us/step - loss: 0.2614 - acc: 0.8841\n",
            "Epoch 84/128\n",
            "404348/404348 [==============================] - 129s 320us/step - loss: 0.2604 - acc: 0.8848\n",
            "Epoch 85/128\n",
            "404348/404348 [==============================] - 129s 320us/step - loss: 0.2608 - acc: 0.8845\n",
            "Epoch 86/128\n",
            "404348/404348 [==============================] - 129s 320us/step - loss: 0.2602 - acc: 0.8844\n",
            "Epoch 87/128\n",
            "404348/404348 [==============================] - 129s 319us/step - loss: 0.2593 - acc: 0.8853\n",
            "Epoch 88/128\n",
            "404348/404348 [==============================] - 128s 316us/step - loss: 0.2586 - acc: 0.8853\n",
            "Epoch 89/128\n",
            "404348/404348 [==============================] - 128s 316us/step - loss: 0.2583 - acc: 0.8857\n",
            "Epoch 90/128\n",
            "404348/404348 [==============================] - 129s 319us/step - loss: 0.2580 - acc: 0.8864\n",
            "Epoch 91/128\n",
            "404348/404348 [==============================] - 131s 325us/step - loss: 0.2571 - acc: 0.8864\n",
            "Epoch 92/128\n",
            "404348/404348 [==============================] - 131s 323us/step - loss: 0.2567 - acc: 0.8867\n",
            "Epoch 93/128\n",
            "404348/404348 [==============================] - 128s 316us/step - loss: 0.2557 - acc: 0.8868\n",
            "Epoch 94/128\n",
            "404348/404348 [==============================] - 128s 316us/step - loss: 0.2558 - acc: 0.8871\n",
            "Epoch 95/128\n",
            "404348/404348 [==============================] - 128s 316us/step - loss: 0.2551 - acc: 0.8872\n",
            "Epoch 96/128\n",
            "404348/404348 [==============================] - 128s 316us/step - loss: 0.2559 - acc: 0.8871\n",
            "Epoch 97/128\n",
            "404348/404348 [==============================] - 128s 316us/step - loss: 0.2541 - acc: 0.8874\n",
            "Epoch 98/128\n",
            "404348/404348 [==============================] - 128s 316us/step - loss: 0.2535 - acc: 0.8879\n",
            "Epoch 99/128\n",
            "404348/404348 [==============================] - 128s 316us/step - loss: 0.2527 - acc: 0.8884\n",
            "Epoch 100/128\n",
            "404348/404348 [==============================] - 128s 316us/step - loss: 0.2533 - acc: 0.8883\n",
            "Epoch 101/128\n",
            "404348/404348 [==============================] - 128s 316us/step - loss: 0.2527 - acc: 0.8889\n",
            "Epoch 102/128\n",
            "404348/404348 [==============================] - 128s 316us/step - loss: 0.2512 - acc: 0.8891\n",
            "Epoch 103/128\n",
            "404348/404348 [==============================] - 128s 316us/step - loss: 0.2516 - acc: 0.8894\n",
            "Epoch 104/128\n",
            "404348/404348 [==============================] - 128s 316us/step - loss: 0.2517 - acc: 0.8887\n",
            "Epoch 105/128\n",
            "404348/404348 [==============================] - 128s 316us/step - loss: 0.2510 - acc: 0.8893\n",
            "Epoch 106/128\n",
            "404348/404348 [==============================] - 128s 316us/step - loss: 0.2503 - acc: 0.8900\n",
            "Epoch 107/128\n",
            "404348/404348 [==============================] - 128s 318us/step - loss: 0.2501 - acc: 0.8901\n",
            "Epoch 108/128\n",
            "404348/404348 [==============================] - 130s 320us/step - loss: 0.2505 - acc: 0.8892\n",
            "Epoch 109/128\n",
            "404348/404348 [==============================] - 130s 321us/step - loss: 0.2491 - acc: 0.8908\n",
            "Epoch 110/128\n",
            "404348/404348 [==============================] - 130s 322us/step - loss: 0.2504 - acc: 0.8902\n",
            "Epoch 111/128\n",
            "404348/404348 [==============================] - 130s 321us/step - loss: 0.2478 - acc: 0.8912\n",
            "Epoch 112/128\n",
            "404348/404348 [==============================] - 130s 321us/step - loss: 0.2481 - acc: 0.8908\n",
            "Epoch 113/128\n",
            "404348/404348 [==============================] - 130s 322us/step - loss: 0.2488 - acc: 0.8908\n",
            "Epoch 114/128\n",
            "404348/404348 [==============================] - 131s 324us/step - loss: 0.2474 - acc: 0.8912\n",
            "Epoch 115/128\n",
            "404348/404348 [==============================] - 131s 323us/step - loss: 0.2476 - acc: 0.8909\n",
            "Epoch 116/128\n",
            "404348/404348 [==============================] - 130s 323us/step - loss: 0.2466 - acc: 0.8915\n",
            "Epoch 117/128\n",
            "404348/404348 [==============================] - 131s 323us/step - loss: 0.2467 - acc: 0.8917\n",
            "Epoch 118/128\n",
            "404348/404348 [==============================] - 131s 324us/step - loss: 0.2457 - acc: 0.8922\n",
            "Epoch 119/128\n",
            "404348/404348 [==============================] - 131s 323us/step - loss: 0.2459 - acc: 0.8921\n",
            "Epoch 120/128\n",
            "404348/404348 [==============================] - 131s 323us/step - loss: 0.2461 - acc: 0.8916\n",
            "Epoch 121/128\n",
            "404348/404348 [==============================] - 131s 323us/step - loss: 0.2460 - acc: 0.8917\n",
            "Epoch 122/128\n",
            "404348/404348 [==============================] - 131s 324us/step - loss: 0.2448 - acc: 0.8923\n",
            "Epoch 123/128\n",
            "404348/404348 [==============================] - 131s 323us/step - loss: 0.2445 - acc: 0.8928\n",
            "Epoch 124/128\n",
            "404348/404348 [==============================] - 130s 322us/step - loss: 0.2441 - acc: 0.8924\n",
            "Epoch 125/128\n",
            "404348/404348 [==============================] - 131s 323us/step - loss: 0.2437 - acc: 0.8926\n",
            "Epoch 126/128\n",
            "404348/404348 [==============================] - 131s 324us/step - loss: 0.2433 - acc: 0.8932\n",
            "Epoch 127/128\n",
            "404348/404348 [==============================] - 131s 324us/step - loss: 0.2434 - acc: 0.8931\n",
            "Epoch 128/128\n",
            "404348/404348 [==============================] - 131s 325us/step - loss: 0.2431 - acc: 0.8930\n",
            "Minutes elapsed: 276.850619\n"
          ],
          "name": "stdout"
        }
      ]
    },
    {
      "metadata": {
        "id": "BIQqiBB_ubfH",
        "colab_type": "code",
        "colab": {}
      },
      "cell_type": "code",
      "source": [
        "model.save_weights(\"cnn_td_quora_len_97.h5\")"
      ],
      "execution_count": 0,
      "outputs": []
    },
    {
      "metadata": {
        "id": "vM3d_JDdrV8V",
        "colab_type": "code",
        "colab": {}
      },
      "cell_type": "code",
      "source": [
        "json = model.to_json()"
      ],
      "execution_count": 0,
      "outputs": []
    },
    {
      "metadata": {
        "id": "sKXjrEknrfy2",
        "colab_type": "code",
        "colab": {}
      },
      "cell_type": "code",
      "source": [
        "with open(\"cnn_td_quora_len_97.json\", \"w\") as json_file:\n",
        "    json_file.write(json)"
      ],
      "execution_count": 0,
      "outputs": []
    },
    {
      "metadata": {
        "id": "WHFAzXzArfuT",
        "colab_type": "code",
        "outputId": "90bfe575-37c7-44a0-af72-03ec17762d59",
        "colab": {
          "base_uri": "https://localhost:8080/",
          "height": 34
        }
      },
      "cell_type": "code",
      "source": [
        "uploaded = drive.CreateFile()\n",
        "uploaded.SetContentFile('cnn_td_quora_len_97.h5')\n",
        "uploaded.Upload()\n",
        "print('Uploaded file with ID {}'.format(uploaded.get('id')))"
      ],
      "execution_count": 0,
      "outputs": [
        {
          "output_type": "stream",
          "text": [
            "Uploaded file with ID 1F4ONz6EEh-KojZTilrcjBsWXA89fvblq\n"
          ],
          "name": "stdout"
        }
      ]
    },
    {
      "metadata": {
        "id": "dAAW4RkfsVnR",
        "colab_type": "code",
        "outputId": "55437778-b206-4cd2-8aaf-f1378f264cba",
        "colab": {
          "base_uri": "https://localhost:8080/",
          "height": 34
        }
      },
      "cell_type": "code",
      "source": [
        "uploaded = drive.CreateFile()\n",
        "uploaded.SetContentFile('cnn_td_quora_len_97.json')\n",
        "uploaded.Upload()\n",
        "print('Uploaded file with ID {}'.format(uploaded.get('id')))"
      ],
      "execution_count": 0,
      "outputs": [
        {
          "output_type": "stream",
          "text": [
            "Uploaded file with ID 166gELhGcUW69T3NPxouzjQtoh8-QTvtB\n"
          ],
          "name": "stdout"
        }
      ]
    },
    {
      "metadata": {
        "id": "zavl6-HazStz",
        "colab_type": "code",
        "outputId": "7818a4b4-3fe6-4913-d902-d2f14d99f23a",
        "colab": {
          "base_uri": "https://localhost:8080/",
          "height": 197
        }
      },
      "cell_type": "code",
      "source": [
        "del embeddings_index\n",
        "del embedding\n",
        "del model\n",
        "del train_q1\n",
        "del train_q2\n",
        "del word_embedding_matrix\n",
        "del question1_word_sequences\n",
        "del question2_word_sequences\n",
        "del all_questions\n",
        "del uploaded"
      ],
      "execution_count": 0,
      "outputs": [
        {
          "output_type": "error",
          "ename": "NameError",
          "evalue": "ignored",
          "traceback": [
            "\u001b[0;31m---------------------------------------------------------------------------\u001b[0m",
            "\u001b[0;31mNameError\u001b[0m                                 Traceback (most recent call last)",
            "\u001b[0;32m<ipython-input-60-64c75501564e>\u001b[0m in \u001b[0;36m<module>\u001b[0;34m()\u001b[0m\n\u001b[1;32m      8\u001b[0m \u001b[0;32mdel\u001b[0m \u001b[0mquestion2_word_sequences\u001b[0m\u001b[0;34m\u001b[0m\u001b[0;34m\u001b[0m\u001b[0m\n\u001b[1;32m      9\u001b[0m \u001b[0;32mdel\u001b[0m \u001b[0mall_questions\u001b[0m\u001b[0;34m\u001b[0m\u001b[0;34m\u001b[0m\u001b[0m\n\u001b[0;32m---> 10\u001b[0;31m \u001b[0;32mdel\u001b[0m \u001b[0muploaded\u001b[0m\u001b[0;34m\u001b[0m\u001b[0;34m\u001b[0m\u001b[0m\n\u001b[0m",
            "\u001b[0;31mNameError\u001b[0m: name 'uploaded' is not defined"
          ]
        }
      ]
    },
    {
      "metadata": {
        "colab_type": "text",
        "id": "elQTFbMuHhgN"
      },
      "cell_type": "markdown",
      "source": [
        "# Siamese Neural Networks(Using LSTM and GRU)"
      ]
    },
    {
      "metadata": {
        "id": "a1ln-4sTThyx",
        "colab_type": "text"
      },
      "cell_type": "markdown",
      "source": [
        "https://medium.com/mlreview/implementing-malstm-on-kaggles-quora-question-pairs-competition-8b31b0b16a07"
      ]
    },
    {
      "metadata": {
        "colab_type": "code",
        "id": "dE_9Xb7uHqgw",
        "outputId": "a5ca689b-b36f-4425-c6ec-4c6869f8b737",
        "colab": {
          "base_uri": "https://localhost:8080/",
          "height": 34
        }
      },
      "cell_type": "code",
      "source": [
        "from keras.models import Model\n",
        "import keras.backend as backend\n",
        "from keras.layers import Input, Embedding, LSTM, Lambda, GRU, Dropout"
      ],
      "execution_count": 0,
      "outputs": [
        {
          "output_type": "stream",
          "text": [
            "Using TensorFlow backend.\n"
          ],
          "name": "stderr"
        }
      ]
    },
    {
      "metadata": {
        "id": "DWJ7T5-xThy_",
        "colab_type": "code",
        "colab": {}
      },
      "cell_type": "code",
      "source": [
        "vocabulary = dict()\n",
        "inverse_vocabulary = ['<unk>']"
      ],
      "execution_count": 0,
      "outputs": []
    },
    {
      "metadata": {
        "id": "lDqBuGauThzJ",
        "colab_type": "code",
        "colab": {}
      },
      "cell_type": "code",
      "source": [
        "q2n_left = []\n",
        "for sentence in sentences_1.tolist():\n",
        "    temp_sentence = []\n",
        "    for word in sentence.split():\n",
        "        if word not in vocabulary:\n",
        "            vocabulary[word] = len(inverse_vocabulary)\n",
        "            temp_sentence.append(len(inverse_vocabulary))\n",
        "            inverse_vocabulary.append(word)\n",
        "        else:\n",
        "            temp_sentence.append(vocabulary[word])\n",
        "    q2n_left.append(temp_sentence)"
      ],
      "execution_count": 0,
      "outputs": []
    },
    {
      "metadata": {
        "id": "TUOuLqh0ThzV",
        "colab_type": "code",
        "colab": {}
      },
      "cell_type": "code",
      "source": [
        "q2n_right = []\n",
        "for sentence in sentences_2.tolist():\n",
        "    temp_sentence = []\n",
        "    for word in sentence.split():\n",
        "        if word not in vocabulary:\n",
        "            vocabulary[word] = len(inverse_vocabulary)\n",
        "            temp_sentence.append(len(inverse_vocabulary))\n",
        "            inverse_vocabulary.append(word)\n",
        "        else:\n",
        "            temp_sentence.append(vocabulary[word])\n",
        "    q2n_right.append(temp_sentence)"
      ],
      "execution_count": 0,
      "outputs": []
    },
    {
      "metadata": {
        "id": "d12cT2W6Thzh",
        "colab_type": "code",
        "colab": {}
      },
      "cell_type": "code",
      "source": [
        "embedding_dim = 300\n",
        "embeddings = np.zeros((len(vocabulary) + 1, embedding_dim))\n",
        "embeddings[0] = 0"
      ],
      "execution_count": 0,
      "outputs": []
    },
    {
      "metadata": {
        "id": "m335l-nAGoh-",
        "colab_type": "code",
        "colab": {}
      },
      "cell_type": "code",
      "source": [
        "from gensim.models.keyedvectors import KeyedVectors"
      ],
      "execution_count": 0,
      "outputs": []
    },
    {
      "metadata": {
        "id": "UhtUrY3AGBCI",
        "colab_type": "code",
        "colab": {}
      },
      "cell_type": "code",
      "source": [
        "google_model = KeyedVectors.load_word2vec_format(google_embeddings, binary=True)"
      ],
      "execution_count": 0,
      "outputs": []
    },
    {
      "metadata": {
        "id": "GgJE5IG_Thz1",
        "colab_type": "code",
        "colab": {}
      },
      "cell_type": "code",
      "source": [
        "for word, index in vocabulary.items():\n",
        "    if word in google_model.vocab:\n",
        "        embeddings[index] = google_model.word_vec(word)"
      ],
      "execution_count": 0,
      "outputs": []
    },
    {
      "metadata": {
        "id": "3yylXEJPThz5",
        "colab_type": "code",
        "colab": {}
      },
      "cell_type": "code",
      "source": [
        "del google_model"
      ],
      "execution_count": 0,
      "outputs": []
    },
    {
      "metadata": {
        "id": "jpjEmyWSTh0H",
        "colab_type": "code",
        "colab": {}
      },
      "cell_type": "code",
      "source": [
        "from keras.preprocessing.sequence import pad_sequences"
      ],
      "execution_count": 0,
      "outputs": []
    },
    {
      "metadata": {
        "id": "6cdNIb5rTh0K",
        "colab_type": "code",
        "colab": {}
      },
      "cell_type": "code",
      "source": [
        "dataset_left = q2n_left"
      ],
      "execution_count": 0,
      "outputs": []
    },
    {
      "metadata": {
        "id": "c6xYqZ0CTh0O",
        "colab_type": "code",
        "colab": {}
      },
      "cell_type": "code",
      "source": [
        "dataset_right = q2n_right"
      ],
      "execution_count": 0,
      "outputs": []
    },
    {
      "metadata": {
        "id": "nx1ohcwUTh0Y",
        "colab_type": "code",
        "outputId": "0ebcd754-5829-478a-bac1-ed1615547b04",
        "colab": {
          "base_uri": "https://localhost:8080/",
          "height": 34
        }
      },
      "cell_type": "code",
      "source": [
        "max_seq_length = 0\n",
        "for each in range(length):\n",
        "    max_seq_length = max(max_seq_length, len(q2n_left[each]), len(q2n_right[each]))\n",
        "print(max_seq_length)"
      ],
      "execution_count": 0,
      "outputs": [
        {
          "output_type": "stream",
          "text": [
            "97\n"
          ],
          "name": "stdout"
        }
      ]
    },
    {
      "metadata": {
        "id": "a0A4__Z7Th0m",
        "colab_type": "code",
        "colab": {}
      },
      "cell_type": "code",
      "source": [
        "dataset_left = pad_sequences(q2n_left, maxlen=max_seq_length)\n",
        "dataset_right = pad_sequences(q2n_right, maxlen=max_seq_length)"
      ],
      "execution_count": 0,
      "outputs": []
    },
    {
      "metadata": {
        "id": "z0tRbrmVTh0v",
        "colab_type": "code",
        "outputId": "dc1fe99f-424a-4acf-d720-68a3dbddaba5",
        "colab": {
          "base_uri": "https://localhost:8080/",
          "height": 34
        }
      },
      "cell_type": "code",
      "source": [
        "dataset_left.shape == dataset_right.shape"
      ],
      "execution_count": 0,
      "outputs": [
        {
          "output_type": "execute_result",
          "data": {
            "text/plain": [
              "True"
            ]
          },
          "metadata": {
            "tags": []
          },
          "execution_count": 36
        }
      ]
    },
    {
      "metadata": {
        "id": "mv21EhXoTh1R",
        "colab_type": "code",
        "colab": {}
      },
      "cell_type": "code",
      "source": [
        "n_hidden1 = 512\n",
        "n_hidden2 = 384\n",
        "n_hidden3 = 256\n",
        "n_hidden4 = 128"
      ],
      "execution_count": 0,
      "outputs": []
    },
    {
      "metadata": {
        "colab_type": "code",
        "id": "WljRtYIvJcTn",
        "colab": {}
      },
      "cell_type": "code",
      "source": [
        "left_input = Input(shape=(max_seq_length, ), dtype='int32')\n",
        "right_input = Input(shape=(max_seq_length, ), dtype='int32')"
      ],
      "execution_count": 0,
      "outputs": []
    },
    {
      "metadata": {
        "colab_type": "code",
        "id": "ksWe8MukKbxW",
        "colab": {}
      },
      "cell_type": "code",
      "source": [
        "embedding_layer = Embedding(len(embeddings), embedding_dim, weights=[embeddings], \n",
        "                            input_length=max_seq_length, trainable=False)"
      ],
      "execution_count": 0,
      "outputs": []
    },
    {
      "metadata": {
        "colab_type": "code",
        "id": "U0jTBGv4Kck8",
        "colab": {}
      },
      "cell_type": "code",
      "source": [
        "encoded_left = embedding_layer(left_input)\n",
        "encoded_right = embedding_layer(right_input)"
      ],
      "execution_count": 0,
      "outputs": []
    },
    {
      "metadata": {
        "colab_type": "code",
        "id": "5e9B1ChNKgA3",
        "colab": {}
      },
      "cell_type": "code",
      "source": [
        "shared_lstm1 = LSTM(n_hidden1, return_sequences=True)\n",
        "shared_dropout1 = Dropout(0.3)\n",
        "shared_gru1 = GRU(n_hidden2, return_sequences=True)\n",
        "shared_dropout2 = Dropout(0.4)\n",
        "shared_gru2 = GRU(n_hidden3, return_sequences=True)\n",
        "shared_dropout3 = Dropout(0.3)\n",
        "shared_lstm2 = LSTM(n_hidden4, return_sequences=False)"
      ],
      "execution_count": 0,
      "outputs": []
    },
    {
      "metadata": {
        "colab_type": "code",
        "id": "oiSpiz9uLGu3",
        "colab": {}
      },
      "cell_type": "code",
      "source": [
        "left_lstm1 = shared_lstm1(encoded_left)\n",
        "left_dropout1 = shared_dropout1(left_lstm1)\n",
        "left_gru1 = shared_gru1(left_dropout1)\n",
        "left_dropout2 = shared_dropout2(left_gru1)\n",
        "left_gru2 = shared_gru2(left_dropout2)\n",
        "left_dropout3 = shared_dropout3(left_gru2)\n",
        "left_lstm2 = shared_lstm2(left_dropout3)"
      ],
      "execution_count": 0,
      "outputs": []
    },
    {
      "metadata": {
        "colab_type": "code",
        "id": "bcQJfYn6Ma5S",
        "colab": {}
      },
      "cell_type": "code",
      "source": [
        "right_lstm1 = shared_lstm1(encoded_right)\n",
        "right_dropout1 = shared_dropout1(right_lstm1)\n",
        "right_gru1 = shared_gru1(right_dropout1)\n",
        "right_dropout2 = shared_dropout2(right_gru1)\n",
        "right_gru2 = shared_gru2(right_dropout2)\n",
        "right_dropout3 = shared_dropout3(right_gru2)\n",
        "right_lstm2 = shared_lstm2(right_dropout3)"
      ],
      "execution_count": 0,
      "outputs": []
    },
    {
      "metadata": {
        "colab_type": "code",
        "id": "Ug1R5gTGM4oR",
        "colab": {}
      },
      "cell_type": "code",
      "source": [
        "manhattan_distance_for_lstm = Lambda(function=lambda x: backend.exp(-backend.sum(backend.abs(x[0]-x[1]), axis=1, keepdims=True)),\n",
        "                                     output_shape=lambda x: (x[0][0], 1))([left_lstm2, right_lstm2])"
      ],
      "execution_count": 0,
      "outputs": []
    },
    {
      "metadata": {
        "colab_type": "code",
        "id": "n5TGTK2CUrN8",
        "outputId": "e49fd308-f6d7-47ae-800d-95e3625c595e",
        "colab": {
          "base_uri": "https://localhost:8080/",
          "height": 663
        }
      },
      "cell_type": "code",
      "source": [
        "siamese_network = Model([left_input, right_input], manhattan_distance_for_lstm)\n",
        "siamese_network.compile(loss='mean_squared_error', optimizer=\"adam\", metrics=['accuracy'])\n",
        "siamese_network.summary()"
      ],
      "execution_count": 0,
      "outputs": [
        {
          "output_type": "stream",
          "text": [
            "__________________________________________________________________________________________________\n",
            "Layer (type)                    Output Shape         Param #     Connected to                     \n",
            "==================================================================================================\n",
            "input_3 (InputLayer)            (None, 97)           0                                            \n",
            "__________________________________________________________________________________________________\n",
            "input_4 (InputLayer)            (None, 97)           0                                            \n",
            "__________________________________________________________________________________________________\n",
            "embedding_2 (Embedding)         (None, 97, 300)      19608000    input_3[0][0]                    \n",
            "                                                                 input_4[0][0]                    \n",
            "__________________________________________________________________________________________________\n",
            "lstm_3 (LSTM)                   (None, 97, 512)      1665024     embedding_2[0][0]                \n",
            "                                                                 embedding_2[1][0]                \n",
            "__________________________________________________________________________________________________\n",
            "dropout_4 (Dropout)             (None, 97, 512)      0           lstm_3[0][0]                     \n",
            "                                                                 lstm_3[1][0]                     \n",
            "__________________________________________________________________________________________________\n",
            "gru_3 (GRU)                     (None, 97, 384)      1033344     dropout_4[0][0]                  \n",
            "                                                                 dropout_4[1][0]                  \n",
            "__________________________________________________________________________________________________\n",
            "dropout_5 (Dropout)             (None, 97, 384)      0           gru_3[0][0]                      \n",
            "                                                                 gru_3[1][0]                      \n",
            "__________________________________________________________________________________________________\n",
            "gru_4 (GRU)                     (None, 97, 256)      492288      dropout_5[0][0]                  \n",
            "                                                                 dropout_5[1][0]                  \n",
            "__________________________________________________________________________________________________\n",
            "dropout_6 (Dropout)             (None, 97, 256)      0           gru_4[0][0]                      \n",
            "                                                                 gru_4[1][0]                      \n",
            "__________________________________________________________________________________________________\n",
            "lstm_4 (LSTM)                   (None, 128)          197120      dropout_6[0][0]                  \n",
            "                                                                 dropout_6[1][0]                  \n",
            "__________________________________________________________________________________________________\n",
            "lambda_2 (Lambda)               (None, 1)            0           lstm_4[0][0]                     \n",
            "                                                                 lstm_4[1][0]                     \n",
            "==================================================================================================\n",
            "Total params: 22,995,776\n",
            "Trainable params: 3,387,776\n",
            "Non-trainable params: 19,608,000\n",
            "__________________________________________________________________________________________________\n"
          ],
          "name": "stdout"
        }
      ]
    },
    {
      "metadata": {
        "id": "2hjGKonBJnKk",
        "colab_type": "code",
        "outputId": "a90f3a7a-cc96-4361-f723-ac8cfea8ee5d",
        "colab": {
          "base_uri": "https://localhost:8080/",
          "height": 102
        }
      },
      "cell_type": "code",
      "source": [
        "siamese_network.fit([dataset_left, dataset_right], is_duplicate_questions, batch_size=256, \n",
        "                        epochs=2)"
      ],
      "execution_count": 0,
      "outputs": [
        {
          "output_type": "stream",
          "text": [
            "Epoch 1/2\n",
            "404348/404348 [==============================] - 3099s 8ms/step - loss: 0.1758 - acc: 0.7345\n",
            "Epoch 2/2\n",
            "404348/404348 [==============================] - 3026s 7ms/step - loss: 0.1585 - acc: 0.7686\n"
          ],
          "name": "stdout"
        },
        {
          "output_type": "execute_result",
          "data": {
            "text/plain": [
              "<keras.callbacks.History at 0x7f04a8609cc0>"
            ]
          },
          "metadata": {
            "tags": []
          },
          "execution_count": 55
        }
      ]
    },
    {
      "metadata": {
        "id": "w2i2SErFIcrS",
        "colab_type": "code",
        "colab": {}
      },
      "cell_type": "code",
      "source": [
        "siamese_network.save_weights(\"siamese_rnn_quora.h5\")"
      ],
      "execution_count": 0,
      "outputs": []
    },
    {
      "metadata": {
        "id": "iCYLJFBq_m1f",
        "colab_type": "code",
        "outputId": "e936112e-1fc5-4467-fb0a-9d316be2b043",
        "colab": {
          "base_uri": "https://localhost:8080/",
          "height": 34
        }
      },
      "cell_type": "code",
      "source": [
        "uploaded = drive.CreateFile()\n",
        "uploaded.SetContentFile('siamese_rnn_quora.h5')\n",
        "uploaded.Upload()\n",
        "print('Uploaded file with ID {}'.format(uploaded.get('id')))"
      ],
      "execution_count": 0,
      "outputs": [
        {
          "output_type": "stream",
          "text": [
            "Uploaded file with ID 1osO0dYb-XFDA_GiPQ1apfGEsdmMDGlz7\n"
          ],
          "name": "stdout"
        }
      ]
    },
    {
      "metadata": {
        "id": "oytgyy-eYs6M",
        "colab_type": "code",
        "colab": {}
      },
      "cell_type": "code",
      "source": [
        "json_file = siamese_network.to_json()"
      ],
      "execution_count": 0,
      "outputs": []
    },
    {
      "metadata": {
        "id": "40V_IYlO_oME",
        "colab_type": "code",
        "colab": {}
      },
      "cell_type": "code",
      "source": [
        "with open(\"siamese_rnn_quora.json\", \"w\") as json:\n",
        "    json.write(json_file)"
      ],
      "execution_count": 0,
      "outputs": []
    },
    {
      "metadata": {
        "id": "RwglWk8QLtcu",
        "colab_type": "code",
        "outputId": "63cfb66e-74df-41dc-a37e-3b34c7935fb9",
        "colab": {
          "base_uri": "https://localhost:8080/",
          "height": 34
        }
      },
      "cell_type": "code",
      "source": [
        "uploaded = drive.CreateFile()\n",
        "uploaded.SetContentFile('siamese_rnn_quora.json')\n",
        "uploaded.Upload()\n",
        "print('Uploaded file with ID {}'.format(uploaded.get('id')))"
      ],
      "execution_count": 0,
      "outputs": [
        {
          "output_type": "stream",
          "text": [
            "Uploaded file with ID 1tLEbwcjTCsnPkq6orrn3z63PD_cs0pHw\n"
          ],
          "name": "stdout"
        }
      ]
    },
    {
      "metadata": {
        "id": "cjtfAYBSw6F3",
        "colab_type": "code",
        "colab": {}
      },
      "cell_type": "code",
      "source": [
        "del vocabulary\n",
        "del inverse_vocabulary\n",
        "del q2n_left\n",
        "del q2n_right\n",
        "del embedding_dim\n",
        "del embeddings\n",
        "del dataset_left\n",
        "del dataset_right\n",
        "del siamese_network"
      ],
      "execution_count": 0,
      "outputs": []
    },
    {
      "metadata": {
        "id": "DPmU23LBGNe1",
        "colab_type": "text"
      },
      "cell_type": "markdown",
      "source": [
        "# Siamese Network of CNN, Time Distributed, RNN and Attention Model"
      ]
    },
    {
      "metadata": {
        "id": "U_Q6kDe9PM4S",
        "colab_type": "code",
        "colab": {}
      },
      "cell_type": "code",
      "source": [
        "import pandas as pd\n",
        "import numpy as np"
      ],
      "execution_count": 0,
      "outputs": []
    },
    {
      "metadata": {
        "id": "uZ3FAytOPLbQ",
        "colab_type": "code",
        "colab": {}
      },
      "cell_type": "code",
      "source": [
        "from keras.preprocessing.text import Tokenizer\n",
        "from keras.engine.topology import Layer\n",
        "from keras import initializers as initializers, regularizers, constraints\n",
        "from keras.callbacks import Callback\n",
        "from keras.layers import Embedding, Input, Dense, LSTM, GRU, Bidirectional, Lambda, TimeDistributed, Convolution1D, Flatten, Activation, BatchNormalization, Dropout\n",
        "from keras import backend as K\n",
        "from keras.models import Model"
      ],
      "execution_count": 0,
      "outputs": []
    },
    {
      "metadata": {
        "id": "U6VzQKGWQTXk",
        "colab_type": "code",
        "colab": {}
      },
      "cell_type": "code",
      "source": [
        "all_questions = sentences_1.tolist() + sentences_2.tolist()"
      ],
      "execution_count": 0,
      "outputs": []
    },
    {
      "metadata": {
        "id": "6YbjmDqxQdC5",
        "colab_type": "code",
        "colab": {}
      },
      "cell_type": "code",
      "source": [
        "tokenizer = Tokenizer()\n",
        "tokenizer.fit_on_texts(all_questions)"
      ],
      "execution_count": 0,
      "outputs": []
    },
    {
      "metadata": {
        "id": "FheV4es1Qi-A",
        "colab_type": "code",
        "colab": {}
      },
      "cell_type": "code",
      "source": [
        "question1_word_sequences = tokenizer.texts_to_sequences(sentences_1.tolist())\n",
        "question2_word_sequences = tokenizer.texts_to_sequences(sentences_2.tolist())"
      ],
      "execution_count": 0,
      "outputs": []
    },
    {
      "metadata": {
        "id": "xSlitiLuQo50",
        "colab_type": "code",
        "colab": {}
      },
      "cell_type": "code",
      "source": [
        "word_index = tokenizer.word_index"
      ],
      "execution_count": 0,
      "outputs": []
    },
    {
      "metadata": {
        "id": "vWx6owG0SsIT",
        "colab_type": "code",
        "outputId": "1274a143-8d0b-49ec-e38e-444ff271c759",
        "colab": {
          "base_uri": "https://localhost:8080/",
          "height": 34
        }
      },
      "cell_type": "code",
      "source": [
        "max_question_len = 0\n",
        "for each in range(length):\n",
        "    max_question_len = max(max_question_len, len(question1_word_sequences[each]), len(question2_word_sequences[each]))\n",
        "print(max_question_len)"
      ],
      "execution_count": 0,
      "outputs": [
        {
          "output_type": "stream",
          "text": [
            "97\n"
          ],
          "name": "stdout"
        }
      ]
    },
    {
      "metadata": {
        "id": "qJUib0e9Y48U",
        "colab_type": "code",
        "colab": {}
      },
      "cell_type": "code",
      "source": [
        "from keras.preprocessing.sequence import pad_sequences"
      ],
      "execution_count": 0,
      "outputs": []
    },
    {
      "metadata": {
        "id": "4aTJr1ilS2jR",
        "colab_type": "code",
        "colab": {}
      },
      "cell_type": "code",
      "source": [
        "train_q1 = pad_sequences(question1_word_sequences,\n",
        "                              maxlen = max_question_len)"
      ],
      "execution_count": 0,
      "outputs": []
    },
    {
      "metadata": {
        "id": "QWCl6OqHS5ZX",
        "colab_type": "code",
        "colab": {}
      },
      "cell_type": "code",
      "source": [
        "train_q2 = pad_sequences(question2_word_sequences,\n",
        "                              maxlen = max_question_len)"
      ],
      "execution_count": 0,
      "outputs": []
    },
    {
      "metadata": {
        "id": "LNDBXXRyTRzZ",
        "colab_type": "code",
        "outputId": "f498cb1f-850d-48c1-82af-e1360a12438e",
        "colab": {
          "base_uri": "https://localhost:8080/",
          "height": 34
        }
      },
      "cell_type": "code",
      "source": [
        "embeddings_index = {}\n",
        "with open('common-crawl-embeddings-w2v.txt', encoding='utf-8') as f:\n",
        "    for line in f:\n",
        "        values = line.split(' ')\n",
        "        word = values[0]\n",
        "        embedding = np.asarray(values[1:], dtype='float32')\n",
        "        embeddings_index[word] = embedding\n",
        "print('Word embeddings:', len(embeddings_index))"
      ],
      "execution_count": 0,
      "outputs": [
        {
          "output_type": "stream",
          "text": [
            "Word embeddings: 2196016\n"
          ],
          "name": "stdout"
        }
      ]
    },
    {
      "metadata": {
        "id": "qhkHdnIqTZxJ",
        "colab_type": "code",
        "colab": {}
      },
      "cell_type": "code",
      "source": [
        "embedding_dim = 300"
      ],
      "execution_count": 0,
      "outputs": []
    },
    {
      "metadata": {
        "id": "Uti-gVr_Ta0k",
        "colab_type": "code",
        "colab": {}
      },
      "cell_type": "code",
      "source": [
        "nb_words = len(word_index)\n",
        "word_embedding_matrix = np.zeros((nb_words + 1, embedding_dim))\n",
        "for word, i in word_index.items():\n",
        "    embedding_vector = embeddings_index.get(word)\n",
        "    if embedding_vector is not None:\n",
        "        # words not found in embedding index will be all-zeros.\n",
        "        word_embedding_matrix[i] = embedding_vector"
      ],
      "execution_count": 0,
      "outputs": []
    },
    {
      "metadata": {
        "id": "Bjo3A6TLU13W",
        "colab_type": "code",
        "outputId": "07ab3616-620a-412c-8819-c8f59d2eaa16",
        "colab": {
          "base_uri": "https://localhost:8080/",
          "height": 34
        }
      },
      "cell_type": "code",
      "source": [
        "print('Null word embeddings: %d' % np.sum(np.sum(word_embedding_matrix, axis=1) == 0)) #75,334"
      ],
      "execution_count": 0,
      "outputs": [
        {
          "output_type": "stream",
          "text": [
            "Null word embeddings: 16082\n"
          ],
          "name": "stdout"
        }
      ]
    },
    {
      "metadata": {
        "id": "z3XqT4_mMCgm",
        "colab_type": "code",
        "colab": {}
      },
      "cell_type": "code",
      "source": [
        "class AttentionWithContext(Layer):\n",
        "    def __init__(self,\n",
        "                 W_regularizer=None, u_regularizer=None, b_regularizer=None,\n",
        "                 W_constraint=None, u_constraint=None, b_constraint=None,\n",
        "                 bias=True, **kwargs):\n",
        "\n",
        "        self.supports_masking = True\n",
        "        self.init = initializers.get('glorot_uniform')\n",
        "\n",
        "        self.W_regularizer = regularizers.get(W_regularizer)\n",
        "        self.u_regularizer = regularizers.get(u_regularizer)\n",
        "        self.b_regularizer = regularizers.get(b_regularizer)\n",
        "\n",
        "        self.W_constraint = constraints.get(W_constraint)\n",
        "        self.u_constraint = constraints.get(u_constraint)\n",
        "        self.b_constraint = constraints.get(b_constraint)\n",
        "\n",
        "        self.bias = bias\n",
        "        super(AttentionWithContext, self).__init__(**kwargs)\n",
        "    \n",
        "    def dot_product(self, x, kernel):\n",
        "        if K.backend() == 'tensorflow':\n",
        "            return K.squeeze(K.dot(x, K.expand_dims(kernel)), axis=-1)\n",
        "        else:\n",
        "            return K.dot(x, kernel)\n",
        "\n",
        "    def build(self, input_shape):\n",
        "        assert len(input_shape) == 3\n",
        "\n",
        "        self.W = self.add_weight((input_shape[-1], input_shape[-1],),\n",
        "                                 initializer=self.init,\n",
        "                                 name='{}_W'.format(self.name),\n",
        "                                 regularizer=self.W_regularizer,\n",
        "                                 constraint=self.W_constraint)\n",
        "        if self.bias:\n",
        "            self.b = self.add_weight((input_shape[-1],),\n",
        "                                     initializer='zero',\n",
        "                                     name='{}_b'.format(self.name),\n",
        "                                     regularizer=self.b_regularizer,\n",
        "                                     constraint=self.b_constraint)\n",
        "\n",
        "        self.u = self.add_weight((input_shape[-1],),\n",
        "                                 initializer=self.init,\n",
        "                                 name='{}_u'.format(self.name),\n",
        "                                 regularizer=self.u_regularizer,\n",
        "                                 constraint=self.u_constraint)\n",
        "\n",
        "        super(AttentionWithContext, self).build(input_shape)\n",
        "\n",
        "    def compute_mask(self, input, input_mask=None):\n",
        "        return None\n",
        "\n",
        "    def call(self, x, mask=None):\n",
        "        uit = self.dot_product(x, self.W)\n",
        "\n",
        "        if self.bias:\n",
        "            uit += self.b\n",
        "\n",
        "        uit = K.tanh(uit)\n",
        "        ait = self.dot_product(uit, self.u)\n",
        "\n",
        "        a = K.exp(ait)\n",
        "\n",
        "        if mask is not None:\n",
        "            a *= K.cast(mask, K.floatx())\n",
        "\n",
        "        a /= K.cast(K.sum(a, axis=1, keepdims=True) + K.epsilon(), K.floatx())\n",
        "\n",
        "        a = K.expand_dims(a)\n",
        "        weighted_input = x * a\n",
        "        return K.sum(weighted_input, axis=1)\n",
        "\n",
        "    def compute_output_shape(self, input_shape):\n",
        "        return input_shape[0], input_shape[-1]"
      ],
      "execution_count": 0,
      "outputs": []
    },
    {
      "metadata": {
        "id": "lRhzr047Gm5n",
        "colab_type": "code",
        "colab": {}
      },
      "cell_type": "code",
      "source": [
        "left_input = Input(shape=(max_question_len, ), dtype='int32')\n",
        "right_input = Input(shape=(max_question_len, ), dtype='int32')"
      ],
      "execution_count": 0,
      "outputs": []
    },
    {
      "metadata": {
        "id": "TcKGdGCQGtAg",
        "colab_type": "code",
        "colab": {}
      },
      "cell_type": "code",
      "source": [
        "shared_embedding_layer = Embedding(nb_words + 1, embedding_dim,\n",
        "                                   weights = [word_embedding_matrix], \n",
        "                                   input_length = max_question_len,\n",
        "                                   trainable = False)"
      ],
      "execution_count": 0,
      "outputs": []
    },
    {
      "metadata": {
        "id": "obKRVrQpzFV8",
        "colab_type": "code",
        "colab": {}
      },
      "cell_type": "code",
      "source": [
        "units_1 = 512 # Number of nodes in the Dense layers\n",
        "units_2 = 256\n",
        "dropout = 0.4 # Percentage of nodes to drop\n",
        "nb_filter = 256 # Number of filters to use in Convolution1D\n",
        "filter_length = 3 # Length of filter for Convolution1D"
      ],
      "execution_count": 0,
      "outputs": []
    },
    {
      "metadata": {
        "id": "V1ZQTlgeG8OP",
        "colab_type": "code",
        "colab": {}
      },
      "cell_type": "code",
      "source": [
        "shared_conv_layer = Convolution1D(filters = nb_filter, \n",
        "                            kernel_size = filter_length,\n",
        "                            padding = 'same')"
      ],
      "execution_count": 0,
      "outputs": []
    },
    {
      "metadata": {
        "id": "R4jDcplvJcnr",
        "colab_type": "code",
        "colab": {}
      },
      "cell_type": "code",
      "source": [
        "shared_dropout_1 = Dropout(dropout)"
      ],
      "execution_count": 0,
      "outputs": []
    },
    {
      "metadata": {
        "id": "0KhJ2JtyIT2f",
        "colab_type": "code",
        "colab": {}
      },
      "cell_type": "code",
      "source": [
        "shared_batch_normalization_layer = BatchNormalization()"
      ],
      "execution_count": 0,
      "outputs": []
    },
    {
      "metadata": {
        "id": "FsNfIVfpHYwW",
        "colab_type": "code",
        "colab": {}
      },
      "cell_type": "code",
      "source": [
        "shared_activation_layer = TimeDistributed(Dense(units_1, activation='relu'))"
      ],
      "execution_count": 0,
      "outputs": []
    },
    {
      "metadata": {
        "id": "MnivfMrUIZRB",
        "colab_type": "code",
        "colab": {}
      },
      "cell_type": "code",
      "source": [
        "shared_time_distributed_dense_layer = TimeDistributed(Flatten())"
      ],
      "execution_count": 0,
      "outputs": []
    },
    {
      "metadata": {
        "id": "81IW9wmiKvgI",
        "colab_type": "code",
        "colab": {}
      },
      "cell_type": "code",
      "source": [
        "shared_bidirectional_lstm_layer = Bidirectional(LSTM(units_2, return_sequences=True))"
      ],
      "execution_count": 0,
      "outputs": []
    },
    {
      "metadata": {
        "id": "EefmwS4kJjpm",
        "colab_type": "code",
        "colab": {}
      },
      "cell_type": "code",
      "source": [
        "shared_dropout_2 = Dropout(dropout)"
      ],
      "execution_count": 0,
      "outputs": []
    },
    {
      "metadata": {
        "id": "efQb0ZIwLGxW",
        "colab_type": "code",
        "colab": {}
      },
      "cell_type": "code",
      "source": [
        "shared_bidirectional_gru_layer = Bidirectional(GRU(units_2, return_sequences=True))"
      ],
      "execution_count": 0,
      "outputs": []
    },
    {
      "metadata": {
        "id": "XlyumzZaJmCN",
        "colab_type": "code",
        "colab": {}
      },
      "cell_type": "code",
      "source": [
        "shared_dropout_3 = Dropout(dropout)"
      ],
      "execution_count": 0,
      "outputs": []
    },
    {
      "metadata": {
        "id": "3-Vb35i7LUP9",
        "colab_type": "code",
        "colab": {}
      },
      "cell_type": "code",
      "source": [
        "shared_attention_layer = AttentionWithContext()"
      ],
      "execution_count": 0,
      "outputs": []
    },
    {
      "metadata": {
        "id": "-ID33W_KYp1W",
        "colab_type": "text"
      },
      "cell_type": "markdown",
      "source": [
        "**Siamese Network**"
      ]
    },
    {
      "metadata": {
        "colab_type": "code",
        "id": "ycBaJ0ztuVKR",
        "outputId": "a3bb089b-9ac3-4ac7-eeef-153d8315e54b",
        "colab": {
          "base_uri": "https://localhost:8080/",
          "height": 88
        }
      },
      "cell_type": "code",
      "source": [
        "embedded_left = shared_embedding_layer(left_input)\n",
        "embedded_right = shared_embedding_layer(right_input)"
      ],
      "execution_count": 0,
      "outputs": [
        {
          "output_type": "stream",
          "text": [
            "WARNING:tensorflow:From /usr/local/lib/python3.6/dist-packages/tensorflow/python/framework/op_def_library.py:263: colocate_with (from tensorflow.python.framework.ops) is deprecated and will be removed in a future version.\n",
            "Instructions for updating:\n",
            "Colocations handled automatically by placer.\n"
          ],
          "name": "stdout"
        }
      ]
    },
    {
      "metadata": {
        "id": "0I4ZnPe4uXin",
        "colab_type": "code",
        "outputId": "eb00d56f-60cb-4c5f-95ea-36351ba1d6f6",
        "colab": {
          "base_uri": "https://localhost:8080/",
          "height": 88
        }
      },
      "cell_type": "code",
      "source": [
        "cnn_left = shared_conv_layer(embedded_left)\n",
        "dropout_1_left = shared_dropout_1(cnn_left)\n",
        "batch_norm_left = shared_batch_normalization_layer(dropout_1_left)\n",
        "activation_left = shared_activation_layer(batch_norm_left)\n",
        "time_distributed_dense_left = shared_time_distributed_dense_layer(activation_left)\n",
        "bidirectional_lstm_left = shared_bidirectional_lstm_layer(time_distributed_dense_left)\n",
        "dropout_2_left = shared_dropout_2(bidirectional_lstm_left)\n",
        "bidirectional_gru_left = shared_bidirectional_gru_layer(dropout_2_left)\n",
        "dropout_3_left = shared_dropout_3(bidirectional_gru_left)\n",
        "attention_left = shared_attention_layer(dropout_3_left)"
      ],
      "execution_count": 0,
      "outputs": [
        {
          "output_type": "stream",
          "text": [
            "WARNING:tensorflow:From /usr/local/lib/python3.6/dist-packages/keras/backend/tensorflow_backend.py:3445: calling dropout (from tensorflow.python.ops.nn_ops) with keep_prob is deprecated and will be removed in a future version.\n",
            "Instructions for updating:\n",
            "Please use `rate` instead of `keep_prob`. Rate should be set to `rate = 1 - keep_prob`.\n"
          ],
          "name": "stdout"
        }
      ]
    },
    {
      "metadata": {
        "id": "wAhRLP8Vvt92",
        "colab_type": "code",
        "colab": {}
      },
      "cell_type": "code",
      "source": [
        "cnn_right = shared_conv_layer(embedded_right)\n",
        "dropout_1_right = shared_dropout_1(cnn_right)\n",
        "batch_norm_right = shared_batch_normalization_layer(cnn_right)\n",
        "activation_right = shared_activation_layer(batch_norm_right)\n",
        "time_distributed_dense_right = shared_time_distributed_dense_layer(activation_right)\n",
        "bidirectional_lstm_right = shared_bidirectional_lstm_layer(time_distributed_dense_right)\n",
        "dropout_2_right = shared_dropout_2(bidirectional_lstm_right)\n",
        "bidirectional_gru_right = shared_bidirectional_gru_layer(dropout_2_right)\n",
        "dropout_3_right = shared_dropout_3(bidirectional_gru_right)\n",
        "attention_right = shared_attention_layer(dropout_3_right)"
      ],
      "execution_count": 0,
      "outputs": []
    },
    {
      "metadata": {
        "id": "xDWcW5bu15sf",
        "colab_type": "code",
        "colab": {}
      },
      "cell_type": "code",
      "source": [
        "output_layer = Lambda(function=lambda x: K.exp(-K.sum(K.abs(x[0]-x[1]), axis=1, keepdims=True)),\n",
        "                                     output_shape=lambda x: (x[0][0], 1))([attention_left, attention_right])"
      ],
      "execution_count": 0,
      "outputs": []
    },
    {
      "metadata": {
        "id": "L5b_z6oqwB-3",
        "colab_type": "code",
        "colab": {}
      },
      "cell_type": "code",
      "source": [
        "model = Model([left_input, right_input], output_layer)"
      ],
      "execution_count": 0,
      "outputs": []
    },
    {
      "metadata": {
        "id": "J74Pl1rX2LdD",
        "colab_type": "code",
        "outputId": "cdaf4c51-5a54-407c-8717-6f86fc9c1559",
        "colab": {
          "base_uri": "https://localhost:8080/",
          "height": 799
        }
      },
      "cell_type": "code",
      "source": [
        "model.summary()"
      ],
      "execution_count": 0,
      "outputs": [
        {
          "output_type": "stream",
          "text": [
            "__________________________________________________________________________________________________\n",
            "Layer (type)                    Output Shape         Param #     Connected to                     \n",
            "==================================================================================================\n",
            "input_1 (InputLayer)            (None, 97)           0                                            \n",
            "__________________________________________________________________________________________________\n",
            "embedding_1 (Embedding)         (None, 97, 300)      19608000    input_1[0][0]                    \n",
            "                                                                 input_2[0][0]                    \n",
            "__________________________________________________________________________________________________\n",
            "input_2 (InputLayer)            (None, 97)           0                                            \n",
            "__________________________________________________________________________________________________\n",
            "conv1d_1 (Conv1D)               (None, 97, 256)      230656      embedding_1[0][0]                \n",
            "                                                                 embedding_1[1][0]                \n",
            "__________________________________________________________________________________________________\n",
            "dropout_1 (Dropout)             (None, 97, 256)      0           conv1d_1[0][0]                   \n",
            "__________________________________________________________________________________________________\n",
            "batch_normalization_1 (BatchNor (None, 97, 256)      1024        dropout_1[0][0]                  \n",
            "                                                                 conv1d_1[1][0]                   \n",
            "__________________________________________________________________________________________________\n",
            "time_distributed_1 (TimeDistrib (None, 97, 512)      131584      batch_normalization_1[0][0]      \n",
            "                                                                 batch_normalization_1[1][0]      \n",
            "__________________________________________________________________________________________________\n",
            "time_distributed_2 (TimeDistrib (None, 97, 512)      0           time_distributed_1[0][0]         \n",
            "                                                                 time_distributed_1[1][0]         \n",
            "__________________________________________________________________________________________________\n",
            "bidirectional_1 (Bidirectional) (None, 97, 512)      1574912     time_distributed_2[0][0]         \n",
            "                                                                 time_distributed_2[1][0]         \n",
            "__________________________________________________________________________________________________\n",
            "dropout_2 (Dropout)             (None, 97, 512)      0           bidirectional_1[0][0]            \n",
            "                                                                 bidirectional_1[1][0]            \n",
            "__________________________________________________________________________________________________\n",
            "bidirectional_2 (Bidirectional) (None, 97, 512)      1181184     dropout_2[0][0]                  \n",
            "                                                                 dropout_2[1][0]                  \n",
            "__________________________________________________________________________________________________\n",
            "dropout_3 (Dropout)             (None, 97, 512)      0           bidirectional_2[0][0]            \n",
            "                                                                 bidirectional_2[1][0]            \n",
            "__________________________________________________________________________________________________\n",
            "attention_with_context_1 (Atten (None, 512)          263168      dropout_3[0][0]                  \n",
            "                                                                 dropout_3[1][0]                  \n",
            "__________________________________________________________________________________________________\n",
            "lambda_1 (Lambda)               (None, 1)            0           attention_with_context_1[0][0]   \n",
            "                                                                 attention_with_context_1[1][0]   \n",
            "==================================================================================================\n",
            "Total params: 22,990,528\n",
            "Trainable params: 3,382,016\n",
            "Non-trainable params: 19,608,512\n",
            "__________________________________________________________________________________________________\n"
          ],
          "name": "stdout"
        }
      ]
    },
    {
      "metadata": {
        "id": "TkLHTUDLwYcl",
        "colab_type": "code",
        "colab": {}
      },
      "cell_type": "code",
      "source": [
        "model.compile(loss='mean_squared_error', optimizer=\"adam\", metrics=['accuracy'])"
      ],
      "execution_count": 0,
      "outputs": []
    },
    {
      "metadata": {
        "id": "cGq2mHgQwbCi",
        "colab_type": "code",
        "outputId": "e057d4b7-806a-4705-a13f-899985c575f3",
        "colab": {
          "base_uri": "https://localhost:8080/",
          "height": 102
        }
      },
      "cell_type": "code",
      "source": [
        "model.fit([train_q1, train_q2], is_duplicate_questions, batch_size=256, \n",
        "                        epochs=2)"
      ],
      "execution_count": 0,
      "outputs": [
        {
          "output_type": "stream",
          "text": [
            "Epoch 1/2\n",
            "404348/404348 [==============================] - 3318s 8ms/step - loss: 0.1855 - acc: 0.7167\n",
            "Epoch 2/2\n",
            "404348/404348 [==============================] - 3227s 8ms/step - loss: 0.1704 - acc: 0.7454\n"
          ],
          "name": "stdout"
        },
        {
          "output_type": "execute_result",
          "data": {
            "text/plain": [
              "<keras.callbacks.History at 0x7f72c365c5f8>"
            ]
          },
          "metadata": {
            "tags": []
          },
          "execution_count": 62
        }
      ]
    },
    {
      "metadata": {
        "id": "Y2El59oXmC13",
        "colab_type": "code",
        "colab": {}
      },
      "cell_type": "code",
      "source": [
        "model.save_weights('super_siamese_quora.h5')"
      ],
      "execution_count": 0,
      "outputs": []
    },
    {
      "metadata": {
        "id": "RrYaHQby2Zow",
        "colab_type": "code",
        "outputId": "26a8465f-689f-46fb-c29a-a771544662d8",
        "colab": {
          "base_uri": "https://localhost:8080/",
          "height": 218
        }
      },
      "cell_type": "code",
      "source": [
        "uploaded = drive.CreateFile()\n",
        "uploaded.SetContentFile('super_siamese_quora.h5')\n",
        "uploaded.Upload()\n",
        "print('Uploaded file with ID {}'.format(uploaded.get('id')))"
      ],
      "execution_count": 0,
      "outputs": [
        {
          "output_type": "error",
          "ename": "NameError",
          "evalue": "ignored",
          "traceback": [
            "\u001b[0;31m---------------------------------------------------------------------------\u001b[0m",
            "\u001b[0;31mNameError\u001b[0m                                 Traceback (most recent call last)",
            "\u001b[0;32m<ipython-input-182-ad7e07812665>\u001b[0m in \u001b[0;36m<module>\u001b[0;34m()\u001b[0m\n\u001b[0;32m----> 1\u001b[0;31m \u001b[0muploaded\u001b[0m \u001b[0;34m=\u001b[0m \u001b[0mdrive\u001b[0m\u001b[0;34m.\u001b[0m\u001b[0mCreateFile\u001b[0m\u001b[0;34m(\u001b[0m\u001b[0;34m)\u001b[0m\u001b[0;34m\u001b[0m\u001b[0;34m\u001b[0m\u001b[0m\n\u001b[0m\u001b[1;32m      2\u001b[0m \u001b[0muploaded\u001b[0m\u001b[0;34m.\u001b[0m\u001b[0mSetContentFile\u001b[0m\u001b[0;34m(\u001b[0m\u001b[0;34m'lsa1'\u001b[0m\u001b[0;34m)\u001b[0m\u001b[0;34m\u001b[0m\u001b[0;34m\u001b[0m\u001b[0m\n\u001b[1;32m      3\u001b[0m \u001b[0muploaded\u001b[0m\u001b[0;34m.\u001b[0m\u001b[0mUpload\u001b[0m\u001b[0;34m(\u001b[0m\u001b[0;34m)\u001b[0m\u001b[0;34m\u001b[0m\u001b[0;34m\u001b[0m\u001b[0m\n\u001b[1;32m      4\u001b[0m \u001b[0mprint\u001b[0m\u001b[0;34m(\u001b[0m\u001b[0;34m'Uploaded file with ID {}'\u001b[0m\u001b[0;34m.\u001b[0m\u001b[0mformat\u001b[0m\u001b[0;34m(\u001b[0m\u001b[0muploaded\u001b[0m\u001b[0;34m.\u001b[0m\u001b[0mget\u001b[0m\u001b[0;34m(\u001b[0m\u001b[0;34m'id'\u001b[0m\u001b[0;34m)\u001b[0m\u001b[0;34m)\u001b[0m\u001b[0;34m)\u001b[0m\u001b[0;34m\u001b[0m\u001b[0;34m\u001b[0m\u001b[0m\n",
            "\u001b[0;31mNameError\u001b[0m: name 'drive' is not defined"
          ]
        }
      ]
    },
    {
      "metadata": {
        "id": "BCGCAN4BiXgX",
        "colab_type": "code",
        "colab": {}
      },
      "cell_type": "code",
      "source": [
        "json_file = model.to_json()"
      ],
      "execution_count": 0,
      "outputs": []
    },
    {
      "metadata": {
        "id": "wMlfUjdJiXUu",
        "colab_type": "code",
        "colab": {}
      },
      "cell_type": "code",
      "source": [
        "with open(\"super_siamese_quora.json\", \"w\") as json:\n",
        "    json.write(json_file)"
      ],
      "execution_count": 0,
      "outputs": []
    },
    {
      "metadata": {
        "id": "NEJ3rBeMimoj",
        "colab_type": "code",
        "outputId": "4cc589d3-2ea0-4992-f130-977e91f8324c",
        "colab": {
          "base_uri": "https://localhost:8080/",
          "height": 34
        }
      },
      "cell_type": "code",
      "source": [
        "uploaded = drive.CreateFile()\n",
        "uploaded.SetContentFile('super_siamese_quora.json')\n",
        "uploaded.Upload()\n",
        "print('Uploaded file with ID {}'.format(uploaded.get('id')))"
      ],
      "execution_count": 0,
      "outputs": [
        {
          "output_type": "stream",
          "text": [
            "Uploaded file with ID 19p-mwNi6-6iyjxRImrMBG-I4Wr9wxDRX\n"
          ],
          "name": "stdout"
        }
      ]
    },
    {
      "metadata": {
        "id": "lE2P-_eSxEhI",
        "colab_type": "code",
        "colab": {}
      },
      "cell_type": "code",
      "source": [
        "del embeddings_index\n",
        "del embedding\n",
        "del model\n",
        "del train_q1\n",
        "del train_q2\n",
        "del word_embedding_matrix\n",
        "del question1_word_sequences\n",
        "del question2_word_sequences\n",
        "del all_questions"
      ],
      "execution_count": 0,
      "outputs": []
    },
    {
      "metadata": {
        "id": "nk8iOwrFRwn8",
        "colab_type": "text"
      },
      "cell_type": "markdown",
      "source": [
        "# Ensembling"
      ]
    },
    {
      "metadata": {
        "id": "56tVSd5srjL6",
        "colab_type": "text"
      },
      "cell_type": "markdown",
      "source": [
        "**Dataset Creation**"
      ]
    },
    {
      "metadata": {
        "colab_type": "code",
        "id": "IlmP6b4BJytA",
        "colab": {}
      },
      "cell_type": "code",
      "source": [
        "X1 = np.asarray(X_scores['lsa'])\n",
        "X2 = np.asarray(X_scores['sentence encoder'])\n",
        "X3 = np.asarray(X_scores['sent vector'])\n",
        "X4 = np.asarray(X_scores['sentence vector'])\n",
        "X5 = np.asarray(X_scores['document vectors'])"
      ],
      "execution_count": 0,
      "outputs": []
    },
    {
      "metadata": {
        "id": "MB_79KepJ5Zq",
        "colab_type": "code",
        "colab": {}
      },
      "cell_type": "code",
      "source": [
        "X = np.append(X1,np.append(X2, np.append(X3, np.append(X4, X5, axis=1), axis=1), axis=1), axis=1)"
      ],
      "execution_count": 0,
      "outputs": []
    },
    {
      "metadata": {
        "id": "v5EyMAowYWQh",
        "colab_type": "code",
        "colab": {}
      },
      "cell_type": "code",
      "source": [
        "X = pd.read_csv(\"Scores.csv\")"
      ],
      "execution_count": 0,
      "outputs": []
    },
    {
      "metadata": {
        "id": "5msLFKFSF0g1",
        "colab_type": "code",
        "colab": {}
      },
      "cell_type": "code",
      "source": [
        "X = X.iloc[:, 1:].values"
      ],
      "execution_count": 0,
      "outputs": []
    },
    {
      "metadata": {
        "id": "0pAYbTjoKkLf",
        "colab_type": "code",
        "outputId": "58462af3-eab4-49c2-f4a0-4690f46bc199",
        "colab": {
          "base_uri": "https://localhost:8080/",
          "height": 34
        }
      },
      "cell_type": "code",
      "source": [
        "is_duplicate_questions.ravel().shape"
      ],
      "execution_count": 0,
      "outputs": [
        {
          "output_type": "execute_result",
          "data": {
            "text/plain": [
              "(404348,)"
            ]
          },
          "metadata": {
            "tags": []
          },
          "execution_count": 10
        }
      ]
    },
    {
      "metadata": {
        "id": "XdVP-6-Royxk",
        "colab_type": "text"
      },
      "cell_type": "markdown",
      "source": [
        "**Genetic Algorithm**"
      ]
    },
    {
      "metadata": {
        "id": "TmMBnIe80MJS",
        "colab_type": "text"
      },
      "cell_type": "markdown",
      "source": [
        "https://towardsdatascience.com/hyperparameter-tuning-in-xgboost-using-genetic-algorithm-17bd2e581b17"
      ]
    },
    {
      "metadata": {
        "id": "_U_8PY_HiH4p",
        "colab_type": "code",
        "colab": {}
      },
      "cell_type": "code",
      "source": [
        "import random\n",
        "import numpy as np"
      ],
      "execution_count": 0,
      "outputs": []
    },
    {
      "metadata": {
        "id": "R0Co5-1aLayq",
        "colab_type": "code",
        "colab": {}
      },
      "cell_type": "code",
      "source": [
        "from sklearn.metrics import f1_score\n",
        "import matplotlib.pyplot as plt"
      ],
      "execution_count": 0,
      "outputs": []
    },
    {
      "metadata": {
        "id": "fKdSZaa8iPH7",
        "colab_type": "code",
        "colab": {}
      },
      "cell_type": "code",
      "source": [
        "random.seed(723)\n",
        "np.random.seed(723)"
      ],
      "execution_count": 0,
      "outputs": []
    },
    {
      "metadata": {
        "id": "9xLaYUzqiWlt",
        "colab_type": "text"
      },
      "cell_type": "markdown",
      "source": [
        "**Initialization**"
      ]
    },
    {
      "metadata": {
        "id": "OPiOxOqiiP8N",
        "colab_type": "code",
        "colab": {}
      },
      "cell_type": "code",
      "source": [
        "def initilialize_poplulation(numberOfParents):\n",
        "    learningRate = np.empty([numberOfParents, 1])\n",
        "    nEstimators = np.empty([numberOfParents, 1], dtype = np.uint8)\n",
        "    maxDepth = np.empty([numberOfParents, 1], dtype = np.uint8)\n",
        "    minChildWeight = np.empty([numberOfParents, 1])\n",
        "    gammaValue = np.empty([numberOfParents, 1])\n",
        "    subSample = np.empty([numberOfParents, 1])\n",
        "    colSampleByTree =  np.empty([numberOfParents, 1])\n",
        "\n",
        "    for i in range(numberOfParents):\n",
        "        print(i)\n",
        "        learningRate[i] = round(random.uniform(0.01, 1), 2)\n",
        "        nEstimators[i] = random.randrange(10, 1500, step = 25)\n",
        "        maxDepth[i] = int(random.randrange(1, 10, step= 1))\n",
        "        minChildWeight[i] = round(random.uniform(0.01, 10.0), 2)\n",
        "        gammaValue[i] = round(random.uniform(0.01, 10.0), 2)\n",
        "        subSample[i] = round(random.uniform(0.01, 1.0), 2)\n",
        "        colSampleByTree[i] = round(random.uniform(0.01, 1.0), 2)\n",
        "    \n",
        "    population = np.concatenate((learningRate, nEstimators, maxDepth, minChildWeight, gammaValue, subSample, colSampleByTree), axis= 1)\n",
        "    return population"
      ],
      "execution_count": 0,
      "outputs": []
    },
    {
      "metadata": {
        "id": "y8WIRcpoihHD",
        "colab_type": "text"
      },
      "cell_type": "markdown",
      "source": [
        "**Parent selection (survival of the fittest)**"
      ]
    },
    {
      "metadata": {
        "id": "Svuzq3neMOWQ",
        "colab_type": "code",
        "colab": {}
      },
      "cell_type": "code",
      "source": [
        "from sklearn.metrics import accuracy_score"
      ],
      "execution_count": 0,
      "outputs": []
    },
    {
      "metadata": {
        "id": "khnxonLCjG0q",
        "colab_type": "code",
        "colab": {}
      },
      "cell_type": "code",
      "source": [
        "#create fitness function that will predict F1_score\n",
        "def fitness_f1score(y_true, y_pred):\n",
        "    fitness = round((f1_score(y_true, y_pred, average='weighted')), 4)\n",
        "    return fitness"
      ],
      "execution_count": 0,
      "outputs": []
    },
    {
      "metadata": {
        "id": "nWo_OT0-inTL",
        "colab_type": "code",
        "colab": {}
      },
      "cell_type": "code",
      "source": [
        "#train the data annd find fitness score\n",
        "def train_population(population, dMatrixTrain, dMatrixtest, y_test):\n",
        "    fScore = []\n",
        "    for i in range(population.shape[0]):\n",
        "        param = { 'objective':'binary:logistic',\n",
        "              'learning_rate': population[i][0],\n",
        "              'n_estimators': population[i][1], \n",
        "              'max_depth': int(population[i][2]), \n",
        "              'min_child_weight': population[i][3],\n",
        "              'gamma': population[i][4], \n",
        "              'subsample': population[i][5],\n",
        "              'colsample_bytree': population[i][6],\n",
        "              'seed': 24}\n",
        "        num_round = 100\n",
        "        xgbT = xgb.train(param, dMatrixTrain, num_round)\n",
        "        preds = xgbT.predict(dMatrixtest)\n",
        "        preds = preds>0.5\n",
        "        fScore.append(fitness_f1score(y_test, preds))\n",
        "    return fScore"
      ],
      "execution_count": 0,
      "outputs": []
    },
    {
      "metadata": {
        "id": "HI6i1UPejEAz",
        "colab_type": "code",
        "colab": {}
      },
      "cell_type": "code",
      "source": [
        "#select parents for mating\n",
        "def new_parents_selection(population, fitness, numParents):\n",
        "    selectedParents = np.empty((numParents, population.shape[1])) #create an array to store fittest parents\n",
        "    \n",
        "    #find the top best performing parents\n",
        "    for parentId in range(numParents):\n",
        "        bestFitnessId = np.where(fitness == np.max(fitness))\n",
        "        bestFitnessId  = bestFitnessId[0][0]\n",
        "        selectedParents[parentId, :] = population[bestFitnessId, :]\n",
        "        fitness[bestFitnessId] = -1 #set this value to negative, in case of F1-score, so this parent is not selected again\n",
        "    return selectedParents"
      ],
      "execution_count": 0,
      "outputs": []
    },
    {
      "metadata": {
        "id": "_tacDj-0iwx0",
        "colab_type": "text"
      },
      "cell_type": "markdown",
      "source": [
        "**Crossover**"
      ]
    },
    {
      "metadata": {
        "id": "wG2fG-CHixYv",
        "colab_type": "code",
        "colab": {}
      },
      "cell_type": "code",
      "source": [
        "'''\n",
        "Mate these parents to create chilren having parameters from these parents (we are using uniform crossover method)\n",
        "'''\n",
        "def crossover_uniform(parents, childrenSize):\n",
        "    \n",
        "    crossoverPointIndex = np.arange(0, np.uint8(childrenSize[1]), 1, dtype= np.uint8) #get all the index\n",
        "    crossoverPointIndex1 = np.random.randint(0, np.uint8(childrenSize[1]), np.uint8(childrenSize[1]/2)) # select half  of the indexes randomly\n",
        "    crossoverPointIndex2 = np.array(list(set(crossoverPointIndex) - set(crossoverPointIndex1))) #select leftover indexes\n",
        "    \n",
        "    children = np.empty(childrenSize)\n",
        "    \n",
        "    '''\n",
        "    Create child by choosing parameters from two paraents selected using new_parent_selection function. The parameter values\n",
        "    will be picked from the indexes, which were randomly selected above. \n",
        "    '''\n",
        "    for i in range(childrenSize[0]):\n",
        "        \n",
        "        #find parent 1 index \n",
        "        parent1_index = i%parents.shape[0]\n",
        "        #find parent 2 index\n",
        "        parent2_index = (i+1)%parents.shape[0]\n",
        "        #insert parameters based on random selected indexes in parent 1\n",
        "        children[i, crossoverPointIndex1] = parents[parent1_index, crossoverPointIndex1]\n",
        "        #insert parameters based on random selected indexes in parent 1\n",
        "        children[i, crossoverPointIndex2] = parents[parent2_index, crossoverPointIndex2]\n",
        "    return children\n",
        "    "
      ],
      "execution_count": 0,
      "outputs": []
    },
    {
      "metadata": {
        "id": "SCLjuiYmjUYJ",
        "colab_type": "text"
      },
      "cell_type": "markdown",
      "source": [
        "**Mutation**"
      ]
    },
    {
      "metadata": {
        "id": "W-VEJrDpjV7u",
        "colab_type": "code",
        "colab": {}
      },
      "cell_type": "code",
      "source": [
        "'''\n",
        "Introduce some mutation in the children. In case of XGboost we will introdcue mutation randomly on each parameter one at a time,\n",
        "based on which parameter is selected at random. Initially, we will define the maximum/minimum value that is allowed for the parameter, to prevent the\n",
        "out the range error during runtime. Subsequently, we will generate mutation value and add it to the parameter, and return the mutated offspring!!!\n",
        "'''\n",
        "\n",
        "def mutation(crossover, numberOfParameters):\n",
        "    #Define minimum and maximum values allowed for each parameter\n",
        "\n",
        "    minMaxValue = np.zeros((numberOfParameters, 2))\n",
        "    \n",
        "    minMaxValue[0:] = [0.01, 1.0] #min/max learning rate\n",
        "    minMaxValue[1, :] = [10, 2000] #min/max n_estimator\n",
        "    minMaxValue[2, :] = [1, 15] #min/max depth\n",
        "    minMaxValue[3, :] = [0, 10.0] #min/max child_weight\n",
        "    minMaxValue[4, :] = [0.01, 10.0] #min/max gamma\n",
        "    minMaxValue[5, :] = [0.01, 1.0] #min/maxsubsample\n",
        "    minMaxValue[6, :] = [0.01, 1.0] #min/maxcolsample_bytree\n",
        " \n",
        "    # Mutation changes a single gene in each offspring randomly.\n",
        "    mutationValue = 0\n",
        "    parameterSelect = np.random.randint(0, 7, 1)\n",
        "    print(parameterSelect)\n",
        "    if parameterSelect == 0: #learning_rate\n",
        "        mutationValue = round(np.random.uniform(-0.5, 0.5), 2)\n",
        "    if parameterSelect == 1: #n_estimators\n",
        "        mutationValue = np.random.randint(-200, 200, 1)\n",
        "    if parameterSelect == 2: #max_depth\n",
        "        mutationValue = np.random.randint(-5, 5, 1)\n",
        "    if parameterSelect == 3: #min_child_weight\n",
        "        mutationValue = round(np.random.uniform(5, 5), 2)\n",
        "    if parameterSelect == 4: #gamma\n",
        "        mutationValue = round(np.random.uniform(-2, 2), 2)\n",
        "    if parameterSelect == 5: #subsample\n",
        "        mutationValue = round(np.random.uniform(-0.5, 0.5), 2)\n",
        "    if parameterSelect == 6: #colsample\n",
        "        mutationValue = round(np.random.uniform(-0.5, 0.5), 2)\n",
        "  \n",
        "    #indtroduce mutation by changing one parameter, and set to max or min if it goes out of range\n",
        "    for idx in range(crossover.shape[0]):\n",
        "        crossover[idx, parameterSelect] = crossover[idx, parameterSelect] + mutationValue\n",
        "        if(crossover[idx, parameterSelect] > minMaxValue[parameterSelect, 1]):\n",
        "            crossover[idx, parameterSelect] = minMaxValue[parameterSelect, 1]\n",
        "        if(crossover[idx, parameterSelect] < minMaxValue[parameterSelect, 0]):\n",
        "            crossover[idx, parameterSelect] = minMaxValue[parameterSelect, 0]    \n",
        "    return crossover"
      ],
      "execution_count": 0,
      "outputs": []
    },
    {
      "metadata": {
        "id": "dTqZEOq8jjCi",
        "colab_type": "text"
      },
      "cell_type": "markdown",
      "source": [
        "**Visualization of Genetic Algorithm Performance**"
      ]
    },
    {
      "metadata": {
        "id": "3khpoUpojp3F",
        "colab_type": "code",
        "colab": {}
      },
      "cell_type": "code",
      "source": [
        "'''\n",
        "This function will allow us to genrate the heatmap for various parameters and fitness to visualize \n",
        "how each parameter and fitness changes with each generation\n",
        "'''\n",
        "\n",
        "def plot_parameters(numberOfGenerations, numberOfParents, parameter, parameterName):\n",
        "    #inspired from https://matplotlib.org/gallery/images_contours_and_fields/image_annotated_heatmap.html\n",
        "    generationList = [\"Gen {}\".format(i) for i in range(numberOfGenerations+1)]\n",
        "    populationList = [\"Parent {}\".format(i) for i in range(numberOfParents)]\n",
        "    \n",
        "    fig, ax = plt.subplots()\n",
        "    im = ax.imshow(parameter, cmap=plt.get_cmap('YlOrBr'))\n",
        "    \n",
        "    # show ticks\n",
        "    ax.set_xticks(np.arange(len(populationList)))\n",
        "    ax.set_yticks(np.arange(len(generationList)))\n",
        "    \n",
        "    # show labels\n",
        "    ax.set_xticklabels(populationList)\n",
        "    ax.set_yticklabels(generationList)\n",
        "    \n",
        "    # set ticks at 45 degrees and rotate around anchor\n",
        "    plt.setp(ax.get_xticklabels(), rotation=45, ha=\"right\",\n",
        "             rotation_mode=\"anchor\")\n",
        "    \n",
        "    \n",
        "    # insert the value of the parameter in each cell\n",
        "    for i in range(len(generationList)):\n",
        "        for j in range(len(populationList)):\n",
        "            text = ax.text(j, i, parameter[i, j],\n",
        "                           ha=\"center\", va=\"center\", color=\"k\")\n",
        "    \n",
        "    ax.set_title(\"Change in the value of \" + parameterName)\n",
        "    fig.tight_layout()\n",
        "    plt.show()"
      ],
      "execution_count": 0,
      "outputs": []
    },
    {
      "metadata": {
        "id": "b4wCblAvjrz6",
        "colab_type": "text"
      },
      "cell_type": "markdown",
      "source": [
        "**Xgboost**"
      ]
    },
    {
      "metadata": {
        "id": "3O7R7IJ9j_Su",
        "colab_type": "code",
        "colab": {}
      },
      "cell_type": "code",
      "source": [
        "import xgboost as xgb"
      ],
      "execution_count": 0,
      "outputs": []
    },
    {
      "metadata": {
        "id": "qh417p30kY05",
        "colab_type": "code",
        "colab": {}
      },
      "cell_type": "code",
      "source": [
        "X = X\n",
        "y = is_duplicate_questions"
      ],
      "execution_count": 0,
      "outputs": []
    },
    {
      "metadata": {
        "id": "I37MwwVcmAgi",
        "colab_type": "code",
        "colab": {}
      },
      "cell_type": "code",
      "source": [
        "from sklearn.model_selection import train_test_split\n",
        "X_train, X_test, y_train, y_test = train_test_split(X, y, test_size = 0.20, random_state = 97)"
      ],
      "execution_count": 0,
      "outputs": []
    },
    {
      "metadata": {
        "id": "lZzu24UakJoc",
        "colab_type": "code",
        "colab": {}
      },
      "cell_type": "code",
      "source": [
        "xgDMatrix = xgb.DMatrix(X_train, y_train)\n",
        "xgbDMatrixTest = xgb.DMatrix(X_test, y_test)"
      ],
      "execution_count": 0,
      "outputs": []
    },
    {
      "metadata": {
        "id": "6o6aa1uEmKJ_",
        "colab_type": "code",
        "colab": {}
      },
      "cell_type": "code",
      "source": [
        "'''\n",
        "Let's find optimized parameters using genetic algorithms\n",
        "'''\n",
        "\n",
        "numberOfParents = 8 #number of parents to start\n",
        "numberOfParentsMating = 4 #number of parents that will mate\n",
        "numberOfParameters = 7 #number of parameters that will be optimized\n",
        "numberOfGenerations = 4 #number of genration that will be created"
      ],
      "execution_count": 0,
      "outputs": []
    },
    {
      "metadata": {
        "id": "2brclSh0mPFS",
        "colab_type": "code",
        "colab": {}
      },
      "cell_type": "code",
      "source": [
        "#define the population size\n",
        "populationSize = (numberOfParents, numberOfParameters)"
      ],
      "execution_count": 0,
      "outputs": []
    },
    {
      "metadata": {
        "id": "XmoljjhqmZjC",
        "colab_type": "code",
        "outputId": "968b8dda-efa2-4af6-cc33-3bb88333ff73",
        "colab": {
          "base_uri": "https://localhost:8080/",
          "height": 153
        }
      },
      "cell_type": "code",
      "source": [
        "#initialize the population with randomly generated parameters\n",
        "population = initilialize_poplulation(numberOfParents)"
      ],
      "execution_count": 0,
      "outputs": [
        {
          "output_type": "stream",
          "text": [
            "0\n",
            "1\n",
            "2\n",
            "3\n",
            "4\n",
            "5\n",
            "6\n",
            "7\n"
          ],
          "name": "stdout"
        }
      ]
    },
    {
      "metadata": {
        "id": "H7-7bKTDmT7N",
        "colab_type": "code",
        "colab": {}
      },
      "cell_type": "code",
      "source": [
        "#define an array to store the fitness  hitory\n",
        "fitnessHistory = np.empty([numberOfGenerations+1, numberOfParents])\n"
      ],
      "execution_count": 0,
      "outputs": []
    },
    {
      "metadata": {
        "id": "NwaT4t_JLSFM",
        "colab_type": "code",
        "colab": {}
      },
      "cell_type": "code",
      "source": [
        "populationHistory = np.empty([(numberOfGenerations+1)*numberOfParents, numberOfParameters])"
      ],
      "execution_count": 0,
      "outputs": []
    },
    {
      "metadata": {
        "id": "JFDZLnW5mT3B",
        "colab_type": "code",
        "colab": {}
      },
      "cell_type": "code",
      "source": [
        "#insert the value of initial parameters to history\n",
        "populationHistory[0:numberOfParents, :] = population"
      ],
      "execution_count": 0,
      "outputs": []
    },
    {
      "metadata": {
        "id": "UPQOj7rAmTpT",
        "colab_type": "code",
        "outputId": "c5497b97-1201-461a-87d1-ae27023295df",
        "colab": {
          "base_uri": "https://localhost:8080/",
          "height": 221
        }
      },
      "cell_type": "code",
      "source": [
        "for generation in range(numberOfGenerations):\n",
        "    print(\"This is number %s generation\" % (generation))\n",
        "    \n",
        "    #train the dataset and obtain fitness\n",
        "    fitnessValue = train_population(population=population, dMatrixTrain=xgDMatrix, dMatrixtest=xgbDMatrixTest, y_test=y_test)\n",
        "    fitnessHistory[generation, :] = fitnessValue\n",
        "    \n",
        "    #best score in the current iteration\n",
        "    print('Best F1 score in the this iteration = {}'.format(np.max(fitnessHistory[generation, :])))\n",
        "\n",
        "    #survival of the fittest - take the top parents, based on the fitness value and number of parents needed to be selected\n",
        "    parents = new_parents_selection(population=population, fitness=fitnessValue, numParents=numberOfParentsMating)\n",
        "    \n",
        "    #mate these parents to create children having parameters from these parents (we are using uniform crossover)\n",
        "    children = crossover_uniform(parents=parents, childrenSize=(populationSize[0] - parents.shape[0], numberOfParameters))\n",
        "    \n",
        "    #add mutation to create genetic diversity\n",
        "    children_mutated = mutation(children, numberOfParameters)\n",
        "    \n",
        "    '''\n",
        "    We will create new population, which will contain parents that where selected previously based on the\n",
        "    fitness score and rest of them  will be children\n",
        "    '''\n",
        "    population[0:parents.shape[0], :] = parents #fittest parents\n",
        "    population[parents.shape[0]:, :] = children_mutated #children\n",
        "    \n",
        "    populationHistory[(generation+1)*numberOfParents : (generation+1)*numberOfParents+ numberOfParents , :] = population #srore parent information"
      ],
      "execution_count": 0,
      "outputs": [
        {
          "output_type": "stream",
          "text": [
            "This is number 0 generation\n",
            "Best F1 score in the this iteration = 0.7516\n",
            "[2]\n",
            "This is number 1 generation\n",
            "Best F1 score in the this iteration = 0.7516\n",
            "[2]\n",
            "This is number 2 generation\n",
            "Best F1 score in the this iteration = 0.7516\n",
            "[1]\n",
            "This is number 3 generation\n",
            "Best F1 score in the this iteration = 0.7522\n",
            "[2]\n"
          ],
          "name": "stdout"
        }
      ]
    },
    {
      "metadata": {
        "id": "VKSUF7ZCmpVz",
        "colab_type": "code",
        "colab": {}
      },
      "cell_type": "code",
      "source": [
        "#Best solution from the final iteration\n",
        "fitness = train_population(population=population, dMatrixTrain=xgDMatrix, dMatrixtest=xgbDMatrixTest, y_test=y_test)\n",
        "fitnessHistory[generation+1, :] = fitness"
      ],
      "execution_count": 0,
      "outputs": []
    },
    {
      "metadata": {
        "id": "ONlfFI3cmsH4",
        "colab_type": "code",
        "colab": {}
      },
      "cell_type": "code",
      "source": [
        "#index of the best solution\n",
        "bestFitnessIndex = np.where(fitness == np.max(fitness))[0][0]"
      ],
      "execution_count": 0,
      "outputs": []
    },
    {
      "metadata": {
        "id": "IRxCa5k6mugn",
        "colab_type": "code",
        "outputId": "1738c262-dc97-42b0-f457-733e0c0a27cc",
        "colab": {
          "base_uri": "https://localhost:8080/",
          "height": 34
        }
      },
      "cell_type": "code",
      "source": [
        "#Best fitness\n",
        "print(\"Best fitness is =\", fitness[bestFitnessIndex])"
      ],
      "execution_count": 0,
      "outputs": [
        {
          "output_type": "stream",
          "text": [
            "Best fitness is = 0.7522\n"
          ],
          "name": "stdout"
        }
      ]
    },
    {
      "metadata": {
        "id": "fLhivE2LmxF6",
        "colab_type": "code",
        "outputId": "73994c29-fac8-433c-e5e4-ea78ec82fcfe",
        "colab": {
          "base_uri": "https://localhost:8080/",
          "height": 153
        }
      },
      "cell_type": "code",
      "source": [
        "#Best parameters\n",
        "print(\"Best parameters are:\")\n",
        "print('learning_rate', population[bestFitnessIndex][0])\n",
        "print('n_estimators', population[bestFitnessIndex][1])\n",
        "print('max_depth', int(population[bestFitnessIndex][2])) \n",
        "print('min_child_weight', population[bestFitnessIndex][3])\n",
        "print('gamma', population[bestFitnessIndex][4])\n",
        "print('subsample', population[bestFitnessIndex][5])\n",
        "print('colsample_bytree', population[bestFitnessIndex][6])"
      ],
      "execution_count": 0,
      "outputs": [
        {
          "output_type": "stream",
          "text": [
            "Best parameters are:\n",
            "learning_rate 0.17\n",
            "n_estimators 10.0\n",
            "max_depth 6\n",
            "min_child_weight 1.94\n",
            "gamma 6.07\n",
            "subsample 0.54\n",
            "colsample_bytree 0.58\n"
          ],
          "name": "stdout"
        }
      ]
    },
    {
      "metadata": {
        "id": "70DD9ckMm72C",
        "colab_type": "code",
        "outputId": "c3942565-5bcc-4a62-a1f8-e32b17e2faad",
        "colab": {
          "base_uri": "https://localhost:8080/",
          "height": 409
        }
      },
      "cell_type": "code",
      "source": [
        "#visualize the change in fitness of the various generations and parents\n",
        "plot_parameters(numberOfGenerations, numberOfParents, fitnessHistory, \"fitness (F1-score)\")"
      ],
      "execution_count": 0,
      "outputs": [
        {
          "output_type": "display_data",
          "data": {
            "image/png": "[encoded data removed]",
            "text/plain": [
              "<Figure size 576x396 with 1 Axes>"
            ]
          },
          "metadata": {
            "tags": []
          }
        }
      ]
    },
    {
      "metadata": {
        "id": "kJyKhKZum_SF",
        "colab_type": "code",
        "colab": {}
      },
      "cell_type": "code",
      "source": [
        "#Look at individual parameters change with generation\n",
        "#Create array for each parameter history (Genration x Parents)\n",
        "learnigRateHistory = populationHistory[:, 0].reshape([numberOfGenerations+1, numberOfParents])\n",
        "nEstimatorHistory = populationHistory[:, 1].reshape([numberOfGenerations+1, numberOfParents])\n",
        "maxdepthHistory = populationHistory[:, 2].reshape([numberOfGenerations+1, numberOfParents])\n",
        "minChildWeightHistory = populationHistory[:, 3].reshape([numberOfGenerations+1, numberOfParents])\n",
        "gammaHistory = populationHistory[:, 4].reshape([numberOfGenerations+1, numberOfParents])\n",
        "subsampleHistory = populationHistory[:, 5].reshape([numberOfGenerations+1, numberOfParents])\n",
        "colsampleByTreeHistory = populationHistory[:, 6].reshape([numberOfGenerations+1, numberOfParents])"
      ],
      "execution_count": 0,
      "outputs": []
    },
    {
      "metadata": {
        "id": "536N8XppnCPf",
        "colab_type": "code",
        "outputId": "d25dac0a-d727-4a37-e786-2a9fd731f31d",
        "colab": {
          "base_uri": "https://localhost:8080/",
          "height": 2761
        }
      },
      "cell_type": "code",
      "source": [
        "#generate heatmap for each parameter\n",
        "plot_parameters(numberOfGenerations, numberOfParents, learnigRateHistory, \"learning rate\")\n",
        "plot_parameters(numberOfGenerations, numberOfParents, nEstimatorHistory, \"n_estimator\")\n",
        "plot_parameters(numberOfGenerations, numberOfParents, maxdepthHistory, \"maximum depth\")\n",
        "plot_parameters(numberOfGenerations, numberOfParents, minChildWeightHistory, \"minimum child weight\")\n",
        "plot_parameters(numberOfGenerations, numberOfParents, gammaHistory, \"gamma\")\n",
        "plot_parameters(numberOfGenerations, numberOfParents, subsampleHistory, \"subsample\")\n",
        "plot_parameters(numberOfGenerations, numberOfParents, colsampleByTreeHistory, \"col sample by history\")"
      ],
      "execution_count": 0,
      "outputs": [
        {
          "output_type": "display_data",
          "data": {
            "image/png": "[encoded data removed]",
            "text/plain": [
              "<Figure size 576x396 with 1 Axes>"
            ]
          },
          "metadata": {
            "tags": []
          }
        },
        {
          "output_type": "display_data",
          "data": {
            "image/png": "[encoded data removed]",
            "text/plain": [
              "<Figure size 576x396 with 1 Axes>"
            ]
          },
          "metadata": {
            "tags": []
          }
        },
        {
          "output_type": "display_data",
          "data": {
            "image/png": "[encoded data removed]",
            "text/plain": [
              "<Figure size 576x396 with 1 Axes>"
            ]
          },
          "metadata": {
            "tags": []
          }
        },
        {
          "output_type": "display_data",
          "data": {
            "image/png": "[encoded data removed]",
            "text/plain": [
              "<Figure size 576x396 with 1 Axes>"
            ]
          },
          "metadata": {
            "tags": []
          }
        },
        {
          "output_type": "display_data",
          "data": {
            "image/png": "[encoded data removed]",
            "text/plain": [
              "<Figure size 576x396 with 1 Axes>"
            ]
          },
          "metadata": {
            "tags": []
          }
        },
        {
          "output_type": "display_data",
          "data": {
            "image/png": "[encoded data removed]",
            "text/plain": [
              "<Figure size 576x396 with 1 Axes>"
            ]
          },
          "metadata": {
            "tags": []
          }
        },
        {
          "output_type": "display_data",
          "data": {
            "image/png": "[encoded data removed]",
            "text/plain": [
              "<Figure size 576x396 with 1 Axes>"
            ]
          },
          "metadata": {
            "tags": []
          }
        }
      ]
    },
    {
      "metadata": {
        "id": "nYHKdp6SdgNc",
        "colab_type": "text"
      },
      "cell_type": "markdown",
      "source": [
        "# Testing"
      ]
    },
    {
      "metadata": {
        "id": "V6LsfdvUc6GJ",
        "colab_type": "code",
        "colab": {}
      },
      "cell_type": "code",
      "source": [
        "model_file_ids = ['1F4ONz6EEh-KojZTilrcjBsWXA89fvblq', '166gELhGcUW69T3NPxouzjQtoh8-QTvtB', '1osO0dYb-XFDA_GiPQ1apfGEsdmMDGlz7', '1tLEbwcjTCsnPkq6orrn3z63PD_cs0pHw', '1cSVKW2m4wF4c2r3BwLTwv-3fQOE4C1Bd', '1MpYUnUiz12YBKW3Q8R36CzlAIRDPXs86', '19p-mwNi6-6iyjxRImrMBG-I4Wr9wxDRX', '1IA8ILF6TDg2xCsYHRcTbIpE35_ntYWoy', '12KcUlUCzfyHdMaWsO6jxzVuaCvZXb9aq']\n",
        "model_file_names = ['cnn_td_quora.h5', 'cnn_td_quora.json', 'siamese_rnn_quora.h5', 'siamese_rnn_quora.json', 'super_siamese_quora.h5', 'super_siamese_quora.json', 'xgb_quora', 'lsa1', 'lsa2']"
      ],
      "execution_count": 0,
      "outputs": []
    },
    {
      "metadata": {
        "id": "Cz6KKWRw8N70",
        "colab_type": "code",
        "colab": {}
      },
      "cell_type": "code",
      "source": [
        "auth.authenticate_user()\n",
        "gauth = GoogleAuth()\n",
        "gauth.credentials = GoogleCredentials.get_application_default()\n",
        "drive = GoogleDrive(gauth)"
      ],
      "execution_count": 0,
      "outputs": []
    },
    {
      "metadata": {
        "id": "tebaioB-c54J",
        "colab_type": "code",
        "outputId": "ed71ed35-1cd0-45d4-d6a0-f3a91958d2fa",
        "colab": {
          "base_uri": "https://localhost:8080/",
          "height": 493
        }
      },
      "cell_type": "code",
      "source": [
        "for each_id, each_name in zip(model_file_ids, model_file_names):\n",
        "    download = drive.CreateFile({'id':each_id})\n",
        "    download.GetContentFile(each_name)"
      ],
      "execution_count": 123,
      "outputs": [
        {
          "output_type": "stream",
          "text": [
            "W0403 06:44:45.523919 140716940674944 __init__.py:44] file_cache is unavailable when using oauth2client >= 4.0.0\n",
            "Traceback (most recent call last):\n",
            "  File \"/usr/local/lib/python3.6/dist-packages/googleapiclient/discovery_cache/__init__.py\", line 36, in autodetect\n",
            "    from google.appengine.api import memcache\n",
            "ModuleNotFoundError: No module named 'google.appengine'\n",
            "\n",
            "During handling of the above exception, another exception occurred:\n",
            "\n",
            "Traceback (most recent call last):\n",
            "  File \"/usr/local/lib/python3.6/dist-packages/googleapiclient/discovery_cache/file_cache.py\", line 33, in <module>\n",
            "    from oauth2client.contrib.locked_file import LockedFile\n",
            "ModuleNotFoundError: No module named 'oauth2client.contrib.locked_file'\n",
            "\n",
            "During handling of the above exception, another exception occurred:\n",
            "\n",
            "Traceback (most recent call last):\n",
            "  File \"/usr/local/lib/python3.6/dist-packages/googleapiclient/discovery_cache/file_cache.py\", line 37, in <module>\n",
            "    from oauth2client.locked_file import LockedFile\n",
            "ModuleNotFoundError: No module named 'oauth2client.locked_file'\n",
            "\n",
            "During handling of the above exception, another exception occurred:\n",
            "\n",
            "Traceback (most recent call last):\n",
            "  File \"/usr/local/lib/python3.6/dist-packages/googleapiclient/discovery_cache/__init__.py\", line 41, in autodetect\n",
            "    from . import file_cache\n",
            "  File \"/usr/local/lib/python3.6/dist-packages/googleapiclient/discovery_cache/file_cache.py\", line 41, in <module>\n",
            "    'file_cache is unavailable when using oauth2client >= 4.0.0')\n",
            "ImportError: file_cache is unavailable when using oauth2client >= 4.0.0\n"
          ],
          "name": "stderr"
        }
      ]
    },
    {
      "metadata": {
        "colab_type": "code",
        "id": "ZRZs89JNdlPz",
        "colab": {}
      },
      "cell_type": "code",
      "source": [
        "from sklearn.pipeline import Pipeline\n",
        "from sklearn.decomposition import TruncatedSVD\n",
        "from sklearn.feature_extraction.text import TfidfVectorizer"
      ],
      "execution_count": 0,
      "outputs": []
    },
    {
      "metadata": {
        "colab_type": "code",
        "id": "P3p14mWgdlP6",
        "colab": {}
      },
      "cell_type": "code",
      "source": [
        "vectorizer = TfidfVectorizer(use_idf=True, smooth_idf=True)"
      ],
      "execution_count": 0,
      "outputs": []
    },
    {
      "metadata": {
        "colab_type": "code",
        "id": "YjIRys3vdlP9",
        "colab": {}
      },
      "cell_type": "code",
      "source": [
        "svd_model = TruncatedSVD(n_components=300,\n",
        "                         algorithm='randomized',\n",
        "                         n_iter=10, random_state=42)"
      ],
      "execution_count": 0,
      "outputs": []
    },
    {
      "metadata": {
        "colab_type": "code",
        "id": "tmtIKtUVdlQC",
        "colab": {}
      },
      "cell_type": "code",
      "source": [
        "lsa_model1 = Pipeline([('tfidf', vectorizer), \n",
        "                            ('svd', svd_model)])"
      ],
      "execution_count": 0,
      "outputs": []
    },
    {
      "metadata": {
        "colab_type": "code",
        "id": "EhiEOs1idlQF",
        "colab": {}
      },
      "cell_type": "code",
      "source": [
        "lsa_model2 = Pipeline([('tfidf', vectorizer), \n",
        "                            ('svd', svd_model)])"
      ],
      "execution_count": 0,
      "outputs": []
    },
    {
      "metadata": {
        "colab_type": "code",
        "id": "zXpGlZHwfmGK",
        "colab": {}
      },
      "cell_type": "code",
      "source": [
        "lsa_1 = lsa_model1.fit_transform(sentences_1[:1000])\n",
        "lsa_2 = lsa_model2.fit_transform(sentences_2[:1000])"
      ],
      "execution_count": 0,
      "outputs": []
    },
    {
      "metadata": {
        "id": "cuXuDqyMfs57",
        "colab_type": "code",
        "colab": {}
      },
      "cell_type": "code",
      "source": [
        "X_scores['lsa'] = get_scores(lsa_1, lsa_2, 1000)"
      ],
      "execution_count": 0,
      "outputs": []
    },
    {
      "metadata": {
        "id": "3tArTkoofvp4",
        "colab_type": "text"
      },
      "cell_type": "markdown",
      "source": [
        "**Word2vec**"
      ]
    },
    {
      "metadata": {
        "colab_type": "code",
        "id": "djoqT3p9f2u-",
        "colab": {}
      },
      "cell_type": "code",
      "source": [
        "from gensim.models import Word2Vec\n",
        "from gensim.models.keyedvectors import KeyedVectors"
      ],
      "execution_count": 0,
      "outputs": []
    },
    {
      "metadata": {
        "colab_type": "code",
        "id": "Rdp924cgf2vO",
        "colab": {}
      },
      "cell_type": "code",
      "source": [
        "google_model = KeyedVectors.load_word2vec_format(google_embeddings, binary=True)\n",
        "#wiki_model = KeyedVectors.load_word2vec_format(\"models/pretrained/glove/wiki/wiki.300d.txt\", binary=False)\n",
        "#common_crawl_model = KeyedVectors.load_word2vec_format(\"models/pretrained/glove/common_crawl/common_crawl.300d.txt\", binary=False)"
      ],
      "execution_count": 0,
      "outputs": []
    },
    {
      "metadata": {
        "colab_type": "code",
        "id": "9NYsfc2af2vV",
        "colab": {}
      },
      "cell_type": "code",
      "source": [
        "def sentence_vectorizer(model, sentence):\n",
        "    vectors =[]\n",
        "    num = 0\n",
        "    for i in sentence.split():\n",
        "        try:\n",
        "            if num == 0:\n",
        "                vectors = model[i]\n",
        "            else:\n",
        "                vectors = np.add(vectors, model[i])\n",
        "            num += 1\n",
        "        except:\n",
        "            pass\n",
        "    return np.array(vectors) / num"
      ],
      "execution_count": 0,
      "outputs": []
    },
    {
      "metadata": {
        "colab_type": "code",
        "id": "o9IBVqzDf2vd",
        "colab": {}
      },
      "cell_type": "code",
      "source": [
        "sent_vec1 = []\n",
        "for each in sentences_1[:1000]:\n",
        "    temp = sentence_vectorizer(google_model, each)\n",
        "    if temp.shape[0] != 0:\n",
        "        sent_vec1.append(temp)\n",
        "    else:\n",
        "        sent_vec1.append(np.zeros((300,)))\n",
        "sent_vec1 = np.asarray(sent_vec1)"
      ],
      "execution_count": 0,
      "outputs": []
    },
    {
      "metadata": {
        "colab_type": "code",
        "id": "Cku6Q7yqf2vi",
        "colab": {}
      },
      "cell_type": "code",
      "source": [
        "sent_vec2 = []\n",
        "for each in sentences_2[:1000]:\n",
        "    temp = sentence_vectorizer(google_model, each)\n",
        "    if temp.shape[0] != 0:\n",
        "        sent_vec2.append(temp)\n",
        "    else:\n",
        "        sent_vec2.append(np.zeros((300,)))\n",
        "sent_vec2 = np.asarray(sent_vec2)"
      ],
      "execution_count": 0,
      "outputs": []
    },
    {
      "metadata": {
        "id": "-_KugUzH9Paf",
        "colab_type": "code",
        "colab": {
          "base_uri": "https://localhost:8080/",
          "height": 34
        },
        "outputId": "544fd80d-880a-488b-d237-d9ec182c01f4"
      },
      "cell_type": "code",
      "source": [
        "sent_vec2.shape"
      ],
      "execution_count": 131,
      "outputs": [
        {
          "output_type": "execute_result",
          "data": {
            "text/plain": [
              "(1000, 300)"
            ]
          },
          "metadata": {
            "tags": []
          },
          "execution_count": 131
        }
      ]
    },
    {
      "metadata": {
        "colab_type": "code",
        "id": "Srk8WkMZf2vo",
        "colab": {}
      },
      "cell_type": "code",
      "source": [
        "del google_model"
      ],
      "execution_count": 0,
      "outputs": []
    },
    {
      "metadata": {
        "colab_type": "code",
        "id": "FdMG1Eoff-jR",
        "colab": {}
      },
      "cell_type": "code",
      "source": [
        "X_scores['sent vector'] = get_scores(sent_vec1, sent_vec2, 1000)"
      ],
      "execution_count": 0,
      "outputs": []
    },
    {
      "metadata": {
        "colab_type": "code",
        "id": "cBFg27OCf-jl",
        "colab": {}
      },
      "cell_type": "code",
      "source": [
        "del sent_vec1\n",
        "del sent_vec2"
      ],
      "execution_count": 0,
      "outputs": []
    },
    {
      "metadata": {
        "id": "QGMstT-MgASh",
        "colab_type": "text"
      },
      "cell_type": "markdown",
      "source": [
        "**InferSent**"
      ]
    },
    {
      "metadata": {
        "colab_type": "code",
        "id": "ImAWaFf3gIKF",
        "colab": {}
      },
      "cell_type": "code",
      "source": [
        "import torch\n",
        "import numpy as np\n",
        "from random import randint"
      ],
      "execution_count": 0,
      "outputs": []
    },
    {
      "metadata": {
        "colab_type": "code",
        "id": "B8IXUEXrgIKS",
        "colab": {}
      },
      "cell_type": "code",
      "source": [
        "from iku.methods.infersent.models import InferSent\n",
        "model_version = 2\n",
        "params_model = {'bsize': 128, 'word_emb_dim': 300, 'enc_lstm_dim': 2048,\n",
        "                'pool_type': 'max', 'dpout_model': 0.0, 'version': model_version}\n",
        "model = InferSent(params_model)\n",
        "model.load_state_dict(torch.load(infersent_embeddings))"
      ],
      "execution_count": 0,
      "outputs": []
    },
    {
      "metadata": {
        "colab_type": "code",
        "id": "rgtV5YXlgIKc",
        "colab": {}
      },
      "cell_type": "code",
      "source": [
        "use_cuda = True\n",
        "model = model.cuda() if use_cuda else model # Keep it on CPU or put it on GPU"
      ],
      "execution_count": 0,
      "outputs": []
    },
    {
      "metadata": {
        "colab_type": "code",
        "id": "wLKKQxGjgIKj",
        "colab": {}
      },
      "cell_type": "code",
      "source": [
        "W2V_PATH = infersent_crawl_embeddings\n",
        "model.set_w2v_path(W2V_PATH)"
      ],
      "execution_count": 0,
      "outputs": []
    },
    {
      "metadata": {
        "colab_type": "code",
        "outputId": "a7b583e7-8fd3-4e70-f783-312cbf2418bb",
        "id": "4mlq1DsVgIKp",
        "colab": {
          "base_uri": "https://localhost:8080/",
          "height": 34
        }
      },
      "cell_type": "code",
      "source": [
        "model.build_vocab_k_words(K=100000)"
      ],
      "execution_count": 141,
      "outputs": [
        {
          "output_type": "stream",
          "text": [
            "Vocab size : 100000\n"
          ],
          "name": "stdout"
        }
      ]
    },
    {
      "metadata": {
        "colab_type": "code",
        "id": "j9OaAivGgILL",
        "colab": {}
      },
      "cell_type": "code",
      "source": [
        "X_scores['sentence vector'] = []"
      ],
      "execution_count": 0,
      "outputs": []
    },
    {
      "metadata": {
        "colab_type": "code",
        "outputId": "5fb166bf-7635-4590-e34e-e207d4f1c970",
        "id": "trhqMiG9gILS",
        "colab": {
          "base_uri": "https://localhost:8080/",
          "height": 85
        }
      },
      "cell_type": "code",
      "source": [
        "infersent_1 = model.encode(sentences_1[:1000], bsize=128, tokenize=True, verbose=True)\n",
        "infersent_2 = model.encode(sentences_2[:1000], bsize=128, tokenize=True, verbose=True)\n",
        "X_scores['sentence vector'].extend(get_scores(infersent_1, infersent_2, 1000))"
      ],
      "execution_count": 143,
      "outputs": [
        {
          "output_type": "stream",
          "text": [
            "Nb words kept : 6825/7171 (95.2%)\n",
            "Speed : 1085.3 sentences/s (gpu mode, bsize=128)\n",
            "Nb words kept : 7043/7351 (95.8%)\n",
            "Speed : 1859.4 sentences/s (gpu mode, bsize=128)\n"
          ],
          "name": "stdout"
        }
      ]
    },
    {
      "metadata": {
        "id": "nn9B9ZUZgX7k",
        "colab_type": "code",
        "colab": {}
      },
      "cell_type": "code",
      "source": [
        "del model\n",
        "del infersent_1\n",
        "del infersent_2"
      ],
      "execution_count": 0,
      "outputs": []
    },
    {
      "metadata": {
        "id": "T360El4PgPjr",
        "colab_type": "text"
      },
      "cell_type": "markdown",
      "source": [
        "**Sentence Encoder**"
      ]
    },
    {
      "metadata": {
        "colab_type": "code",
        "outputId": "0ea6f08b-8173-4b01-f424-83515d99e859",
        "id": "A9gyPK6Dgi4c",
        "colab": {
          "base_uri": "https://localhost:8080/",
          "height": 71
        }
      },
      "cell_type": "code",
      "source": [
        "import tensorflow as tf\n",
        "import tensorflow_hub as hub"
      ],
      "execution_count": 0,
      "outputs": [
        {
          "output_type": "stream",
          "text": [
            "WARNING: Logging before flag parsing goes to stderr.\n",
            "W0403 04:46:39.137001 140716940674944 __init__.py:56] Some hub symbols are not available because TensorFlow version is less than 1.14\n"
          ],
          "name": "stderr"
        }
      ]
    },
    {
      "metadata": {
        "colab_type": "code",
        "id": "eGaBQ-dqgi48",
        "colab": {}
      },
      "cell_type": "code",
      "source": [
        "module_url = \"https://tfhub.dev/google/universal-sentence-encoder/2\" #@param [\"https://tfhub.dev/google/universal-sentence-encoder/2\", \"https://tfhub.dev/google/universal-sentence-encoder-large/3\"]"
      ],
      "execution_count": 0,
      "outputs": []
    },
    {
      "metadata": {
        "colab_type": "code",
        "id": "WIhMBL1pgi5G",
        "outputId": "a85ac1f8-0be1-44bc-8146-3c114001ee0d",
        "colab": {
          "base_uri": "https://localhost:8080/",
          "height": 139
        }
      },
      "cell_type": "code",
      "source": [
        "embed = hub.Module(module_url)"
      ],
      "execution_count": 0,
      "outputs": [
        {
          "output_type": "stream",
          "text": [
            "WARNING:tensorflow:From /usr/local/lib/python3.6/dist-packages/tensorflow/python/ops/control_flow_ops.py:3632: colocate_with (from tensorflow.python.framework.ops) is deprecated and will be removed in a future version.\n",
            "Instructions for updating:\n",
            "Colocations handled automatically by placer.\n"
          ],
          "name": "stdout"
        },
        {
          "output_type": "stream",
          "text": [
            "W0403 04:46:53.535814 140716940674944 deprecation.py:323] From /usr/local/lib/python3.6/dist-packages/tensorflow/python/ops/control_flow_ops.py:3632: colocate_with (from tensorflow.python.framework.ops) is deprecated and will be removed in a future version.\n",
            "Instructions for updating:\n",
            "Colocations handled automatically by placer.\n"
          ],
          "name": "stderr"
        }
      ]
    },
    {
      "metadata": {
        "colab_type": "code",
        "id": "Db7O3bQhgi5T",
        "colab": {}
      },
      "cell_type": "code",
      "source": [
        "X_scores['sentence encoder'] = []"
      ],
      "execution_count": 0,
      "outputs": []
    },
    {
      "metadata": {
        "colab_type": "code",
        "id": "ZsQbU0Djgi5h",
        "colab": {}
      },
      "cell_type": "code",
      "source": [
        "# Run in cpu since GPU wont help\n",
        "config = tf.ConfigProto(\n",
        "        device_count = {'GPU': 0}\n",
        "    )\n",
        "sess = tf.Session()"
      ],
      "execution_count": 0,
      "outputs": []
    },
    {
      "metadata": {
        "colab_type": "code",
        "outputId": "53351d65-120a-4be1-9a1c-c83c44add552",
        "id": "XQi_loJtgi5o",
        "colab": {
          "base_uri": "https://localhost:8080/",
          "height": 105
        }
      },
      "cell_type": "code",
      "source": [
        "with tf.Session(config=config) as session:\n",
        "    session.run([tf.global_variables_initializer(), tf.tables_initializer()])\n",
        "    sentences_embeddings_1 = session.run(embed(sentences_1[:1000].tolist()))\n",
        "    sentences_embeddings_2 = session.run(embed(sentences_2[:1000].tolist()))\n",
        "    X_scores['sentence encoder'].extend(get_scores(sentences_embeddings_1, sentences_embeddings_2, sentences_embeddings_1.shape[0]))"
      ],
      "execution_count": 0,
      "outputs": [
        {
          "output_type": "stream",
          "text": [
            "INFO:tensorflow:Saver not created because there are no variables in the graph to restore\n"
          ],
          "name": "stdout"
        },
        {
          "output_type": "stream",
          "text": [
            "I0403 04:47:05.869256 140716940674944 saver.py:1483] Saver not created because there are no variables in the graph to restore\n"
          ],
          "name": "stderr"
        },
        {
          "output_type": "stream",
          "text": [
            "INFO:tensorflow:Saver not created because there are no variables in the graph to restore\n"
          ],
          "name": "stdout"
        },
        {
          "output_type": "stream",
          "text": [
            "I0403 04:47:08.391034 140716940674944 saver.py:1483] Saver not created because there are no variables in the graph to restore\n"
          ],
          "name": "stderr"
        }
      ]
    },
    {
      "metadata": {
        "colab_type": "code",
        "id": "7_S-AhHngi51",
        "colab": {}
      },
      "cell_type": "code",
      "source": [
        "del embed"
      ],
      "execution_count": 0,
      "outputs": []
    },
    {
      "metadata": {
        "id": "uRWjQXHJgy1b",
        "colab_type": "text"
      },
      "cell_type": "markdown",
      "source": [
        "**Doc2vec**"
      ]
    },
    {
      "metadata": {
        "id": "7Z5PDdd-k37n",
        "colab_type": "code",
        "colab": {}
      },
      "cell_type": "code",
      "source": [
        "from gensim.models import Doc2Vec\n"
      ],
      "execution_count": 0,
      "outputs": []
    },
    {
      "metadata": {
        "colab_type": "code",
        "outputId": "ecbea947-34f4-4a9f-cb41-4d1bd787ac0d",
        "id": "k0w3LXO3g3OX",
        "colab": {
          "base_uri": "https://localhost:8080/",
          "height": 105
        }
      },
      "cell_type": "code",
      "source": [
        "model = Doc2Vec.load(dbow_wiki_embeddings)"
      ],
      "execution_count": 0,
      "outputs": [
        {
          "output_type": "stream",
          "text": [
            "/usr/local/lib/python3.6/dist-packages/gensim/models/doc2vec.py:566: UserWarning: The parameter `iter` is deprecated, will be removed in 4.0.0, use `epochs` instead.\n",
            "  warnings.warn(\"The parameter `iter` is deprecated, will be removed in 4.0.0, use `epochs` instead.\")\n",
            "/usr/local/lib/python3.6/dist-packages/gensim/models/doc2vec.py:570: UserWarning: The parameter `size` is deprecated, will be removed in 4.0.0, use `vector_size` instead.\n",
            "  warnings.warn(\"The parameter `size` is deprecated, will be removed in 4.0.0, use `vector_size` instead.\")\n"
          ],
          "name": "stderr"
        }
      ]
    },
    {
      "metadata": {
        "id": "SNQh7tCqkv5v",
        "colab_type": "code",
        "colab": {}
      },
      "cell_type": "code",
      "source": [
        "length = 1000"
      ],
      "execution_count": 0,
      "outputs": []
    },
    {
      "metadata": {
        "colab_type": "code",
        "id": "qLJ8kU7vg3Ol",
        "colab": {}
      },
      "cell_type": "code",
      "source": [
        "sentence_vector1 = []\n",
        "for i in range(length):\n",
        "    sentence_vector1.append(model.infer_vector(sentences_1[i].split()))\n",
        "sentence_vector1 = np.asarray(sentence_vector1)"
      ],
      "execution_count": 0,
      "outputs": []
    },
    {
      "metadata": {
        "colab_type": "code",
        "id": "joJZBxspg3Or",
        "colab": {}
      },
      "cell_type": "code",
      "source": [
        "sentence_vector2 = []\n",
        "for i in range(length):\n",
        "    sentence_vector2.append(model.infer_vector(sentences_2[i].split()))\n",
        "sentence_vector2 = np.asarray(sentence_vector2)"
      ],
      "execution_count": 0,
      "outputs": []
    },
    {
      "metadata": {
        "colab_type": "code",
        "id": "R8oyBPGcg3Oy",
        "colab": {}
      },
      "cell_type": "code",
      "source": [
        "X_scores['document vectors'] = get_scores(sentence_vector1, sentence_vector2, length)"
      ],
      "execution_count": 0,
      "outputs": []
    },
    {
      "metadata": {
        "colab_type": "code",
        "id": "WQnNkxPag3O7",
        "colab": {}
      },
      "cell_type": "code",
      "source": [
        "del model\n",
        "del sentence_vector1\n",
        "del sentence_vector2"
      ],
      "execution_count": 0,
      "outputs": []
    },
    {
      "metadata": {
        "id": "6R8FiCVWgZyV",
        "colab_type": "text"
      },
      "cell_type": "markdown",
      "source": [
        "**XGBOOST**"
      ]
    },
    {
      "metadata": {
        "id": "StjaC0uYhTk6",
        "colab_type": "code",
        "colab": {}
      },
      "cell_type": "code",
      "source": [
        "import xgboost as xgb"
      ],
      "execution_count": 0,
      "outputs": []
    },
    {
      "metadata": {
        "id": "e8ajvOF-pW-L",
        "colab_type": "code",
        "colab": {}
      },
      "cell_type": "code",
      "source": [
        "import joblib\n",
        "xgb_model = joblib.load(\"xgb_quora\")"
      ],
      "execution_count": 0,
      "outputs": []
    },
    {
      "metadata": {
        "id": "hk4dHUjWg_T7",
        "colab_type": "code",
        "colab": {}
      },
      "cell_type": "code",
      "source": [
        "X1 = np.asarray(X_scores['lsa'])\n",
        "X2 = np.asarray(X_scores['sentence encoder'])\n",
        "X3 = np.asarray(X_scores['sent vector'])\n",
        "X4 = np.asarray(X_scores['sentence vector'])\n",
        "X5 = np.asarray(X_scores['document vectors'])"
      ],
      "execution_count": 0,
      "outputs": []
    },
    {
      "metadata": {
        "id": "Z5gw8u2p6-4Y",
        "colab_type": "code",
        "colab": {
          "base_uri": "https://localhost:8080/",
          "height": 34
        },
        "outputId": "efff1123-a94e-4ff8-d3d7-51fc22a717ae"
      },
      "cell_type": "code",
      "source": [
        "X5.shape"
      ],
      "execution_count": 148,
      "outputs": [
        {
          "output_type": "execute_result",
          "data": {
            "text/plain": [
              "(1000, 4)"
            ]
          },
          "metadata": {
            "tags": []
          },
          "execution_count": 148
        }
      ]
    },
    {
      "metadata": {
        "id": "pSbIEPPOhD87",
        "colab_type": "code",
        "colab": {}
      },
      "cell_type": "code",
      "source": [
        "X = np.append(X1,np.append(X2, np.append(X3, np.append(X4, X5, axis=1), axis=1), axis=1), axis=1)"
      ],
      "execution_count": 0,
      "outputs": []
    },
    {
      "metadata": {
        "id": "x1_KUl1Sod7G",
        "colab_type": "code",
        "outputId": "326b05b4-6bfe-41c2-d024-e89d8b069f56",
        "colab": {
          "base_uri": "https://localhost:8080/",
          "height": 86
        }
      },
      "cell_type": "code",
      "source": [
        "X"
      ],
      "execution_count": 0,
      "outputs": [
        {
          "output_type": "execute_result",
          "data": {
            "text/plain": [
              "array([[ 0.08059286,  3.24612956,  0.34791035,  0.34791035,  0.71501803,\n",
              "        13.39896015,  0.75495946,  0.75495954,  0.39513218, 38.50582027,\n",
              "         2.77663946,  2.77663958,  0.98860502,  7.78655523,  0.27962661,\n",
              "         0.27962861,  0.71676117,  8.51804166,  0.63390481,  0.63390481]])"
            ]
          },
          "metadata": {
            "tags": []
          },
          "execution_count": 196
        }
      ]
    },
    {
      "metadata": {
        "id": "i1TM6CGRhMsP",
        "colab_type": "code",
        "colab": {}
      },
      "cell_type": "code",
      "source": [
        "pred1 = xgb_model.predict(xgb.DMatrix(X))"
      ],
      "execution_count": 0,
      "outputs": []
    },
    {
      "metadata": {
        "id": "tPuptkOpoyHf",
        "colab_type": "code",
        "outputId": "d7c5a745-655f-4cbd-a3dd-6402f3892173",
        "colab": {
          "base_uri": "https://localhost:8080/",
          "height": 4284
        }
      },
      "cell_type": "code",
      "source": [
        "pred1"
      ],
      "execution_count": 151,
      "outputs": [
        {
          "output_type": "execute_result",
          "data": {
            "text/plain": [
              "array([6.83399141e-01, 1.35944724e-01, 4.59594905e-01, 7.50924088e-03,\n",
              "       7.98606277e-02, 5.82917690e-01, 1.96073833e-03, 6.31801128e-01,\n",
              "       6.71347916e-01, 5.72004914e-01, 2.98061874e-04, 5.54380774e-01,\n",
              "       7.22362459e-01, 6.84458554e-01, 4.97586519e-01, 1.93417355e-01,\n",
              "       6.84632719e-01, 5.46982527e-01, 7.27621794e-01, 6.16017938e-01,\n",
              "       3.69608492e-01, 4.34398204e-01, 6.94802582e-01, 3.83765921e-02,\n",
              "       2.76055992e-01, 4.95196164e-01, 5.21036804e-01, 4.35658157e-01,\n",
              "       7.04088271e-01, 5.48824906e-01, 4.30451423e-01, 4.21625048e-01,\n",
              "       5.62313020e-01, 2.33760657e-04, 6.91132724e-01, 2.00272813e-01,\n",
              "       4.61408705e-01, 1.43080741e-01, 6.46532238e-01, 9.29001495e-02,\n",
              "       7.11024463e-01, 7.23295629e-01, 5.85266292e-01, 1.68653861e-01,\n",
              "       8.10994387e-01, 6.52151942e-01, 3.63051135e-04, 9.78482515e-02,\n",
              "       6.34009123e-01, 5.91271162e-01, 3.36157948e-01, 6.60332739e-01,\n",
              "       4.85545374e-04, 3.55310261e-01, 8.88126786e-04, 9.47131217e-02,\n",
              "       1.44218549e-01, 5.31839728e-01, 2.74771392e-01, 5.77115595e-01,\n",
              "       3.92697304e-01, 3.65988106e-01, 3.14766794e-01, 6.90004408e-01,\n",
              "       3.62051785e-01, 4.22310561e-01, 7.12282479e-01, 4.70417231e-01,\n",
              "       4.28111553e-01, 7.59811373e-04, 4.17519659e-01, 7.10703611e-01,\n",
              "       7.11946607e-01, 6.54077157e-02, 7.07801104e-01, 2.96838552e-01,\n",
              "       4.85302895e-01, 4.10454571e-01, 5.75967133e-01, 7.26980090e-01,\n",
              "       2.69828707e-01, 2.41914064e-01, 2.34013155e-01, 2.51356792e-03,\n",
              "       4.36440140e-01, 5.66678941e-01, 1.44471183e-01, 3.46687078e-01,\n",
              "       6.43399775e-01, 7.63341010e-01, 1.50796786e-01, 2.77651995e-01,\n",
              "       6.68428540e-01, 5.19964814e-01, 4.16013509e-01, 6.73861384e-01,\n",
              "       5.27267866e-02, 3.69252473e-01, 3.12014222e-01, 8.71035531e-02,\n",
              "       5.68820834e-01, 2.81063348e-01, 3.15424591e-01, 7.84677386e-01,\n",
              "       4.25522685e-01, 2.04108939e-01, 1.95979565e-01, 7.33165741e-01,\n",
              "       5.74232757e-01, 8.36123347e-01, 4.42252994e-01, 6.83755636e-01,\n",
              "       3.25622521e-02, 3.25804979e-01, 3.71746421e-01, 4.82868403e-01,\n",
              "       3.33545692e-02, 2.72877440e-02, 4.81728703e-01, 5.42812765e-01,\n",
              "       2.24573985e-01, 1.48836514e-02, 6.39787197e-01, 2.89689451e-01,\n",
              "       5.78854186e-03, 3.95753801e-01, 4.88401949e-01, 5.60781360e-01,\n",
              "       1.06468424e-01, 4.17553544e-01, 2.02148184e-01, 2.52484926e-03,\n",
              "       4.94880587e-01, 3.63342971e-01, 3.97021659e-02, 3.34224850e-01,\n",
              "       5.09180963e-01, 4.26030427e-01, 4.76473510e-01, 4.83302176e-01,\n",
              "       1.05720967e-01, 5.31288028e-01, 6.53923664e-04, 5.67650318e-01,\n",
              "       2.95096666e-01, 2.22934380e-01, 4.27075833e-01, 9.79604796e-02,\n",
              "       9.70323905e-02, 4.15983588e-01, 1.67604275e-02, 4.05514747e-01,\n",
              "       5.77444613e-01, 6.71560109e-01, 8.51639807e-02, 4.88636076e-01,\n",
              "       3.58780354e-01, 6.91698566e-02, 4.05235380e-01, 7.65486062e-01,\n",
              "       6.26986444e-01, 6.48268405e-03, 2.92464137e-01, 6.43062830e-01,\n",
              "       5.47492683e-01, 6.48912549e-01, 3.45739037e-01, 1.89655676e-01,\n",
              "       7.39655674e-01, 1.00883096e-01, 1.17571712e-01, 3.02537143e-01,\n",
              "       5.25108576e-01, 1.08828939e-01, 6.89514637e-01, 6.81777120e-01,\n",
              "       9.47813839e-02, 4.18218642e-01, 5.55074096e-01, 6.53140485e-01,\n",
              "       2.13429213e-01, 4.76391435e-01, 1.67196244e-01, 3.33155096e-01,\n",
              "       1.99272811e-01, 3.30148935e-01, 2.95419961e-01, 5.63948154e-02,\n",
              "       2.62104839e-01, 5.19498348e-01, 8.10672879e-01, 5.69657803e-01,\n",
              "       3.47903073e-01, 2.11947694e-01, 5.38064957e-01, 6.26440287e-01,\n",
              "       9.77080017e-02, 5.87388813e-01, 7.53233492e-01, 3.66213769e-01,\n",
              "       6.66378260e-01, 6.47088920e-04, 8.19616079e-01, 7.64102280e-01,\n",
              "       1.11619523e-02, 4.99707639e-01, 3.67904544e-01, 1.46338627e-01,\n",
              "       5.30577779e-01, 5.91130674e-01, 5.90826631e-01, 2.02403694e-01,\n",
              "       6.54691015e-04, 4.01317000e-01, 1.25853810e-03, 6.46462142e-01,\n",
              "       5.50646603e-01, 4.14946407e-01, 7.99579837e-04, 7.05939233e-01,\n",
              "       5.80578029e-01, 2.03831449e-01, 7.49930024e-01, 5.42902970e-04,\n",
              "       5.92753828e-01, 1.82010993e-01, 7.02871025e-01, 1.85460553e-01,\n",
              "       2.06178397e-01, 5.40087461e-01, 3.54902983e-01, 3.72622848e-01,\n",
              "       3.53198230e-01, 2.95035169e-02, 3.39673311e-01, 4.01764423e-01,\n",
              "       6.01919949e-01, 2.40555555e-01, 6.22588873e-01, 2.32049450e-01,\n",
              "       3.90932292e-01, 5.86740498e-04, 4.47615921e-01, 2.77028739e-01,\n",
              "       7.48790085e-01, 5.94681978e-01, 7.19852328e-01, 3.70330662e-01,\n",
              "       3.30502868e-01, 4.39698756e-01, 5.89037776e-01, 5.97156644e-01,\n",
              "       1.52475715e-01, 5.28849363e-01, 2.72236228e-01, 3.46510231e-01,\n",
              "       2.39334717e-01, 4.59420830e-01, 1.94490582e-01, 3.16306353e-01,\n",
              "       4.10996974e-01, 6.19232476e-01, 7.19172478e-01, 7.09036171e-01,\n",
              "       6.48906648e-01, 4.14013296e-01, 2.03123242e-01, 2.67848849e-01,\n",
              "       5.64060844e-02, 3.60126615e-01, 7.19491780e-01, 2.93422312e-01,\n",
              "       2.31556110e-02, 7.51404047e-01, 7.33452678e-01, 5.92489183e-01,\n",
              "       9.03594866e-03, 7.12347269e-01, 4.49110121e-01, 3.18944395e-01,\n",
              "       1.28566131e-01, 5.01584530e-01, 4.99450386e-01, 6.27746880e-02,\n",
              "       7.96636343e-01, 4.01318789e-01, 2.44472668e-01, 6.30818963e-01,\n",
              "       5.56348860e-01, 4.72820491e-01, 4.53549027e-01, 6.77164674e-01,\n",
              "       2.30786622e-01, 5.06514966e-01, 1.35724053e-01, 5.42224705e-01,\n",
              "       3.52171063e-01, 2.50315119e-04, 7.42075264e-01, 6.17155731e-01,\n",
              "       5.83932638e-01, 9.00983054e-04, 7.20020711e-01, 5.98355651e-01,\n",
              "       7.86804318e-01, 1.91436201e-01, 1.98288962e-01, 2.88995743e-01,\n",
              "       6.72610343e-01, 6.20164752e-01, 3.63451391e-01, 4.71620321e-01,\n",
              "       6.48409247e-01, 3.00524145e-01, 5.65035224e-01, 1.24034323e-01,\n",
              "       5.26572950e-02, 5.51301599e-01, 6.15015745e-01, 6.59948230e-01,\n",
              "       1.37027308e-01, 5.41829586e-01, 6.87433183e-01, 6.41195714e-01,\n",
              "       7.27887869e-01, 5.19197285e-01, 1.28699049e-01, 5.06580055e-01,\n",
              "       7.18339205e-01, 4.29830581e-01, 1.37615904e-01, 5.89333057e-01,\n",
              "       2.09196601e-02, 1.07990436e-01, 3.22068334e-01, 5.43786526e-01,\n",
              "       3.65072370e-01, 3.54882679e-04, 5.98235875e-02, 5.15665054e-01,\n",
              "       8.59210432e-01, 5.82965672e-01, 5.23938239e-01, 1.28597721e-01,\n",
              "       9.72717404e-02, 2.19813865e-02, 6.32441044e-01, 7.62762308e-01,\n",
              "       5.20200908e-01, 7.08141267e-01, 4.53267902e-01, 2.37359013e-02,\n",
              "       6.33187532e-01, 7.01968610e-01, 1.29007682e-01, 4.06498089e-02,\n",
              "       1.65097922e-01, 7.05412447e-01, 1.81266491e-03, 5.38483918e-01,\n",
              "       6.89754248e-01, 4.24898803e-01, 3.30167830e-01, 6.13991141e-01,\n",
              "       4.12832797e-01, 7.30384946e-01, 5.81763029e-01, 1.24971427e-01,\n",
              "       4.83947456e-01, 3.37902933e-01, 4.79938984e-01, 1.34599477e-01,\n",
              "       8.72827619e-02, 5.15700698e-01, 1.78634059e-02, 5.77916026e-01,\n",
              "       5.40642440e-01, 7.69867659e-01, 1.92555636e-01, 3.69531125e-01,\n",
              "       2.80349970e-01, 6.89744771e-01, 1.52978197e-01, 5.73370039e-01,\n",
              "       2.88365871e-01, 5.82071245e-01, 2.88527488e-04, 2.81014033e-02,\n",
              "       6.86935306e-01, 7.94751849e-03, 1.94041535e-01, 5.69708366e-03,\n",
              "       4.37516004e-01, 6.07198477e-01, 7.13752747e-01, 6.35343909e-01,\n",
              "       4.69641298e-01, 5.18689334e-01, 2.39693727e-02, 8.95292982e-02,\n",
              "       4.05059427e-01, 3.28399718e-01, 4.74147171e-01, 6.39451921e-01,\n",
              "       4.06542331e-01, 5.68402171e-01, 2.19154581e-01, 1.11863902e-03,\n",
              "       4.62556601e-01, 4.39640224e-01, 1.58581302e-01, 1.64858866e-02,\n",
              "       2.01830924e-01, 5.29567071e-04, 1.44692317e-01, 6.16264164e-01,\n",
              "       1.17517024e-01, 3.39896232e-01, 3.69603891e-04, 7.62389541e-01,\n",
              "       6.57085061e-01, 7.18846202e-01, 5.65362632e-01, 2.00056925e-01,\n",
              "       4.33851294e-02, 7.78552815e-02, 6.87842220e-02, 3.07133377e-01,\n",
              "       5.61902642e-01, 2.87601165e-02, 4.28720951e-01, 5.56073546e-01,\n",
              "       3.26355994e-01, 1.43257603e-02, 3.20697844e-01, 2.38877907e-02,\n",
              "       3.09826106e-01, 5.99183023e-01, 3.95798177e-01, 4.26210731e-01,\n",
              "       7.37275695e-03, 4.36594523e-02, 7.93469429e-01, 2.97361791e-01,\n",
              "       1.84811488e-01, 3.11142981e-01, 7.08129287e-01, 5.23185253e-01,\n",
              "       5.97263157e-01, 4.37045507e-02, 5.86746633e-01, 6.93972051e-01,\n",
              "       1.46851152e-01, 3.57860662e-02, 3.92241627e-01, 7.07141906e-02,\n",
              "       3.98432672e-01, 7.67709613e-01, 7.45761573e-01, 6.30111694e-01,\n",
              "       6.10365927e-01, 5.30583322e-01, 6.32588863e-01, 6.00277722e-01,\n",
              "       4.91479307e-01, 1.67442244e-02, 5.30374376e-03, 5.70846200e-01,\n",
              "       2.15726420e-01, 1.41273767e-01, 2.54507759e-04, 1.39787085e-02,\n",
              "       1.56892404e-01, 3.16630125e-01, 2.94595433e-04, 2.80603051e-01,\n",
              "       4.94402379e-01, 5.18652856e-01, 4.63241667e-01, 3.23363453e-01,\n",
              "       1.59059127e-03, 4.55686808e-01, 3.49349193e-02, 7.64882863e-01,\n",
              "       5.81089973e-01, 1.69779807e-01, 3.58854741e-01, 4.55714166e-01,\n",
              "       7.36704409e-01, 7.54394412e-01, 1.42227173e-01, 7.70379305e-01,\n",
              "       4.63759392e-01, 3.73106271e-01, 6.57247365e-01, 4.72466618e-01,\n",
              "       5.30084848e-01, 3.79796140e-02, 1.56445310e-01, 1.17464133e-01,\n",
              "       2.33577162e-01, 5.77378511e-01, 5.68312109e-01, 1.07780762e-01,\n",
              "       4.31386709e-01, 4.75966513e-01, 4.02680576e-01, 5.17439008e-01,\n",
              "       6.00032270e-01, 2.07779750e-01, 7.29266256e-02, 1.04933069e-03,\n",
              "       1.45330653e-01, 7.98223495e-01, 2.24826559e-01, 5.64114392e-01,\n",
              "       9.65759754e-02, 6.86107159e-01, 1.30065903e-01, 3.93829308e-04,\n",
              "       6.41578317e-01, 1.27037778e-01, 4.92886037e-01, 3.78339946e-01,\n",
              "       7.08705604e-01, 6.82956815e-01, 6.65426791e-01, 5.48599899e-01,\n",
              "       9.28891730e-03, 2.17659056e-01, 7.07802887e-04, 6.68277731e-03,\n",
              "       4.90321457e-01, 5.56344628e-01, 1.37021497e-01, 7.03849733e-01,\n",
              "       6.28000557e-01, 8.27818960e-02, 2.82822222e-01, 1.02672294e-01,\n",
              "       7.74014473e-01, 5.18870950e-01, 7.62539431e-02, 4.33194189e-04,\n",
              "       7.61129975e-01, 3.58016223e-01, 5.43262810e-02, 6.33315086e-01,\n",
              "       9.82249081e-02, 5.76839745e-01, 1.48541108e-01, 2.73137093e-01,\n",
              "       1.48406073e-01, 2.93853104e-01, 6.05728507e-01, 8.49243402e-01,\n",
              "       1.42201915e-01, 7.09457636e-01, 5.14921725e-01, 3.21356326e-01,\n",
              "       4.70926166e-01, 3.60581428e-01, 3.63889813e-01, 3.79105031e-01,\n",
              "       8.47986221e-01, 1.67342566e-03, 3.68011981e-01, 2.39713714e-01,\n",
              "       6.75184369e-01, 5.02323031e-01, 4.69142884e-01, 6.61926091e-01,\n",
              "       2.09113002e-01, 7.41296053e-01, 1.75712761e-02, 6.68824196e-01,\n",
              "       6.62290782e-04, 6.94657862e-01, 6.84246898e-01, 1.01795630e-03,\n",
              "       6.12469077e-01, 5.86936116e-01, 4.20488596e-01, 4.93758261e-01,\n",
              "       4.98099893e-01, 7.54995167e-01, 7.47435093e-01, 2.22417936e-01,\n",
              "       3.79730374e-01, 3.45947802e-01, 4.31546867e-01, 5.22414148e-01,\n",
              "       7.86492288e-01, 6.53494179e-01, 6.08216166e-01, 7.80669391e-01,\n",
              "       7.08442509e-01, 4.09918100e-01, 3.21881235e-01, 2.55723745e-01,\n",
              "       7.43083298e-01, 6.89897656e-01, 3.48924488e-01, 4.44420338e-01,\n",
              "       1.01406928e-02, 6.52961954e-02, 5.49173176e-01, 6.65879905e-01,\n",
              "       6.23895049e-01, 6.88483000e-01, 8.66583548e-04, 2.00713053e-02,\n",
              "       3.64959270e-01, 2.23527029e-01, 1.28599644e-01, 1.44161358e-01,\n",
              "       1.04008417e-03, 7.51777709e-01, 3.62364709e-01, 6.59657478e-01,\n",
              "       5.83429098e-01, 1.48319930e-01, 2.73848861e-01, 2.56549984e-01,\n",
              "       5.17797172e-01, 5.37600100e-01, 6.51832938e-01, 3.75991434e-01,\n",
              "       5.73023140e-01, 5.36361992e-01, 3.43695283e-01, 8.37542564e-02,\n",
              "       4.60912943e-01, 4.36608583e-01, 3.58485997e-01, 2.32909054e-01,\n",
              "       8.11594784e-01, 4.51491207e-01, 2.93763578e-01, 7.03973323e-02,\n",
              "       1.43158451e-01, 6.73209965e-01, 1.12797157e-03, 6.50431752e-01,\n",
              "       6.55970335e-01, 4.48247850e-01, 6.50975993e-03, 7.14351118e-01,\n",
              "       5.81938326e-01, 9.77463052e-02, 3.65244508e-01, 2.12930841e-03,\n",
              "       6.04189038e-01, 6.07267082e-01, 5.48055112e-01, 6.16044879e-01,\n",
              "       4.67371821e-01, 4.59504217e-01, 7.24072814e-01, 2.01647371e-01,\n",
              "       5.82305610e-01, 5.44222116e-01, 1.81961581e-01, 6.90307796e-01,\n",
              "       5.25162637e-01, 7.20443368e-01, 1.32857710e-02, 2.93888211e-01,\n",
              "       2.89323598e-01, 6.89858377e-01, 3.51176381e-01, 2.78651237e-01,\n",
              "       2.48488203e-01, 1.42914593e-01, 5.89786172e-01, 1.27435893e-01,\n",
              "       3.06504875e-01, 6.92423522e-01, 7.49177694e-01, 3.15216452e-01,\n",
              "       6.52469337e-01, 4.25857782e-01, 2.38382097e-04, 2.63053626e-01,\n",
              "       1.70148522e-01, 2.52037108e-01, 7.09047914e-01, 1.59809053e-01,\n",
              "       7.67098010e-01, 2.37788320e-01, 5.95906615e-01, 3.66797835e-01,\n",
              "       3.81358594e-01, 1.26549602e-02, 1.71017364e-01, 7.19422996e-01,\n",
              "       5.30686319e-01, 8.69252533e-02, 1.76243693e-01, 6.74153388e-01,\n",
              "       6.38868809e-01, 3.18163902e-01, 7.55860925e-01, 7.52049804e-01,\n",
              "       7.77279079e-01, 5.63306451e-01, 1.07929446e-01, 5.24479449e-01,\n",
              "       1.55186281e-01, 4.84069109e-01, 2.64648110e-01, 5.47027867e-03,\n",
              "       6.92776263e-01, 7.08541989e-01, 3.51720512e-01, 6.13307714e-01,\n",
              "       3.96605283e-01, 1.57069877e-01, 7.73600638e-01, 8.58730674e-02,\n",
              "       1.16068055e-03, 4.74291503e-01, 5.09994984e-01, 7.49015272e-01,\n",
              "       4.85044450e-01, 3.52201939e-01, 5.27310669e-01, 7.40730107e-01,\n",
              "       3.97317201e-01, 7.99361229e-01, 4.48277205e-01, 4.66645788e-03,\n",
              "       9.70773457e-04, 4.85097170e-01, 5.82359016e-01, 4.99925673e-01,\n",
              "       7.76193812e-02, 6.34427369e-01, 8.93077999e-02, 5.54708540e-01,\n",
              "       3.50993313e-02, 5.47205925e-01, 5.85630238e-01, 1.35769948e-01,\n",
              "       4.87570524e-01, 4.58865643e-01, 7.13422120e-01, 4.03411090e-02,\n",
              "       2.98927814e-01, 2.82284290e-01, 6.30728304e-01, 1.40877324e-03,\n",
              "       4.91986960e-01, 2.13508397e-01, 6.10429108e-01, 5.36901414e-01,\n",
              "       5.20729184e-01, 3.56180906e-01, 6.11672236e-04, 1.76638916e-01,\n",
              "       7.08268523e-01, 2.51660168e-01, 5.47893520e-04, 6.20875158e-04,\n",
              "       4.35667366e-01, 9.29230526e-02, 7.07194149e-01, 5.73676219e-03,\n",
              "       6.26406252e-01, 5.70198238e-01, 7.03376085e-02, 4.60593343e-01,\n",
              "       6.86089218e-01, 5.18269360e-01, 5.69691122e-01, 5.66409621e-03,\n",
              "       6.78438127e-01, 6.18598878e-01, 2.77598262e-01, 6.70060873e-01,\n",
              "       2.97455430e-01, 7.25697815e-01, 3.08803558e-01, 1.29232439e-03,\n",
              "       6.95926785e-01, 7.07711816e-01, 1.84087276e-01, 7.39467621e-01,\n",
              "       4.74559993e-01, 3.05166543e-01, 6.95349336e-01, 1.48282014e-02,\n",
              "       1.23585604e-01, 1.94672376e-01, 7.81428516e-02, 2.53938943e-01,\n",
              "       6.22769475e-01, 6.40772343e-01, 7.33344436e-01, 5.31178713e-01,\n",
              "       4.31365341e-01, 2.86431098e-03, 3.25215585e-03, 5.57473958e-01,\n",
              "       4.74940717e-01, 7.38744974e-01, 4.62216944e-01, 1.60404537e-02,\n",
              "       6.36620939e-01, 1.77077174e-01, 4.18819010e-01, 4.93690312e-01,\n",
              "       4.93351310e-01, 1.66559234e-01, 4.02273983e-03, 5.48136532e-01,\n",
              "       9.01585445e-02, 7.36752868e-01, 2.47340307e-01, 5.74610591e-01,\n",
              "       4.37443167e-01, 1.68882430e-01, 7.55479395e-01, 6.26429081e-01,\n",
              "       5.21971047e-01, 6.31551683e-01, 2.04033464e-01, 5.71683049e-01,\n",
              "       6.28500938e-01, 5.01406528e-02, 6.15121543e-01, 3.87728274e-01,\n",
              "       4.17515934e-01, 7.54193068e-01, 6.32826984e-01, 5.81457078e-01,\n",
              "       7.00644851e-01, 4.83737618e-01, 5.39459169e-01, 6.24393625e-03,\n",
              "       7.13002205e-01, 5.84062072e-04, 2.00336680e-01, 1.00259371e-01,\n",
              "       1.69641390e-01, 2.89304078e-01, 4.28105712e-01, 5.84788203e-01,\n",
              "       6.35607660e-01, 5.78849077e-01, 5.21199763e-01, 2.08576456e-01,\n",
              "       5.50890326e-01, 6.18724525e-01, 2.20240071e-01, 5.19398153e-01,\n",
              "       5.58726728e-01, 1.70295343e-01, 6.89524770e-01, 5.51002443e-01,\n",
              "       7.02340782e-01, 7.38336205e-01, 3.70876342e-02, 4.12820250e-01,\n",
              "       1.43814902e-03, 2.24060472e-03, 4.46857721e-01, 7.69276798e-01,\n",
              "       1.12733874e-03, 7.03867733e-01, 1.54603094e-01, 2.56303370e-01,\n",
              "       7.20560968e-01, 6.09098375e-01, 5.61326027e-01, 1.19805187e-01,\n",
              "       6.62461340e-01, 2.75291502e-01, 8.40326247e-04, 4.35908169e-01,\n",
              "       4.14862067e-01, 3.95448655e-02, 5.56139648e-01, 1.36829287e-01,\n",
              "       1.19716391e-01, 2.86871433e-01, 5.01739085e-01, 9.63308588e-02,\n",
              "       6.87578022e-01, 5.45147002e-01, 3.89525861e-01, 6.18719339e-01,\n",
              "       8.44537437e-01, 7.45383084e-01, 5.08156598e-01, 2.84043401e-01,\n",
              "       3.92213523e-01, 2.52137091e-02, 3.91168833e-01, 3.94515425e-01,\n",
              "       2.96283454e-01, 4.04456048e-04, 3.39303553e-01, 6.61897361e-01,\n",
              "       4.94266152e-01, 2.97143191e-01, 5.62835276e-01, 4.56989259e-01,\n",
              "       3.37123983e-02, 5.73730111e-01, 4.24194455e-01, 1.33880530e-03,\n",
              "       5.66171817e-02, 2.53855367e-04, 3.13896835e-01, 4.15673465e-01,\n",
              "       6.90768719e-01, 6.87400699e-01, 1.91807553e-01, 5.61635733e-01,\n",
              "       9.89542576e-04, 4.77706082e-04, 7.16491401e-01, 7.99457312e-01,\n",
              "       3.76807630e-01, 6.80290341e-01, 1.95431430e-03, 3.27945918e-01,\n",
              "       1.93041528e-03, 7.52993643e-01, 4.06923354e-01, 6.87473118e-01,\n",
              "       6.10349029e-02, 1.62226912e-02, 8.34547102e-01, 5.61013639e-01,\n",
              "       3.96200418e-01, 1.09143509e-02, 6.09712005e-01, 7.74545431e-01,\n",
              "       6.69623375e-01, 4.50222054e-03, 5.59054017e-01, 7.38932312e-01,\n",
              "       5.41232765e-01, 6.71280384e-01, 4.16317642e-01, 5.49344085e-02,\n",
              "       3.63750279e-01, 7.26252556e-01, 2.83150971e-02, 7.98621774e-01,\n",
              "       7.24225581e-01, 5.94125211e-01, 5.22233844e-01, 4.52284247e-01,\n",
              "       6.56455040e-01, 6.70636117e-01, 4.91997004e-01, 5.58884978e-01,\n",
              "       1.05109639e-01, 5.12151062e-01, 5.35512507e-01, 7.08740592e-01,\n",
              "       4.59898671e-04, 7.17045798e-04, 4.74704564e-01, 4.63562667e-01,\n",
              "       6.38981223e-01, 4.60294813e-01, 2.75716126e-01, 2.11490154e-01,\n",
              "       7.61543913e-03, 5.74267030e-01, 6.65415704e-01, 6.28844082e-01,\n",
              "       6.04514241e-01, 4.83792759e-02, 7.49013305e-01, 6.77510381e-01,\n",
              "       6.00296319e-01, 1.25735654e-02, 6.83761477e-01, 3.63816857e-01,\n",
              "       1.22128543e-03, 6.16552651e-01, 1.30532414e-01, 2.22862169e-01,\n",
              "       9.88049880e-02, 7.25359321e-01, 2.47232184e-01, 3.57867092e-01,\n",
              "       2.72199869e-01, 5.35893023e-01, 1.21956058e-01, 3.05891894e-02,\n",
              "       1.22657940e-01, 6.59871439e-04, 3.96145821e-01, 1.84314954e-03],\n",
              "      dtype=float32)"
            ]
          },
          "metadata": {
            "tags": []
          },
          "execution_count": 151
        }
      ]
    },
    {
      "metadata": {
        "id": "FOU02IAxg7ZH",
        "colab_type": "text"
      },
      "cell_type": "markdown",
      "source": [
        "**Neural Networks**"
      ]
    },
    {
      "metadata": {
        "id": "-3iokcjwt-DO",
        "colab_type": "code",
        "colab": {}
      },
      "cell_type": "code",
      "source": [
        "from keras.models import model_from_json\n",
        "from keras.preprocessing.text import Tokenizer\n",
        "from keras.preprocessing.sequence import pad_sequences\n",
        "from keras import backend"
      ],
      "execution_count": 0,
      "outputs": []
    },
    {
      "metadata": {
        "id": "ZndQ7iR3BzYx",
        "colab_type": "code",
        "colab": {}
      },
      "cell_type": "code",
      "source": [
        "import pickle"
      ],
      "execution_count": 0,
      "outputs": []
    },
    {
      "metadata": {
        "id": "GjpLQMDFt9tU",
        "colab_type": "code",
        "colab": {}
      },
      "cell_type": "code",
      "source": [
        "with open('cnn_time_distributed.pickle', 'rb') as handle:\n",
        "    tokenizer = pickle.load(handle)"
      ],
      "execution_count": 0,
      "outputs": []
    },
    {
      "metadata": {
        "id": "veuhyLrnuHL-",
        "colab_type": "code",
        "colab": {}
      },
      "cell_type": "code",
      "source": [
        "test_sentences1 = tokenizer.texts_to_sequences(sentences_1[:1000])\n",
        "test_sentences2 = tokenizer.texts_to_sequences(sentences_2[:1000])"
      ],
      "execution_count": 0,
      "outputs": []
    },
    {
      "metadata": {
        "id": "7dexEbY4uJE-",
        "colab_type": "code",
        "colab": {}
      },
      "cell_type": "code",
      "source": [
        "max_question_len= 97\n",
        "test_1 = pad_sequences(test_sentences1,\n",
        "                              maxlen = max_question_len)"
      ],
      "execution_count": 0,
      "outputs": []
    },
    {
      "metadata": {
        "id": "J3aOdacNuK_w",
        "colab_type": "code",
        "colab": {}
      },
      "cell_type": "code",
      "source": [
        "test_2 = pad_sequences(test_sentences2,\n",
        "                              maxlen = max_question_len)"
      ],
      "execution_count": 0,
      "outputs": []
    },
    {
      "metadata": {
        "id": "8qS7nnlG6t0-",
        "colab_type": "text"
      },
      "cell_type": "markdown",
      "source": [
        "**CNN and TimeDistributed**"
      ]
    },
    {
      "metadata": {
        "id": "qPumRiAV39P4",
        "colab_type": "code",
        "colab": {}
      },
      "cell_type": "code",
      "source": [
        "with open('cnn_td_quora.json', 'r') as json_file:\n",
        "    loaded_model = json_file.read()"
      ],
      "execution_count": 0,
      "outputs": []
    },
    {
      "metadata": {
        "id": "DrxdeDp3egNE",
        "colab_type": "code",
        "outputId": "315f5e12-97e8-48a7-fae4-6e15131a4974",
        "colab": {
          "base_uri": "https://localhost:8080/",
          "height": 139
        }
      },
      "cell_type": "code",
      "source": [
        "cnn_td_model = model_from_json(loaded_model)"
      ],
      "execution_count": 173,
      "outputs": [
        {
          "output_type": "stream",
          "text": [
            "WARNING:tensorflow:From /usr/local/lib/python3.6/dist-packages/keras/backend/tensorflow_backend.py:3445: calling dropout (from tensorflow.python.ops.nn_ops) with keep_prob is deprecated and will be removed in a future version.\n",
            "Instructions for updating:\n",
            "Please use `rate` instead of `keep_prob`. Rate should be set to `rate = 1 - keep_prob`.\n"
          ],
          "name": "stdout"
        },
        {
          "output_type": "stream",
          "text": [
            "W0403 07:11:51.284765 140716940674944 deprecation.py:506] From /usr/local/lib/python3.6/dist-packages/keras/backend/tensorflow_backend.py:3445: calling dropout (from tensorflow.python.ops.nn_ops) with keep_prob is deprecated and will be removed in a future version.\n",
            "Instructions for updating:\n",
            "Please use `rate` instead of `keep_prob`. Rate should be set to `rate = 1 - keep_prob`.\n"
          ],
          "name": "stderr"
        }
      ]
    },
    {
      "metadata": {
        "id": "8xi-vXjb-ksB",
        "colab_type": "code",
        "colab": {}
      },
      "cell_type": "code",
      "source": [
        "cnn_td_model.load_weights(\"cnn_td_quora.h5\")"
      ],
      "execution_count": 0,
      "outputs": []
    },
    {
      "metadata": {
        "id": "M8iHPd7kPIE2",
        "colab_type": "code",
        "colab": {}
      },
      "cell_type": "code",
      "source": [
        "pred_2 = cnn_td_model.predict([test_1, test_2, test_1, test_2])\n"
      ],
      "execution_count": 0,
      "outputs": []
    },
    {
      "metadata": {
        "id": "wQqB3cwG612U",
        "colab_type": "text"
      },
      "cell_type": "markdown",
      "source": [
        "**Siamese Network(RNN)**\n"
      ]
    },
    {
      "metadata": {
        "id": "sPrykpx-uRpt",
        "colab_type": "code",
        "colab": {}
      },
      "cell_type": "code",
      "source": [
        "with open('siamese_rnn_quora.json', 'r') as json_file:\n",
        "    loaded_model = json_file.read()"
      ],
      "execution_count": 0,
      "outputs": []
    },
    {
      "metadata": {
        "id": "lmLaYJZmuRSp",
        "colab_type": "code",
        "colab": {}
      },
      "cell_type": "code",
      "source": [
        "siamese_rnn_model = model_from_json(loaded_model, custom_objects={\"backend\": backend})"
      ],
      "execution_count": 0,
      "outputs": []
    },
    {
      "metadata": {
        "id": "B5kcMvHRuRBq",
        "colab_type": "code",
        "colab": {}
      },
      "cell_type": "code",
      "source": [
        "siamese_rnn_model.load_weights(\"siamese_rnn_quora.h5\")"
      ],
      "execution_count": 0,
      "outputs": []
    },
    {
      "metadata": {
        "id": "BdNmmGmh7BoL",
        "colab_type": "code",
        "colab": {}
      },
      "cell_type": "code",
      "source": [
        "pred_3 = siamese_rnn_model.predict([test_1, test_2])"
      ],
      "execution_count": 0,
      "outputs": []
    },
    {
      "metadata": {
        "id": "Xueoi2is7Chx",
        "colab_type": "text"
      },
      "cell_type": "markdown",
      "source": [
        "**Siamese Network(CNN and RNN)**"
      ]
    },
    {
      "metadata": {
        "id": "w_31B8FHFM9_",
        "colab_type": "code",
        "colab": {}
      },
      "cell_type": "code",
      "source": [
        "with open('super_siamese_quora.json', 'r') as json_file:\n",
        "    loaded_model = json_file.read()"
      ],
      "execution_count": 0,
      "outputs": []
    },
    {
      "metadata": {
        "id": "Pc6NpYS8FNc2",
        "colab_type": "code",
        "colab": {}
      },
      "cell_type": "code",
      "source": [
        "super_siamese_model = model_from_json(loaded_model, custom_objects={\"AttentionWithContext\": AttentionWithContext})"
      ],
      "execution_count": 0,
      "outputs": []
    },
    {
      "metadata": {
        "id": "UGigLFeWxmT7",
        "colab_type": "code",
        "colab": {}
      },
      "cell_type": "code",
      "source": [
        "super_siamese_model.load_weights(\"super_siamese_quora.h5\")"
      ],
      "execution_count": 0,
      "outputs": []
    },
    {
      "metadata": {
        "id": "cnweFuGSxrgb",
        "colab_type": "code",
        "colab": {}
      },
      "cell_type": "code",
      "source": [
        "pred_4 = super_siamese_model.predict([test_1, test_2])"
      ],
      "execution_count": 0,
      "outputs": []
    },
    {
      "metadata": {
        "id": "ztH_glOdDYlK",
        "colab_type": "text"
      },
      "cell_type": "markdown",
      "source": [
        "# Result"
      ]
    },
    {
      "metadata": {
        "id": "oA_bilEKDbgy",
        "colab_type": "code",
        "colab": {}
      },
      "cell_type": "code",
      "source": [
        "x = []\n",
        "for i in range(20):\n",
        "  x.append([questions1[i], questions2[i], (pred1[i] + pred_2[i][0] + pred_3[i][0] + pred_4[i][0])/4])"
      ],
      "execution_count": 0,
      "outputs": []
    },
    {
      "metadata": {
        "id": "1pxdVrlCD46x",
        "colab_type": "code",
        "colab": {
          "base_uri": "https://localhost:8080/",
          "height": 669
        },
        "outputId": "cbc529f8-c374-48d7-9775-2e6c74f64e93"
      },
      "cell_type": "code",
      "source": [
        "pd.DataFrame(x).head(20)"
      ],
      "execution_count": 212,
      "outputs": [
        {
          "output_type": "execute_result",
          "data": {
            "text/html": [
              "<div>\n",
              "<style scoped>\n",
              "    .dataframe tbody tr th:only-of-type {\n",
              "        vertical-align: middle;\n",
              "    }\n",
              "\n",
              "    .dataframe tbody tr th {\n",
              "        vertical-align: top;\n",
              "    }\n",
              "\n",
              "    .dataframe thead th {\n",
              "        text-align: right;\n",
              "    }\n",
              "</style>\n",
              "<table border=\"1\" class=\"dataframe\">\n",
              "  <thead>\n",
              "    <tr style=\"text-align: right;\">\n",
              "      <th></th>\n",
              "      <th>0</th>\n",
              "      <th>1</th>\n",
              "      <th>2</th>\n",
              "    </tr>\n",
              "  </thead>\n",
              "  <tbody>\n",
              "    <tr>\n",
              "      <th>0</th>\n",
              "      <td>What is the step by step guide to invest in sh...</td>\n",
              "      <td>What is the step by step guide to invest in sh...</td>\n",
              "      <td>0.560825</td>\n",
              "    </tr>\n",
              "    <tr>\n",
              "      <th>1</th>\n",
              "      <td>What is the story of Kohinoor (Koh-i-Noor) Dia...</td>\n",
              "      <td>What would happen if the Indian government sto...</td>\n",
              "      <td>0.231400</td>\n",
              "    </tr>\n",
              "    <tr>\n",
              "      <th>2</th>\n",
              "      <td>How can I increase the speed of my internet co...</td>\n",
              "      <td>How can Internet speed be increased by hacking...</td>\n",
              "      <td>0.432666</td>\n",
              "    </tr>\n",
              "    <tr>\n",
              "      <th>3</th>\n",
              "      <td>Why am I mentally very lonely? How can I solve...</td>\n",
              "      <td>Find the remainder when [math]23^{24}[/math] i...</td>\n",
              "      <td>0.117028</td>\n",
              "    </tr>\n",
              "    <tr>\n",
              "      <th>4</th>\n",
              "      <td>Which one dissolve in water quikly sugar, salt...</td>\n",
              "      <td>Which fish would survive in salt water?</td>\n",
              "      <td>0.055409</td>\n",
              "    </tr>\n",
              "    <tr>\n",
              "      <th>5</th>\n",
              "      <td>Astrology: I am a Capricorn Sun Cap moon and c...</td>\n",
              "      <td>I'm a triple Capricorn (Sun, Moon and ascendan...</td>\n",
              "      <td>0.413934</td>\n",
              "    </tr>\n",
              "    <tr>\n",
              "      <th>6</th>\n",
              "      <td>Should I buy tiago?</td>\n",
              "      <td>What keeps childern active and far from phone ...</td>\n",
              "      <td>0.064391</td>\n",
              "    </tr>\n",
              "    <tr>\n",
              "      <th>7</th>\n",
              "      <td>How can I be a good geologist?</td>\n",
              "      <td>What should I do to be a great geologist?</td>\n",
              "      <td>0.700075</td>\n",
              "    </tr>\n",
              "    <tr>\n",
              "      <th>8</th>\n",
              "      <td>When do you use シ instead of し?</td>\n",
              "      <td>When do you use \"&amp;\" instead of \"and\"?</td>\n",
              "      <td>0.747250</td>\n",
              "    </tr>\n",
              "    <tr>\n",
              "      <th>9</th>\n",
              "      <td>Motorola (company): Can I hack my Charter Moto...</td>\n",
              "      <td>How do I hack Motorola DCX3400 for free internet?</td>\n",
              "      <td>0.229920</td>\n",
              "    </tr>\n",
              "    <tr>\n",
              "      <th>10</th>\n",
              "      <td>Method to find separation of slits using fresn...</td>\n",
              "      <td>What are some of the things technicians can te...</td>\n",
              "      <td>0.096761</td>\n",
              "    </tr>\n",
              "    <tr>\n",
              "      <th>11</th>\n",
              "      <td>How do I read and find my YouTube comments?</td>\n",
              "      <td>How can I see all my Youtube comments?</td>\n",
              "      <td>0.517929</td>\n",
              "    </tr>\n",
              "    <tr>\n",
              "      <th>12</th>\n",
              "      <td>What can make Physics easy to learn?</td>\n",
              "      <td>How can you make physics easy to learn?</td>\n",
              "      <td>0.865502</td>\n",
              "    </tr>\n",
              "    <tr>\n",
              "      <th>13</th>\n",
              "      <td>What was your first sexual experience like?</td>\n",
              "      <td>What was your first sexual experience?</td>\n",
              "      <td>0.701063</td>\n",
              "    </tr>\n",
              "    <tr>\n",
              "      <th>14</th>\n",
              "      <td>What are the laws to change your status from a...</td>\n",
              "      <td>What are the laws to change your status from a...</td>\n",
              "      <td>0.396474</td>\n",
              "    </tr>\n",
              "    <tr>\n",
              "      <th>15</th>\n",
              "      <td>What would a Trump presidency mean for current...</td>\n",
              "      <td>How will a Trump presidency affect the student...</td>\n",
              "      <td>0.526452</td>\n",
              "    </tr>\n",
              "    <tr>\n",
              "      <th>16</th>\n",
              "      <td>What does manipulation mean?</td>\n",
              "      <td>What does manipulation means?</td>\n",
              "      <td>0.885455</td>\n",
              "    </tr>\n",
              "    <tr>\n",
              "      <th>17</th>\n",
              "      <td>Why do girls want to be friends with the guy t...</td>\n",
              "      <td>How do guys feel after rejecting a girl?</td>\n",
              "      <td>0.387412</td>\n",
              "    </tr>\n",
              "    <tr>\n",
              "      <th>18</th>\n",
              "      <td>Why are so many Quora users posting questions ...</td>\n",
              "      <td>Why do people ask Quora questions which can be...</td>\n",
              "      <td>0.732122</td>\n",
              "    </tr>\n",
              "    <tr>\n",
              "      <th>19</th>\n",
              "      <td>Which is the best digital marketing institutio...</td>\n",
              "      <td>Which is the best digital marketing institute ...</td>\n",
              "      <td>0.418834</td>\n",
              "    </tr>\n",
              "  </tbody>\n",
              "</table>\n",
              "</div>"
            ],
            "text/plain": [
              "                                                    0  \\\n",
              "0   What is the step by step guide to invest in sh...   \n",
              "1   What is the story of Kohinoor (Koh-i-Noor) Dia...   \n",
              "2   How can I increase the speed of my internet co...   \n",
              "3   Why am I mentally very lonely? How can I solve...   \n",
              "4   Which one dissolve in water quikly sugar, salt...   \n",
              "5   Astrology: I am a Capricorn Sun Cap moon and c...   \n",
              "6                                 Should I buy tiago?   \n",
              "7                      How can I be a good geologist?   \n",
              "8                     When do you use シ instead of し?   \n",
              "9   Motorola (company): Can I hack my Charter Moto...   \n",
              "10  Method to find separation of slits using fresn...   \n",
              "11        How do I read and find my YouTube comments?   \n",
              "12               What can make Physics easy to learn?   \n",
              "13        What was your first sexual experience like?   \n",
              "14  What are the laws to change your status from a...   \n",
              "15  What would a Trump presidency mean for current...   \n",
              "16                       What does manipulation mean?   \n",
              "17  Why do girls want to be friends with the guy t...   \n",
              "18  Why are so many Quora users posting questions ...   \n",
              "19  Which is the best digital marketing institutio...   \n",
              "\n",
              "                                                    1         2  \n",
              "0   What is the step by step guide to invest in sh...  0.560825  \n",
              "1   What would happen if the Indian government sto...  0.231400  \n",
              "2   How can Internet speed be increased by hacking...  0.432666  \n",
              "3   Find the remainder when [math]23^{24}[/math] i...  0.117028  \n",
              "4             Which fish would survive in salt water?  0.055409  \n",
              "5   I'm a triple Capricorn (Sun, Moon and ascendan...  0.413934  \n",
              "6   What keeps childern active and far from phone ...  0.064391  \n",
              "7           What should I do to be a great geologist?  0.700075  \n",
              "8               When do you use \"&\" instead of \"and\"?  0.747250  \n",
              "9   How do I hack Motorola DCX3400 for free internet?  0.229920  \n",
              "10  What are some of the things technicians can te...  0.096761  \n",
              "11             How can I see all my Youtube comments?  0.517929  \n",
              "12            How can you make physics easy to learn?  0.865502  \n",
              "13             What was your first sexual experience?  0.701063  \n",
              "14  What are the laws to change your status from a...  0.396474  \n",
              "15  How will a Trump presidency affect the student...  0.526452  \n",
              "16                      What does manipulation means?  0.885455  \n",
              "17           How do guys feel after rejecting a girl?  0.387412  \n",
              "18  Why do people ask Quora questions which can be...  0.732122  \n",
              "19  Which is the best digital marketing institute ...  0.418834  "
            ]
          },
          "metadata": {
            "tags": []
          },
          "execution_count": 212
        }
      ]
    },
    {
      "metadata": {
        "id": "qh3afEBXGD0v",
        "colab_type": "code",
        "colab": {}
      },
      "cell_type": "code",
      "source": [
        ""
      ],
      "execution_count": 0,
      "outputs": []
    }
  ]
}